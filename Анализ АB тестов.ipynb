{
 "cells": [
  {
   "cell_type": "markdown",
   "metadata": {},
   "source": [
    "# Проектная работа\n",
    "# Приоритезация гипотез по увеличению выручки интернет-магазина и анализ проведенного А/B теста"
   ]
  },
  {
   "cell_type": "markdown",
   "metadata": {},
   "source": [
    "**Заголовок:** Приоритезация гипотез по увеличению выручки интернет-магазина и анализ проведенного А/B теста\n",
    "\n",
    "\n",
    "**Описание проекта:** Приоритизировать гипотезы, запустить A/B-тест и проанализироавть результаты. \n",
    "\n",
    "[**Ход исследования:**](#p_1)\n",
    "1. Приоритизация гипотез.\n",
    "* С помощью фреймворка ICE выполнить приоритизацию гипотез. Сортировка их по убыванию приоритета.\n",
    "* С помощью фреймворка RICE для приоритизации гипотез. Сортировка их по убыванию приоритета.\n",
    "\n",
    "2. [Анализ A/B-теста:](#p_2)\n",
    "* [Загрузка и проверка данных.](#step_2.0)\n",
    "* [Построение графика кумулятивной выручки по группам.](#step_2.1)\n",
    "* [Построение графика кумулятивного среднего чека по группам.](#step_2.2)\n",
    "* [Построение графика относительного изменения кумулятивного среднего чека группы B к группе A.](#step_2.3)\n",
    "* [Построение графика кумулятивного среднего количества заказов на посетителя по группам.](#step_2.4)\n",
    "* [Построение графика относительного изменения кумулятивного среднего количества заказов на посетителя группы B к группе A.](#step_2.5)\n",
    "* [Построение точечного графика количества заказов по пользователям.](#step_2.6)\n",
    "* [Расчет 95-й и 99-й перцентилей количества заказов на пользователя. Выбор границы для определения аномальных пользователей.](#step_2.7)\n",
    "* [Построение точечного графика стоимостей заказов.](#step_2.8)\n",
    "* [Расчет 95-й и 99-й перцентилей стоимости заказов. Выбор границы для определения аномальных заказов.](#step_2.9)\n",
    "* [Расчет статистической значимости различий в среднем количестве заказов на посетителя между группами по «сырым» данным.](#step_2.10)\n",
    "* [Расчет статистической значимости различий в среднем чеке заказа между группами по «сырым» данным.](#step_2.11)\n",
    "* [Расчет статистической значимости различий в среднем количестве заказов на посетителя между группами по «очищенным» данным.](#step_2.12) \n",
    "* [Расчет статистической значимости различий в среднем чеке заказа между группами по «очищенным» данным.](#step_2.13)\n",
    "* [Принятие решение по результатам теста.](#step_2.14)\n",
    "\n",
    "[**Общий вывод:**](#final)\n",
    "1. Приоритизация гипотез:\n",
    "\n",
    "Выяснить, как изменилась приоритизация гипотез при применении RICE вместо ICE. Сделать выводы почему так произошло.\n",
    "\n",
    "2. Анализ A/B-теста:\n",
    "\n",
    "Принять решение по результатам теста и объяснение этого решения.\n"
   ]
  },
  {
   "cell_type": "code",
   "execution_count": 1,
   "metadata": {},
   "outputs": [],
   "source": [
    "# Импортирование необходимых библиотек\n",
    "import pandas as pd\n",
    "import datetime as dt\n",
    "import numpy as np\n",
    "import matplotlib.pyplot as plt\n",
    "import seaborn as sns\n",
    "import scipy.stats as stats"
   ]
  },
  {
   "cell_type": "markdown",
   "metadata": {},
   "source": [
    "**Часть 1.** \n",
    "\n",
    "**Приоритизация гипотез.**\n",
    "<a id=\"p_1\"></a>"
   ]
  },
  {
   "cell_type": "code",
   "execution_count": 2,
   "metadata": {},
   "outputs": [
    {
     "data": {
      "text/html": [
       "<div>\n",
       "<style scoped>\n",
       "    .dataframe tbody tr th:only-of-type {\n",
       "        vertical-align: middle;\n",
       "    }\n",
       "\n",
       "    .dataframe tbody tr th {\n",
       "        vertical-align: top;\n",
       "    }\n",
       "\n",
       "    .dataframe thead th {\n",
       "        text-align: right;\n",
       "    }\n",
       "</style>\n",
       "<table border=\"1\" class=\"dataframe\">\n",
       "  <thead>\n",
       "    <tr style=\"text-align: right;\">\n",
       "      <th></th>\n",
       "      <th>hypothesis</th>\n",
       "      <th>reach</th>\n",
       "      <th>impact</th>\n",
       "      <th>confidence</th>\n",
       "      <th>efforts</th>\n",
       "    </tr>\n",
       "  </thead>\n",
       "  <tbody>\n",
       "    <tr>\n",
       "      <th>0</th>\n",
       "      <td>Добавить два новых канала привлечения трафика,...</td>\n",
       "      <td>3</td>\n",
       "      <td>10</td>\n",
       "      <td>8</td>\n",
       "      <td>6</td>\n",
       "    </tr>\n",
       "    <tr>\n",
       "      <th>1</th>\n",
       "      <td>Запустить собственную службу доставки, что сок...</td>\n",
       "      <td>2</td>\n",
       "      <td>5</td>\n",
       "      <td>4</td>\n",
       "      <td>10</td>\n",
       "    </tr>\n",
       "    <tr>\n",
       "      <th>2</th>\n",
       "      <td>Добавить блоки рекомендаций товаров на сайт ин...</td>\n",
       "      <td>8</td>\n",
       "      <td>3</td>\n",
       "      <td>7</td>\n",
       "      <td>3</td>\n",
       "    </tr>\n",
       "    <tr>\n",
       "      <th>3</th>\n",
       "      <td>Изменить структура категорий, что увеличит кон...</td>\n",
       "      <td>8</td>\n",
       "      <td>3</td>\n",
       "      <td>3</td>\n",
       "      <td>8</td>\n",
       "    </tr>\n",
       "    <tr>\n",
       "      <th>4</th>\n",
       "      <td>Изменить цвет фона главной страницы, чтобы уве...</td>\n",
       "      <td>3</td>\n",
       "      <td>1</td>\n",
       "      <td>1</td>\n",
       "      <td>1</td>\n",
       "    </tr>\n",
       "    <tr>\n",
       "      <th>5</th>\n",
       "      <td>Добавить страницу отзывов клиентов о магазине,...</td>\n",
       "      <td>3</td>\n",
       "      <td>2</td>\n",
       "      <td>2</td>\n",
       "      <td>3</td>\n",
       "    </tr>\n",
       "    <tr>\n",
       "      <th>6</th>\n",
       "      <td>Показать на главной странице баннеры с актуаль...</td>\n",
       "      <td>5</td>\n",
       "      <td>3</td>\n",
       "      <td>8</td>\n",
       "      <td>3</td>\n",
       "    </tr>\n",
       "    <tr>\n",
       "      <th>7</th>\n",
       "      <td>Добавить форму подписки на все основные страни...</td>\n",
       "      <td>10</td>\n",
       "      <td>7</td>\n",
       "      <td>8</td>\n",
       "      <td>5</td>\n",
       "    </tr>\n",
       "    <tr>\n",
       "      <th>8</th>\n",
       "      <td>Запустить акцию, дающую скидку на товар в день...</td>\n",
       "      <td>1</td>\n",
       "      <td>9</td>\n",
       "      <td>9</td>\n",
       "      <td>5</td>\n",
       "    </tr>\n",
       "  </tbody>\n",
       "</table>\n",
       "</div>"
      ],
      "text/plain": [
       "                                          hypothesis  reach  impact  \\\n",
       "0  Добавить два новых канала привлечения трафика,...      3      10   \n",
       "1  Запустить собственную службу доставки, что сок...      2       5   \n",
       "2  Добавить блоки рекомендаций товаров на сайт ин...      8       3   \n",
       "3  Изменить структура категорий, что увеличит кон...      8       3   \n",
       "4  Изменить цвет фона главной страницы, чтобы уве...      3       1   \n",
       "5  Добавить страницу отзывов клиентов о магазине,...      3       2   \n",
       "6  Показать на главной странице баннеры с актуаль...      5       3   \n",
       "7  Добавить форму подписки на все основные страни...     10       7   \n",
       "8  Запустить акцию, дающую скидку на товар в день...      1       9   \n",
       "\n",
       "   confidence  efforts  \n",
       "0           8        6  \n",
       "1           4       10  \n",
       "2           7        3  \n",
       "3           3        8  \n",
       "4           1        1  \n",
       "5           2        3  \n",
       "6           8        3  \n",
       "7           8        5  \n",
       "8           9        5  "
      ]
     },
     "execution_count": 2,
     "metadata": {},
     "output_type": "execute_result"
    }
   ],
   "source": [
    "# Загружаем датафрейм \n",
    "hyp_df = pd.read_csv('/datasets/hypothesis.csv', sep=',')\n",
    "# Приводим наименование полей к нижнему регистру\n",
    "hyp_df.columns = hyp_df.columns.str.lower()\n",
    "hyp_df"
   ]
  },
  {
   "cell_type": "code",
   "execution_count": 3,
   "metadata": {},
   "outputs": [
    {
     "data": {
      "text/html": [
       "<div>\n",
       "<style scoped>\n",
       "    .dataframe tbody tr th:only-of-type {\n",
       "        vertical-align: middle;\n",
       "    }\n",
       "\n",
       "    .dataframe tbody tr th {\n",
       "        vertical-align: top;\n",
       "    }\n",
       "\n",
       "    .dataframe thead th {\n",
       "        text-align: right;\n",
       "    }\n",
       "</style>\n",
       "<table border=\"1\" class=\"dataframe\">\n",
       "  <thead>\n",
       "    <tr style=\"text-align: right;\">\n",
       "      <th></th>\n",
       "      <th>hypothesis</th>\n",
       "      <th>ICE</th>\n",
       "    </tr>\n",
       "  </thead>\n",
       "  <tbody>\n",
       "    <tr>\n",
       "      <th>8</th>\n",
       "      <td>Запустить акцию, дающую скидку на товар в день рождения</td>\n",
       "      <td>16.2</td>\n",
       "    </tr>\n",
       "    <tr>\n",
       "      <th>0</th>\n",
       "      <td>Добавить два новых канала привлечения трафика, что позволит привлекать на 30% больше пользователей</td>\n",
       "      <td>13.3</td>\n",
       "    </tr>\n",
       "    <tr>\n",
       "      <th>7</th>\n",
       "      <td>Добавить форму подписки на все основные страницы, чтобы собрать базу клиентов для email-рассылок</td>\n",
       "      <td>11.2</td>\n",
       "    </tr>\n",
       "    <tr>\n",
       "      <th>6</th>\n",
       "      <td>Показать на главной странице баннеры с актуальными акциями и распродажами, чтобы увеличить конверсию</td>\n",
       "      <td>8.0</td>\n",
       "    </tr>\n",
       "    <tr>\n",
       "      <th>2</th>\n",
       "      <td>Добавить блоки рекомендаций товаров на сайт интернет магазина, чтобы повысить конверсию и средний чек заказа</td>\n",
       "      <td>7.0</td>\n",
       "    </tr>\n",
       "    <tr>\n",
       "      <th>1</th>\n",
       "      <td>Запустить собственную службу доставки, что сократит срок доставки заказов</td>\n",
       "      <td>2.0</td>\n",
       "    </tr>\n",
       "    <tr>\n",
       "      <th>5</th>\n",
       "      <td>Добавить страницу отзывов клиентов о магазине, что позволит увеличить количество заказов</td>\n",
       "      <td>1.3</td>\n",
       "    </tr>\n",
       "    <tr>\n",
       "      <th>3</th>\n",
       "      <td>Изменить структура категорий, что увеличит конверсию, т.к. пользователи быстрее найдут нужный товар</td>\n",
       "      <td>1.1</td>\n",
       "    </tr>\n",
       "    <tr>\n",
       "      <th>4</th>\n",
       "      <td>Изменить цвет фона главной страницы, чтобы увеличить вовлеченность пользователей</td>\n",
       "      <td>1.0</td>\n",
       "    </tr>\n",
       "  </tbody>\n",
       "</table>\n",
       "</div>"
      ],
      "text/plain": [
       "                                                                                                     hypothesis  \\\n",
       "8                                                       Запустить акцию, дающую скидку на товар в день рождения   \n",
       "0            Добавить два новых канала привлечения трафика, что позволит привлекать на 30% больше пользователей   \n",
       "7              Добавить форму подписки на все основные страницы, чтобы собрать базу клиентов для email-рассылок   \n",
       "6          Показать на главной странице баннеры с актуальными акциями и распродажами, чтобы увеличить конверсию   \n",
       "2  Добавить блоки рекомендаций товаров на сайт интернет магазина, чтобы повысить конверсию и средний чек заказа   \n",
       "1                                     Запустить собственную службу доставки, что сократит срок доставки заказов   \n",
       "5                      Добавить страницу отзывов клиентов о магазине, что позволит увеличить количество заказов   \n",
       "3           Изменить структура категорий, что увеличит конверсию, т.к. пользователи быстрее найдут нужный товар   \n",
       "4                              Изменить цвет фона главной страницы, чтобы увеличить вовлеченность пользователей   \n",
       "\n",
       "    ICE  \n",
       "8  16.2  \n",
       "0  13.3  \n",
       "7  11.2  \n",
       "6   8.0  \n",
       "2   7.0  \n",
       "1   2.0  \n",
       "5   1.3  \n",
       "3   1.1  \n",
       "4   1.0  "
      ]
     },
     "execution_count": 3,
     "metadata": {},
     "output_type": "execute_result"
    }
   ],
   "source": [
    "pd.options.display.max_colwidth = 210\n",
    "# Считаем приоритизацию гипотез с помощью фраймворка ICE\n",
    "hyp_df['ICE'] = round(hyp_df['impact'] *  hyp_df['confidence'] / hyp_df['efforts'], 1) \n",
    "# Сортируем по убыванию приоритета\n",
    "hyp_df[['hypothesis', 'ICE']].sort_values(by='ICE', ascending=False)\n"
   ]
  },
  {
   "cell_type": "code",
   "execution_count": 4,
   "metadata": {},
   "outputs": [
    {
     "data": {
      "text/html": [
       "<div>\n",
       "<style scoped>\n",
       "    .dataframe tbody tr th:only-of-type {\n",
       "        vertical-align: middle;\n",
       "    }\n",
       "\n",
       "    .dataframe tbody tr th {\n",
       "        vertical-align: top;\n",
       "    }\n",
       "\n",
       "    .dataframe thead th {\n",
       "        text-align: right;\n",
       "    }\n",
       "</style>\n",
       "<table border=\"1\" class=\"dataframe\">\n",
       "  <thead>\n",
       "    <tr style=\"text-align: right;\">\n",
       "      <th></th>\n",
       "      <th>hypothesis</th>\n",
       "      <th>RICE</th>\n",
       "    </tr>\n",
       "  </thead>\n",
       "  <tbody>\n",
       "    <tr>\n",
       "      <th>7</th>\n",
       "      <td>Добавить форму подписки на все основные страницы, чтобы собрать базу клиентов для email-рассылок</td>\n",
       "      <td>112.0</td>\n",
       "    </tr>\n",
       "    <tr>\n",
       "      <th>2</th>\n",
       "      <td>Добавить блоки рекомендаций товаров на сайт интернет магазина, чтобы повысить конверсию и средний чек заказа</td>\n",
       "      <td>56.0</td>\n",
       "    </tr>\n",
       "    <tr>\n",
       "      <th>0</th>\n",
       "      <td>Добавить два новых канала привлечения трафика, что позволит привлекать на 30% больше пользователей</td>\n",
       "      <td>40.0</td>\n",
       "    </tr>\n",
       "    <tr>\n",
       "      <th>6</th>\n",
       "      <td>Показать на главной странице баннеры с актуальными акциями и распродажами, чтобы увеличить конверсию</td>\n",
       "      <td>40.0</td>\n",
       "    </tr>\n",
       "    <tr>\n",
       "      <th>8</th>\n",
       "      <td>Запустить акцию, дающую скидку на товар в день рождения</td>\n",
       "      <td>16.2</td>\n",
       "    </tr>\n",
       "    <tr>\n",
       "      <th>3</th>\n",
       "      <td>Изменить структура категорий, что увеличит конверсию, т.к. пользователи быстрее найдут нужный товар</td>\n",
       "      <td>9.0</td>\n",
       "    </tr>\n",
       "    <tr>\n",
       "      <th>1</th>\n",
       "      <td>Запустить собственную службу доставки, что сократит срок доставки заказов</td>\n",
       "      <td>4.0</td>\n",
       "    </tr>\n",
       "    <tr>\n",
       "      <th>5</th>\n",
       "      <td>Добавить страницу отзывов клиентов о магазине, что позволит увеличить количество заказов</td>\n",
       "      <td>4.0</td>\n",
       "    </tr>\n",
       "    <tr>\n",
       "      <th>4</th>\n",
       "      <td>Изменить цвет фона главной страницы, чтобы увеличить вовлеченность пользователей</td>\n",
       "      <td>3.0</td>\n",
       "    </tr>\n",
       "  </tbody>\n",
       "</table>\n",
       "</div>"
      ],
      "text/plain": [
       "                                                                                                     hypothesis  \\\n",
       "7              Добавить форму подписки на все основные страницы, чтобы собрать базу клиентов для email-рассылок   \n",
       "2  Добавить блоки рекомендаций товаров на сайт интернет магазина, чтобы повысить конверсию и средний чек заказа   \n",
       "0            Добавить два новых канала привлечения трафика, что позволит привлекать на 30% больше пользователей   \n",
       "6          Показать на главной странице баннеры с актуальными акциями и распродажами, чтобы увеличить конверсию   \n",
       "8                                                       Запустить акцию, дающую скидку на товар в день рождения   \n",
       "3           Изменить структура категорий, что увеличит конверсию, т.к. пользователи быстрее найдут нужный товар   \n",
       "1                                     Запустить собственную службу доставки, что сократит срок доставки заказов   \n",
       "5                      Добавить страницу отзывов клиентов о магазине, что позволит увеличить количество заказов   \n",
       "4                              Изменить цвет фона главной страницы, чтобы увеличить вовлеченность пользователей   \n",
       "\n",
       "    RICE  \n",
       "7  112.0  \n",
       "2   56.0  \n",
       "0   40.0  \n",
       "6   40.0  \n",
       "8   16.2  \n",
       "3    9.0  \n",
       "1    4.0  \n",
       "5    4.0  \n",
       "4    3.0  "
      ]
     },
     "execution_count": 4,
     "metadata": {},
     "output_type": "execute_result"
    }
   ],
   "source": [
    "# Считаем приоритизацию гипотез с помощью фраймворка RICE\n",
    "hyp_df['RICE'] = hyp_df['reach'] * hyp_df['impact'] *  hyp_df['confidence'] / hyp_df['efforts']\n",
    "# Сортируем по убыванию приоритета\n",
    "hyp_df[['hypothesis', 'RICE']].sort_values(by='RICE', ascending=False)"
   ]
  },
  {
   "cell_type": "markdown",
   "metadata": {},
   "source": [
    "**Выводы по первой части:**\n",
    "\n",
    "Приоритизация гипотез меняется в зависимости от применяемого метода расчета (ICE или RICE). Это происходит потому, что в формуле расчета с помощью фреймворка RICE есть множитель *reach* (охват пользователей), в то время как в расчете с помощью фреймворка ICE этого множителя нет. Соответственно, параметр *reach* вносит изменения в приоритизацию гипотез с помощью метода RICE: чем выше охват пользователей, тем выше приоритизация гипотезы."
   ]
  },
  {
   "cell_type": "markdown",
   "metadata": {},
   "source": [
    "**Часть 2.** \n",
    "\n",
    "**Анализ A/B-теста.**\n",
    "<a id=\"p_2\"></a>"
   ]
  },
  {
   "cell_type": "markdown",
   "metadata": {},
   "source": [
    "Выполним загрузку и проверку исходных данных.\n",
    "<a id=\"step_2.0\"></a>"
   ]
  },
  {
   "cell_type": "code",
   "execution_count": 5,
   "metadata": {},
   "outputs": [
    {
     "name": "stdout",
     "output_type": "stream",
     "text": [
      "      transactionId   visitorId        date  revenue group\n",
      "0        3667963787  3312258926  2019-08-15     1650     B\n",
      "1        2804400009  3642806036  2019-08-15      730     B\n",
      "2        2961555356  4069496402  2019-08-15      400     A\n",
      "3        3797467345  1196621759  2019-08-15     9759     B\n",
      "4        2282983706  2322279887  2019-08-15     2308     B\n",
      "...             ...         ...         ...      ...   ...\n",
      "1192     2662137336  3733762160  2019-08-14     6490     B\n",
      "1193     2203539145   370388673  2019-08-14     3190     A\n",
      "1194     1807773912   573423106  2019-08-14    10550     A\n",
      "1195     1947021204  1614305549  2019-08-14      100     A\n",
      "1196     3936777065  2108080724  2019-08-15   202740     B\n",
      "\n",
      "[1197 rows x 5 columns]\n",
      "\n",
      "\n",
      "\n",
      "<class 'pandas.core.frame.DataFrame'>\n",
      "RangeIndex: 1197 entries, 0 to 1196\n",
      "Data columns (total 5 columns):\n",
      " #   Column         Non-Null Count  Dtype \n",
      "---  ------         --------------  ----- \n",
      " 0   transactionId  1197 non-null   int64 \n",
      " 1   visitorId      1197 non-null   int64 \n",
      " 2   date           1197 non-null   object\n",
      " 3   revenue        1197 non-null   int64 \n",
      " 4   group          1197 non-null   object\n",
      "dtypes: int64(3), object(2)\n",
      "memory usage: 46.9+ KB\n",
      "None\n"
     ]
    }
   ],
   "source": [
    "# Загрузка датасета заказов. Сразу преобразуем поле date к формату datetime64. \n",
    "# Выведем на экран датафрейм и информацию о нем.\n",
    "orders = pd.read_csv('/datasets/orders.csv', sep=',', parse_dates=['date'])\n",
    "orders['date'] = orders['date'].dt.date\n",
    "print(orders)\n",
    "print('\\n'*2)\n",
    "print(orders.info())"
   ]
  },
  {
   "cell_type": "code",
   "execution_count": 6,
   "metadata": {},
   "outputs": [
    {
     "name": "stdout",
     "output_type": "stream",
     "text": [
      "          date group  visitors\n",
      "0   2019-08-01     A       719\n",
      "1   2019-08-02     A       619\n",
      "2   2019-08-03     A       507\n",
      "3   2019-08-04     A       717\n",
      "4   2019-08-05     A       756\n",
      "..         ...   ...       ...\n",
      "57  2019-08-27     B       720\n",
      "58  2019-08-28     B       654\n",
      "59  2019-08-29     B       531\n",
      "60  2019-08-30     B       490\n",
      "61  2019-08-31     B       718\n",
      "\n",
      "[62 rows x 3 columns]\n",
      "\n",
      "\n",
      "\n",
      "<class 'pandas.core.frame.DataFrame'>\n",
      "RangeIndex: 62 entries, 0 to 61\n",
      "Data columns (total 3 columns):\n",
      " #   Column    Non-Null Count  Dtype \n",
      "---  ------    --------------  ----- \n",
      " 0   date      62 non-null     object\n",
      " 1   group     62 non-null     object\n",
      " 2   visitors  62 non-null     int64 \n",
      "dtypes: int64(1), object(2)\n",
      "memory usage: 1.6+ KB\n",
      "None\n"
     ]
    }
   ],
   "source": [
    "# Загрузка датасета пользвателей. Сразу преобразуем поле date к формату datetime64. \n",
    "# Выведем на экран датафрейм и информацию о нем.\n",
    "visitors = pd.read_csv('/datasets/visitors.csv', sep=',', parse_dates=['date'])\n",
    "visitors['date'] = visitors['date'].dt.date\n",
    "print(visitors)\n",
    "print('\\n'*2)\n",
    "print(visitors.info())"
   ]
  },
  {
   "cell_type": "code",
   "execution_count": 7,
   "metadata": {},
   "outputs": [
    {
     "name": "stdout",
     "output_type": "stream",
     "text": [
      "Количество дубликатов в датайфрейме orders: 0\n",
      "Количество дубликатов в датайфрейме visitors: 0\n"
     ]
    }
   ],
   "source": [
    "# Проверим дубликаты в исходных датафреймах\n",
    "print(f'Количество дубликатов в датайфрейме orders: {orders.duplicated().sum()}') \n",
    "print(f'Количество дубликатов в датайфрейме visitors: {visitors.duplicated().sum()}') "
   ]
  },
  {
   "cell_type": "code",
   "execution_count": 8,
   "metadata": {},
   "outputs": [
    {
     "name": "stdout",
     "output_type": "stream",
     "text": [
      "Список групп в датайфрейме orders: ['B', 'A']\n",
      "Список групп в датайфрейме visitors: ['A', 'B']\n"
     ]
    }
   ],
   "source": [
    "# Проверим количество групп в исходных датафреймах\n",
    "print(f'Список групп в датайфрейме orders: {list(orders[\"group\"].unique())}')\n",
    "print(f'Список групп в датайфрейме visitors: {list(visitors[\"group\"].unique())}')"
   ]
  },
  {
   "cell_type": "code",
   "execution_count": 9,
   "metadata": {},
   "outputs": [
    {
     "name": "stdout",
     "output_type": "stream",
     "text": [
      "Дата начала теста в датайфрейме orders: 2019-08-01, Дата окончания теста в датайфрейме orders: 2019-08-31\n",
      "Дата начала теста в датайфрейме visitors: 2019-08-01, Дата окончания теста в датайфрейме visitors: 2019-08-31\n",
      "\n",
      "Даты начала и окончания теста в исходных датафреймах совпадают\n"
     ]
    }
   ],
   "source": [
    "# Проверим даты начала и окончания теста в исходных датафреймах\n",
    "print(f'Дата начала теста в датайфрейме orders: {orders[\"date\"].min()}, '\n",
    "      f'Дата окончания теста в датайфрейме orders: {orders[\"date\"].max()}')\n",
    "\n",
    "print(f'Дата начала теста в датайфрейме visitors: {visitors[\"date\"].min()}, '\n",
    "      f'Дата окончания теста в датайфрейме visitors: {visitors[\"date\"].max()}')\n",
    "print()\n",
    "\n",
    "if orders[\"date\"].min() == visitors[\"date\"].min() and orders[\"date\"].max() == visitors[\"date\"].max():\n",
    "    print('Даты начала и окончания теста в исходных датафреймах совпадают')\n",
    "else:\n",
    "    print('Даты начала и окончания теста в исходных датафреймах НЕ совпадают')"
   ]
  },
  {
   "cell_type": "code",
   "execution_count": 10,
   "metadata": {},
   "outputs": [
    {
     "data": {
      "image/png": "[encoded data removed]",
      "text/plain": [
       "<Figure size 1296x720 with 1 Axes>"
      ]
     },
     "metadata": {
      "needs_background": "light"
     },
     "output_type": "display_data"
    }
   ],
   "source": [
    "# Проверим распределение пользоватлей по группам в датафрейме visitors\n",
    "\n",
    "# Устанавливаем размер графика\n",
    "plt.figure(figsize=(18, 10))\n",
    "sns.barplot(x='date', y='visitors', hue='group', data=visitors)\n",
    "\n",
    "# Настройка графика\n",
    "plt.title('Столбчатый распределения пользователей по дням')\n",
    "plt.xlabel('Даты')\n",
    "plt.ylabel('Количество пользователей в день')\n",
    "plt.legend(title='Группа')\n",
    "# Поворот значений по оси X\n",
    "plt.xticks(rotation=90)\n",
    "# Показать график\n",
    "plt.show()\n"
   ]
  },
  {
   "cell_type": "markdown",
   "metadata": {},
   "source": [
    "На графике видим, что распределение пользователей по дням примерно одинаковое."
   ]
  },
  {
   "cell_type": "code",
   "execution_count": 11,
   "metadata": {},
   "outputs": [
    {
     "data": {
      "text/html": [
       "<div>\n",
       "<style scoped>\n",
       "    .dataframe tbody tr th:only-of-type {\n",
       "        vertical-align: middle;\n",
       "    }\n",
       "\n",
       "    .dataframe tbody tr th {\n",
       "        vertical-align: top;\n",
       "    }\n",
       "\n",
       "    .dataframe thead th {\n",
       "        text-align: right;\n",
       "    }\n",
       "</style>\n",
       "<table border=\"1\" class=\"dataframe\">\n",
       "  <thead>\n",
       "    <tr style=\"text-align: right;\">\n",
       "      <th></th>\n",
       "      <th>group</th>\n",
       "      <th>visitor_count</th>\n",
       "    </tr>\n",
       "  </thead>\n",
       "  <tbody>\n",
       "    <tr>\n",
       "      <th>0</th>\n",
       "      <td>A</td>\n",
       "      <td>557</td>\n",
       "    </tr>\n",
       "    <tr>\n",
       "      <th>1</th>\n",
       "      <td>B</td>\n",
       "      <td>640</td>\n",
       "    </tr>\n",
       "  </tbody>\n",
       "</table>\n",
       "</div>"
      ],
      "text/plain": [
       "  group  visitor_count\n",
       "0     A            557\n",
       "1     B            640"
      ]
     },
     "execution_count": 11,
     "metadata": {},
     "output_type": "execute_result"
    }
   ],
   "source": [
    "# Проверим распределение пользователей по группам в датафрейме orders\n",
    "grouped_orders = orders.groupby('group').agg(visitor_count=('visitorId', 'count')).reset_index()\n",
    "grouped_orders"
   ]
  },
  {
   "cell_type": "code",
   "execution_count": 12,
   "metadata": {},
   "outputs": [
    {
     "data": {
      "image/png": "[encoded data removed]",
      "text/plain": [
       "<Figure size 1152x720 with 1 Axes>"
      ]
     },
     "metadata": {},
     "output_type": "display_data"
    }
   ],
   "source": [
    "# Создание круговой диаграммы\n",
    "plt.figure(figsize=(16, 10))\n",
    "plt.pie(grouped_orders['visitor_count'],\n",
    "        labels=grouped_orders['group'],\n",
    "        autopct='%1.1f%%',\n",
    "        startangle=90,\n",
    "        colors=sns.color_palette(\"Set2\")[0:len(grouped_orders)])\n",
    "\n",
    "# Настройка графика\n",
    "plt.title('Соотношение пользователей групп А и В', pad=70)\n",
    "plt.axis('equal')  # Чтобы круг был кругом\n",
    "# Добавление легенды\n",
    "plt.legend(grouped_orders['group'], title=\"Группы\", loc='upper left', bbox_to_anchor=(0.9, 1.1))\n",
    "\n",
    "plt.show()"
   ]
  },
  {
   "cell_type": "markdown",
   "metadata": {},
   "source": [
    "На графике видим, что пользователей группы В больше на 7 %, что не очень хорошо для проведения А/Б теста."
   ]
  },
  {
   "cell_type": "code",
   "execution_count": 13,
   "metadata": {},
   "outputs": [
    {
     "name": "stdout",
     "output_type": "stream",
     "text": [
      "Количество полльзователей которые попали в обе группы: 58\n"
     ]
    }
   ],
   "source": [
    "# Проверим наличие пользвоателей которые попали в обе группы\n",
    "# Используем для этого пересечение множеств\n",
    "set1 = set(orders[orders['group'] == 'A']['visitorId'])\n",
    "set2 = set(orders[orders['group'] == 'B']['visitorId'])\n",
    "\n",
    "intersection = set1 & set2\n",
    "\n",
    "print(f'Количество полльзователей которые попали в обе группы: {len(intersection)}') "
   ]
  },
  {
   "cell_type": "markdown",
   "metadata": {},
   "source": [
    "Выявили 58 пользователей, которые попали в обе группы, удалим их для чистоты эксперимента."
   ]
  },
  {
   "cell_type": "code",
   "execution_count": 14,
   "metadata": {},
   "outputs": [
    {
     "data": {
      "text/html": [
       "<div>\n",
       "<style scoped>\n",
       "    .dataframe tbody tr th:only-of-type {\n",
       "        vertical-align: middle;\n",
       "    }\n",
       "\n",
       "    .dataframe tbody tr th {\n",
       "        vertical-align: top;\n",
       "    }\n",
       "\n",
       "    .dataframe thead th {\n",
       "        text-align: right;\n",
       "    }\n",
       "</style>\n",
       "<table border=\"1\" class=\"dataframe\">\n",
       "  <thead>\n",
       "    <tr style=\"text-align: right;\">\n",
       "      <th></th>\n",
       "      <th>transactionId</th>\n",
       "      <th>visitorId</th>\n",
       "      <th>date</th>\n",
       "      <th>revenue</th>\n",
       "      <th>group</th>\n",
       "    </tr>\n",
       "  </thead>\n",
       "  <tbody>\n",
       "    <tr>\n",
       "      <th>0</th>\n",
       "      <td>3667963787</td>\n",
       "      <td>3312258926</td>\n",
       "      <td>2019-08-15</td>\n",
       "      <td>1650</td>\n",
       "      <td>B</td>\n",
       "    </tr>\n",
       "    <tr>\n",
       "      <th>1</th>\n",
       "      <td>2804400009</td>\n",
       "      <td>3642806036</td>\n",
       "      <td>2019-08-15</td>\n",
       "      <td>730</td>\n",
       "      <td>B</td>\n",
       "    </tr>\n",
       "    <tr>\n",
       "      <th>3</th>\n",
       "      <td>3797467345</td>\n",
       "      <td>1196621759</td>\n",
       "      <td>2019-08-15</td>\n",
       "      <td>9759</td>\n",
       "      <td>B</td>\n",
       "    </tr>\n",
       "    <tr>\n",
       "      <th>4</th>\n",
       "      <td>2282983706</td>\n",
       "      <td>2322279887</td>\n",
       "      <td>2019-08-15</td>\n",
       "      <td>2308</td>\n",
       "      <td>B</td>\n",
       "    </tr>\n",
       "    <tr>\n",
       "      <th>5</th>\n",
       "      <td>182168103</td>\n",
       "      <td>935554773</td>\n",
       "      <td>2019-08-15</td>\n",
       "      <td>2210</td>\n",
       "      <td>B</td>\n",
       "    </tr>\n",
       "    <tr>\n",
       "      <th>...</th>\n",
       "      <td>...</td>\n",
       "      <td>...</td>\n",
       "      <td>...</td>\n",
       "      <td>...</td>\n",
       "      <td>...</td>\n",
       "    </tr>\n",
       "    <tr>\n",
       "      <th>1191</th>\n",
       "      <td>3592955527</td>\n",
       "      <td>608641596</td>\n",
       "      <td>2019-08-14</td>\n",
       "      <td>16490</td>\n",
       "      <td>B</td>\n",
       "    </tr>\n",
       "    <tr>\n",
       "      <th>1192</th>\n",
       "      <td>2662137336</td>\n",
       "      <td>3733762160</td>\n",
       "      <td>2019-08-14</td>\n",
       "      <td>6490</td>\n",
       "      <td>B</td>\n",
       "    </tr>\n",
       "    <tr>\n",
       "      <th>1193</th>\n",
       "      <td>2203539145</td>\n",
       "      <td>370388673</td>\n",
       "      <td>2019-08-14</td>\n",
       "      <td>3190</td>\n",
       "      <td>A</td>\n",
       "    </tr>\n",
       "    <tr>\n",
       "      <th>1194</th>\n",
       "      <td>1807773912</td>\n",
       "      <td>573423106</td>\n",
       "      <td>2019-08-14</td>\n",
       "      <td>10550</td>\n",
       "      <td>A</td>\n",
       "    </tr>\n",
       "    <tr>\n",
       "      <th>1196</th>\n",
       "      <td>3936777065</td>\n",
       "      <td>2108080724</td>\n",
       "      <td>2019-08-15</td>\n",
       "      <td>202740</td>\n",
       "      <td>B</td>\n",
       "    </tr>\n",
       "  </tbody>\n",
       "</table>\n",
       "<p>1016 rows × 5 columns</p>\n",
       "</div>"
      ],
      "text/plain": [
       "      transactionId   visitorId        date  revenue group\n",
       "0        3667963787  3312258926  2019-08-15     1650     B\n",
       "1        2804400009  3642806036  2019-08-15      730     B\n",
       "3        3797467345  1196621759  2019-08-15     9759     B\n",
       "4        2282983706  2322279887  2019-08-15     2308     B\n",
       "5         182168103   935554773  2019-08-15     2210     B\n",
       "...             ...         ...         ...      ...   ...\n",
       "1191     3592955527   608641596  2019-08-14    16490     B\n",
       "1192     2662137336  3733762160  2019-08-14     6490     B\n",
       "1193     2203539145   370388673  2019-08-14     3190     A\n",
       "1194     1807773912   573423106  2019-08-14    10550     A\n",
       "1196     3936777065  2108080724  2019-08-15   202740     B\n",
       "\n",
       "[1016 rows x 5 columns]"
      ]
     },
     "execution_count": 14,
     "metadata": {},
     "output_type": "execute_result"
    }
   ],
   "source": [
    "# Удаление пользователей которые попали в обе группы\n",
    "orders = orders[~orders['visitorId'].isin(list(intersection))]\n",
    "orders"
   ]
  },
  {
   "cell_type": "markdown",
   "metadata": {},
   "source": [
    "**2.1 Построение графика кумулятивной выручки по группам.**\n",
    "<a id=\"step_2.1\"></a>"
   ]
  },
  {
   "cell_type": "code",
   "execution_count": 15,
   "metadata": {},
   "outputs": [
    {
     "data": {
      "text/html": [
       "<div>\n",
       "<style scoped>\n",
       "    .dataframe tbody tr th:only-of-type {\n",
       "        vertical-align: middle;\n",
       "    }\n",
       "\n",
       "    .dataframe tbody tr th {\n",
       "        vertical-align: top;\n",
       "    }\n",
       "\n",
       "    .dataframe thead th {\n",
       "        text-align: right;\n",
       "    }\n",
       "</style>\n",
       "<table border=\"1\" class=\"dataframe\">\n",
       "  <thead>\n",
       "    <tr style=\"text-align: right;\">\n",
       "      <th></th>\n",
       "      <th>date</th>\n",
       "      <th>group</th>\n",
       "      <th>cumul_transaction</th>\n",
       "      <th>cumul_buyers</th>\n",
       "      <th>cumul_revenue</th>\n",
       "    </tr>\n",
       "  </thead>\n",
       "  <tbody>\n",
       "    <tr>\n",
       "      <th>55</th>\n",
       "      <td>2019-08-01</td>\n",
       "      <td>A</td>\n",
       "      <td>23</td>\n",
       "      <td>19</td>\n",
       "      <td>142779</td>\n",
       "    </tr>\n",
       "    <tr>\n",
       "      <th>66</th>\n",
       "      <td>2019-08-01</td>\n",
       "      <td>B</td>\n",
       "      <td>17</td>\n",
       "      <td>17</td>\n",
       "      <td>59758</td>\n",
       "    </tr>\n",
       "    <tr>\n",
       "      <th>175</th>\n",
       "      <td>2019-08-02</td>\n",
       "      <td>A</td>\n",
       "      <td>42</td>\n",
       "      <td>36</td>\n",
       "      <td>234381</td>\n",
       "    </tr>\n",
       "    <tr>\n",
       "      <th>173</th>\n",
       "      <td>2019-08-02</td>\n",
       "      <td>B</td>\n",
       "      <td>40</td>\n",
       "      <td>39</td>\n",
       "      <td>221801</td>\n",
       "    </tr>\n",
       "    <tr>\n",
       "      <th>291</th>\n",
       "      <td>2019-08-03</td>\n",
       "      <td>A</td>\n",
       "      <td>66</td>\n",
       "      <td>60</td>\n",
       "      <td>346854</td>\n",
       "    </tr>\n",
       "    <tr>\n",
       "      <th>...</th>\n",
       "      <td>...</td>\n",
       "      <td>...</td>\n",
       "      <td>...</td>\n",
       "      <td>...</td>\n",
       "      <td>...</td>\n",
       "    </tr>\n",
       "    <tr>\n",
       "      <th>533</th>\n",
       "      <td>2019-08-29</td>\n",
       "      <td>B</td>\n",
       "      <td>510</td>\n",
       "      <td>490</td>\n",
       "      <td>4746610</td>\n",
       "    </tr>\n",
       "    <tr>\n",
       "      <th>757</th>\n",
       "      <td>2019-08-30</td>\n",
       "      <td>A</td>\n",
       "      <td>460</td>\n",
       "      <td>437</td>\n",
       "      <td>3311413</td>\n",
       "    </tr>\n",
       "    <tr>\n",
       "      <th>690</th>\n",
       "      <td>2019-08-30</td>\n",
       "      <td>B</td>\n",
       "      <td>531</td>\n",
       "      <td>511</td>\n",
       "      <td>4955833</td>\n",
       "    </tr>\n",
       "    <tr>\n",
       "      <th>958</th>\n",
       "      <td>2019-08-31</td>\n",
       "      <td>A</td>\n",
       "      <td>468</td>\n",
       "      <td>445</td>\n",
       "      <td>3364656</td>\n",
       "    </tr>\n",
       "    <tr>\n",
       "      <th>930</th>\n",
       "      <td>2019-08-31</td>\n",
       "      <td>B</td>\n",
       "      <td>548</td>\n",
       "      <td>528</td>\n",
       "      <td>5068972</td>\n",
       "    </tr>\n",
       "  </tbody>\n",
       "</table>\n",
       "<p>62 rows × 5 columns</p>\n",
       "</div>"
      ],
      "text/plain": [
       "           date group  cumul_transaction  cumul_buyers  cumul_revenue\n",
       "55   2019-08-01     A                 23            19         142779\n",
       "66   2019-08-01     B                 17            17          59758\n",
       "175  2019-08-02     A                 42            36         234381\n",
       "173  2019-08-02     B                 40            39         221801\n",
       "291  2019-08-03     A                 66            60         346854\n",
       "..          ...   ...                ...           ...            ...\n",
       "533  2019-08-29     B                510           490        4746610\n",
       "757  2019-08-30     A                460           437        3311413\n",
       "690  2019-08-30     B                531           511        4955833\n",
       "958  2019-08-31     A                468           445        3364656\n",
       "930  2019-08-31     B                548           528        5068972\n",
       "\n",
       "[62 rows x 5 columns]"
      ]
     },
     "execution_count": 15,
     "metadata": {},
     "output_type": "execute_result"
    }
   ],
   "source": [
    "# создаем массив уникальных пар значений дат и групп теста\n",
    "datesGroups = orders[['date', 'group']].drop_duplicates()\n",
    "# получаем агрегированные кумулятивные по дням данные о заказах \n",
    "ordersAggregated = datesGroups.apply(lambda x: orders[np.logical_and(orders['date'] <= x['date'], orders['group'] == x['group'])].agg(\n",
    "    {'date' : 'max', \n",
    "     'group' : 'max', \n",
    "     'transactionId' : 'nunique', \n",
    "     'visitorId' : 'nunique', \n",
    "     'revenue' : 'sum'}), axis=1).sort_values(by=['date','group'])\n",
    "\n",
    "#Переименовываем столбцы\n",
    "ordersAggregated.columns = (['date', 'group', 'cumul_transaction', 'cumul_buyers', 'cumul_revenue',])\n",
    "\n",
    "ordersAggregated"
   ]
  },
  {
   "cell_type": "code",
   "execution_count": 16,
   "metadata": {},
   "outputs": [
    {
     "data": {
      "text/html": [
       "<div>\n",
       "<style scoped>\n",
       "    .dataframe tbody tr th:only-of-type {\n",
       "        vertical-align: middle;\n",
       "    }\n",
       "\n",
       "    .dataframe tbody tr th {\n",
       "        vertical-align: top;\n",
       "    }\n",
       "\n",
       "    .dataframe thead th {\n",
       "        text-align: right;\n",
       "    }\n",
       "</style>\n",
       "<table border=\"1\" class=\"dataframe\">\n",
       "  <thead>\n",
       "    <tr style=\"text-align: right;\">\n",
       "      <th></th>\n",
       "      <th>date</th>\n",
       "      <th>group</th>\n",
       "      <th>cumul_visitors</th>\n",
       "    </tr>\n",
       "  </thead>\n",
       "  <tbody>\n",
       "    <tr>\n",
       "      <th>55</th>\n",
       "      <td>2019-08-01</td>\n",
       "      <td>A</td>\n",
       "      <td>719</td>\n",
       "    </tr>\n",
       "    <tr>\n",
       "      <th>66</th>\n",
       "      <td>2019-08-01</td>\n",
       "      <td>B</td>\n",
       "      <td>713</td>\n",
       "    </tr>\n",
       "    <tr>\n",
       "      <th>175</th>\n",
       "      <td>2019-08-02</td>\n",
       "      <td>A</td>\n",
       "      <td>1338</td>\n",
       "    </tr>\n",
       "    <tr>\n",
       "      <th>173</th>\n",
       "      <td>2019-08-02</td>\n",
       "      <td>B</td>\n",
       "      <td>1294</td>\n",
       "    </tr>\n",
       "    <tr>\n",
       "      <th>291</th>\n",
       "      <td>2019-08-03</td>\n",
       "      <td>A</td>\n",
       "      <td>1845</td>\n",
       "    </tr>\n",
       "    <tr>\n",
       "      <th>...</th>\n",
       "      <td>...</td>\n",
       "      <td>...</td>\n",
       "      <td>...</td>\n",
       "    </tr>\n",
       "    <tr>\n",
       "      <th>533</th>\n",
       "      <td>2019-08-29</td>\n",
       "      <td>B</td>\n",
       "      <td>17708</td>\n",
       "    </tr>\n",
       "    <tr>\n",
       "      <th>757</th>\n",
       "      <td>2019-08-30</td>\n",
       "      <td>A</td>\n",
       "      <td>18037</td>\n",
       "    </tr>\n",
       "    <tr>\n",
       "      <th>690</th>\n",
       "      <td>2019-08-30</td>\n",
       "      <td>B</td>\n",
       "      <td>18198</td>\n",
       "    </tr>\n",
       "    <tr>\n",
       "      <th>958</th>\n",
       "      <td>2019-08-31</td>\n",
       "      <td>A</td>\n",
       "      <td>18736</td>\n",
       "    </tr>\n",
       "    <tr>\n",
       "      <th>930</th>\n",
       "      <td>2019-08-31</td>\n",
       "      <td>B</td>\n",
       "      <td>18916</td>\n",
       "    </tr>\n",
       "  </tbody>\n",
       "</table>\n",
       "<p>62 rows × 3 columns</p>\n",
       "</div>"
      ],
      "text/plain": [
       "           date group  cumul_visitors\n",
       "55   2019-08-01     A             719\n",
       "66   2019-08-01     B             713\n",
       "175  2019-08-02     A            1338\n",
       "173  2019-08-02     B            1294\n",
       "291  2019-08-03     A            1845\n",
       "..          ...   ...             ...\n",
       "533  2019-08-29     B           17708\n",
       "757  2019-08-30     A           18037\n",
       "690  2019-08-30     B           18198\n",
       "958  2019-08-31     A           18736\n",
       "930  2019-08-31     B           18916\n",
       "\n",
       "[62 rows x 3 columns]"
      ]
     },
     "execution_count": 16,
     "metadata": {},
     "output_type": "execute_result"
    }
   ],
   "source": [
    "# получаем агрегированные кумулятивные по дням данные о посетителях интернет-магазина \n",
    "visitorsAggregated = datesGroups.apply(\n",
    "    lambda x: visitors[np.logical_and(visitors['date'] <= x['date'], \n",
    "                                      visitors['group'] == x['group'])].agg({'date' : 'max', \n",
    "                                                                             'group' : 'max', \n",
    "                                                                             'visitors' : 'sum'}), axis=1).sort_values(\n",
    "    by=['date','group'])\n",
    "# Переименовываем столбцы\n",
    "visitorsAggregated.columns = (['date', 'group', 'cumul_visitors'])\n",
    "\n",
    "visitorsAggregated"
   ]
  },
  {
   "cell_type": "code",
   "execution_count": 17,
   "metadata": {},
   "outputs": [
    {
     "data": {
      "text/html": [
       "<div>\n",
       "<style scoped>\n",
       "    .dataframe tbody tr th:only-of-type {\n",
       "        vertical-align: middle;\n",
       "    }\n",
       "\n",
       "    .dataframe tbody tr th {\n",
       "        vertical-align: top;\n",
       "    }\n",
       "\n",
       "    .dataframe thead th {\n",
       "        text-align: right;\n",
       "    }\n",
       "</style>\n",
       "<table border=\"1\" class=\"dataframe\">\n",
       "  <thead>\n",
       "    <tr style=\"text-align: right;\">\n",
       "      <th></th>\n",
       "      <th>date</th>\n",
       "      <th>group</th>\n",
       "      <th>orders</th>\n",
       "      <th>buyers</th>\n",
       "      <th>revenue</th>\n",
       "      <th>visitors</th>\n",
       "    </tr>\n",
       "  </thead>\n",
       "  <tbody>\n",
       "    <tr>\n",
       "      <th>0</th>\n",
       "      <td>2019-08-01</td>\n",
       "      <td>A</td>\n",
       "      <td>23</td>\n",
       "      <td>19</td>\n",
       "      <td>142779</td>\n",
       "      <td>719</td>\n",
       "    </tr>\n",
       "    <tr>\n",
       "      <th>1</th>\n",
       "      <td>2019-08-01</td>\n",
       "      <td>B</td>\n",
       "      <td>17</td>\n",
       "      <td>17</td>\n",
       "      <td>59758</td>\n",
       "      <td>713</td>\n",
       "    </tr>\n",
       "    <tr>\n",
       "      <th>2</th>\n",
       "      <td>2019-08-02</td>\n",
       "      <td>A</td>\n",
       "      <td>42</td>\n",
       "      <td>36</td>\n",
       "      <td>234381</td>\n",
       "      <td>1338</td>\n",
       "    </tr>\n",
       "    <tr>\n",
       "      <th>3</th>\n",
       "      <td>2019-08-02</td>\n",
       "      <td>B</td>\n",
       "      <td>40</td>\n",
       "      <td>39</td>\n",
       "      <td>221801</td>\n",
       "      <td>1294</td>\n",
       "    </tr>\n",
       "    <tr>\n",
       "      <th>4</th>\n",
       "      <td>2019-08-03</td>\n",
       "      <td>A</td>\n",
       "      <td>66</td>\n",
       "      <td>60</td>\n",
       "      <td>346854</td>\n",
       "      <td>1845</td>\n",
       "    </tr>\n",
       "    <tr>\n",
       "      <th>...</th>\n",
       "      <td>...</td>\n",
       "      <td>...</td>\n",
       "      <td>...</td>\n",
       "      <td>...</td>\n",
       "      <td>...</td>\n",
       "      <td>...</td>\n",
       "    </tr>\n",
       "    <tr>\n",
       "      <th>57</th>\n",
       "      <td>2019-08-29</td>\n",
       "      <td>B</td>\n",
       "      <td>510</td>\n",
       "      <td>490</td>\n",
       "      <td>4746610</td>\n",
       "      <td>17708</td>\n",
       "    </tr>\n",
       "    <tr>\n",
       "      <th>58</th>\n",
       "      <td>2019-08-30</td>\n",
       "      <td>A</td>\n",
       "      <td>460</td>\n",
       "      <td>437</td>\n",
       "      <td>3311413</td>\n",
       "      <td>18037</td>\n",
       "    </tr>\n",
       "    <tr>\n",
       "      <th>59</th>\n",
       "      <td>2019-08-30</td>\n",
       "      <td>B</td>\n",
       "      <td>531</td>\n",
       "      <td>511</td>\n",
       "      <td>4955833</td>\n",
       "      <td>18198</td>\n",
       "    </tr>\n",
       "    <tr>\n",
       "      <th>60</th>\n",
       "      <td>2019-08-31</td>\n",
       "      <td>A</td>\n",
       "      <td>468</td>\n",
       "      <td>445</td>\n",
       "      <td>3364656</td>\n",
       "      <td>18736</td>\n",
       "    </tr>\n",
       "    <tr>\n",
       "      <th>61</th>\n",
       "      <td>2019-08-31</td>\n",
       "      <td>B</td>\n",
       "      <td>548</td>\n",
       "      <td>528</td>\n",
       "      <td>5068972</td>\n",
       "      <td>18916</td>\n",
       "    </tr>\n",
       "  </tbody>\n",
       "</table>\n",
       "<p>62 rows × 6 columns</p>\n",
       "</div>"
      ],
      "text/plain": [
       "          date group  orders  buyers  revenue  visitors\n",
       "0   2019-08-01     A      23      19   142779       719\n",
       "1   2019-08-01     B      17      17    59758       713\n",
       "2   2019-08-02     A      42      36   234381      1338\n",
       "3   2019-08-02     B      40      39   221801      1294\n",
       "4   2019-08-03     A      66      60   346854      1845\n",
       "..         ...   ...     ...     ...      ...       ...\n",
       "57  2019-08-29     B     510     490  4746610     17708\n",
       "58  2019-08-30     A     460     437  3311413     18037\n",
       "59  2019-08-30     B     531     511  4955833     18198\n",
       "60  2019-08-31     A     468     445  3364656     18736\n",
       "61  2019-08-31     B     548     528  5068972     18916\n",
       "\n",
       "[62 rows x 6 columns]"
      ]
     },
     "execution_count": 17,
     "metadata": {},
     "output_type": "execute_result"
    }
   ],
   "source": [
    "# объединяем кумулятивные данные в одной таблице и присваиваем ее столбцам понятные названия\n",
    "cumulativeData = ordersAggregated.merge(visitorsAggregated, left_on=['date', 'group'], right_on=['date', 'group'])\n",
    "cumulativeData.columns = ['date', \n",
    "                          'group', \n",
    "                          'orders', \n",
    "                          'buyers', \n",
    "                          'revenue', \n",
    "                          'visitors']\n",
    "cumulativeData"
   ]
  },
  {
   "cell_type": "code",
   "execution_count": 18,
   "metadata": {},
   "outputs": [
    {
     "data": {
      "image/png": "[encoded data removed]",
      "text/plain": [
       "<Figure size 1152x720 with 1 Axes>"
      ]
     },
     "metadata": {
      "needs_background": "light"
     },
     "output_type": "display_data"
    }
   ],
   "source": [
    "# датафрейм с кумулятивным количеством заказов и кумулятивной выручкой по дням в группе А\n",
    "cumulativeRevenueA = cumulativeData[cumulativeData['group']=='A'][['date','revenue', 'orders']]\n",
    "\n",
    "# датафрейм с кумулятивным количеством заказов и кумулятивной выручкой по дням в группе B\n",
    "cumulativeRevenueB = cumulativeData[cumulativeData['group']=='B'][['date','revenue', 'orders']]\n",
    "\n",
    "# Устанавливаем размер графика\n",
    "plt.figure(figsize=(16, 10))\n",
    "\n",
    "# Строим график выручки группы А\n",
    "plt.plot(cumulativeRevenueA['date'], cumulativeRevenueA['revenue'], label='A')\n",
    "\n",
    "# Строим график выручки группы B\n",
    "plt.plot(cumulativeRevenueB['date'], cumulativeRevenueB['revenue'], label='B')\n",
    "\n",
    "# Добавляем заголовок\n",
    "plt.title(\"График кумулятивной выручки по группам\")\n",
    "\n",
    "# Подписи осей\n",
    "plt.xlabel(\"Даты\")\n",
    "plt.ylabel(\"Кумулятивная выручка\")\n",
    "\n",
    "# Добавляем сетку\n",
    "plt.grid(True)\n",
    "\n",
    "# Вывод значений по оси y\n",
    "plt.ticklabel_format(style='plain', axis='y')  \n",
    "\n",
    "plt.legend();"
   ]
  },
  {
   "cell_type": "markdown",
   "metadata": {},
   "source": [
    "**Выводы по пункту 2.1:**\n",
    "\n",
    "Примерно со второго дня эксперимента у сегмента B показатели лучше, чем у сегмента A. Примерно 18 июня сегмент B резко вырывается вперёд. Похоже, что в сегменте B имеются аномально большие заказы.\n"
   ]
  },
  {
   "cell_type": "markdown",
   "metadata": {},
   "source": [
    "**2.2 Построение графика кумулятивного среднего чека по группам.**\n",
    "<a id=\"step_2.2\"></a>"
   ]
  },
  {
   "cell_type": "code",
   "execution_count": 19,
   "metadata": {},
   "outputs": [
    {
     "data": {
      "image/png": "[encoded data removed]",
      "text/plain": [
       "<Figure size 1152x720 with 1 Axes>"
      ]
     },
     "metadata": {
      "needs_background": "light"
     },
     "output_type": "display_data"
    }
   ],
   "source": [
    "# Устанавливаем размер графика\n",
    "plt.figure(figsize=(16, 10))\n",
    "\n",
    "# Строим график кумулятивного среднего чека группы А\n",
    "plt.plot(cumulativeRevenueA['date'], cumulativeRevenueA['revenue']/cumulativeRevenueA['orders'], label='A')\n",
    "\n",
    "# Строим график кумулятивного среднего чека группы А\n",
    "plt.plot(cumulativeRevenueB['date'], cumulativeRevenueB['revenue']/cumulativeRevenueB['orders'], label='B')\n",
    "\n",
    "# Добавляем заголовок\n",
    "plt.title(\"График кумулятивного среднего чека по группам\")\n",
    "\n",
    "# Подписи осей\n",
    "plt.xlabel(\"Даты\")\n",
    "plt.ylabel(\"Кумулятивный средний чек\")\n",
    "\n",
    "# Добавляем сетку\n",
    "plt.grid(True)\n",
    "\n",
    "plt.legend();"
   ]
  },
  {
   "cell_type": "markdown",
   "metadata": {},
   "source": [
    "**Выводы по пункту 2.2:**\n",
    "\n",
    "По сегменту B наблюдается стабилизация среднего чека к 18 августа в районе 7000. По сегменту A виден резкий скачок 18 августа. Это означает, что в данных присутствуют аномально большие заказы, и необходимо провести дополнительный анализ на наличие выбросов."
   ]
  },
  {
   "cell_type": "markdown",
   "metadata": {},
   "source": [
    "**2.3 Построение графика относительного изменения кумулятивного среднего чека группы B к группе A.**\n",
    "<a id=\"step_2.3\"></a>"
   ]
  },
  {
   "cell_type": "code",
   "execution_count": 20,
   "metadata": {},
   "outputs": [
    {
     "data": {
      "image/png": "[encoded data removed]",
      "text/plain": [
       "<Figure size 1152x720 with 1 Axes>"
      ]
     },
     "metadata": {
      "needs_background": "light"
     },
     "output_type": "display_data"
    }
   ],
   "source": [
    "# собираем данные в одном датафрейме\n",
    "mergedCumulativeRevenue = cumulativeRevenueA.merge(\n",
    "    cumulativeRevenueB, left_on='date', right_on='date', how='left', suffixes=['A', 'B'])\n",
    "#mergedCumulativeRevenue\n",
    "\n",
    "# Устанавливаем размер графика\n",
    "plt.figure(figsize=(16, 10))\n",
    "\n",
    "# cтроим отношение средних чеков\n",
    "plt.plot(mergedCumulativeRevenue['date'], (mergedCumulativeRevenue['revenueB']/mergedCumulativeRevenue['ordersB'])/(mergedCumulativeRevenue['revenueA']/mergedCumulativeRevenue['ordersA'])-1)\n",
    "\n",
    "# добавляем ось X\n",
    "plt.axhline(y=0, color='black', linestyle='--') \n",
    "\n",
    "# Добавляем заголовок\n",
    "plt.title(\"График относительного различия для среднего чека\")\n",
    "\n",
    "# Подписи осей\n",
    "plt.xlabel(\"Даты\")\n",
    "\n",
    "\n",
    "# Добавляем сетку\n",
    "plt.grid(True)"
   ]
  },
  {
   "cell_type": "markdown",
   "metadata": {},
   "source": [
    "**Выводы по пункту 2.3:**\n",
    "\n",
    "На графике мы наблюдаем резкие взлеты и падения, возможно, вызванные аномальными заказами или выбросами."
   ]
  },
  {
   "cell_type": "markdown",
   "metadata": {},
   "source": [
    "**2.4 Построение графика кумулятивного среднего количества заказов на посетителя по группам.**\n",
    "<a id=\"step_2.4\"></a>"
   ]
  },
  {
   "cell_type": "code",
   "execution_count": 21,
   "metadata": {},
   "outputs": [],
   "source": [
    "# считаем среднее количество заказов на посетителя\n",
    "cumulativeData['conversion'] = cumulativeData['orders']/cumulativeData['visitors']\n",
    "\n",
    "# отделяем данные по группе A\n",
    "cumulativeDataA = cumulativeData[cumulativeData['group']=='A']\n",
    "\n",
    "# отделяем данные по группе B\n",
    "cumulativeDataB = cumulativeData[cumulativeData['group']=='B']\n"
   ]
  },
  {
   "cell_type": "code",
   "execution_count": 22,
   "metadata": {},
   "outputs": [
    {
     "data": {
      "image/png": "[encoded data removed]",
      "text/plain": [
       "<Figure size 1152x720 with 1 Axes>"
      ]
     },
     "metadata": {
      "needs_background": "light"
     },
     "output_type": "display_data"
    }
   ],
   "source": [
    "# Устанавливаем размер графика\n",
    "plt.figure(figsize=(16, 10))\n",
    "\n",
    "# Добавляем заголовок\n",
    "plt.title(\"График кумулятивного среднего количества заказов на посетителя по группам\")\n",
    "\n",
    "# Подписи осей\n",
    "plt.xlabel(\"Даты\")\n",
    "plt.ylabel(\"Среднеe количество заказов на посетителя\")\n",
    "\n",
    "# строим графики\n",
    "plt.plot(cumulativeDataA['date'], cumulativeDataA['conversion'], label='A')\n",
    "plt.plot(cumulativeDataB['date'], cumulativeDataB['conversion'], label='B')\n",
    "# Добавляем сетку\n",
    "plt.grid(True)\n",
    "\n",
    "plt.legend();\n",
    "\n"
   ]
  },
  {
   "cell_type": "markdown",
   "metadata": {},
   "source": [
    "**Выводы по пункту 2.4:**\n",
    "\n",
    "На графике мы наблюдаем резкий рост среднего количества заказов на человека в начале у группы А (возможно, это выбросы), далее идет снижение, после 9 августа линия стабилизируется. У группы В вначале наблюдаются резкие скачки, после 17 августа линия также стабилизируется."
   ]
  },
  {
   "cell_type": "markdown",
   "metadata": {},
   "source": [
    "**2.5 Построение графика относительного изменения кумулятивного среднего количества заказов на посетителя группы B к группе A.**\n",
    "<a id=\"step_2.5\"></a>"
   ]
  },
  {
   "cell_type": "code",
   "execution_count": 23,
   "metadata": {},
   "outputs": [
    {
     "data": {
      "image/png": "[encoded data removed]",
      "text/plain": [
       "<Figure size 1152x720 with 1 Axes>"
      ]
     },
     "metadata": {
      "needs_background": "light"
     },
     "output_type": "display_data"
    }
   ],
   "source": [
    "# Объединяем данные\n",
    "mergedCumulativeConversions = cumulativeDataA[['date','conversion']].merge(cumulativeDataB[['date','conversion']], left_on='date', right_on='date', how='left', suffixes=['A', 'B'])\n",
    "\n",
    "# Устанавливаем размер графика\n",
    "plt.figure(figsize=(16, 10))\n",
    "\n",
    "# Считаем относительный прирост заказов на посетителя и строим график\n",
    "plt.plot(mergedCumulativeConversions['date'], \n",
    "         mergedCumulativeConversions['conversionB']/mergedCumulativeConversions['conversionA']-1, \n",
    "         label=\"Относительный прирост кумулятивного среднего количества заказов на посетителя группы B относительно группы A\")\n",
    "\n",
    "# Подписи осей\n",
    "plt.xlabel(\"Даты\")\n",
    "\n",
    "\n",
    "# Добавляем горизонтальные линии для наглядности\n",
    "plt.axhline(y=0, color='black', linestyle='--')\n",
    "plt.axhline(y=0.2, color='grey', linestyle='--')\n",
    "\n",
    "# Добавляем сетку\n",
    "plt.grid(True)\n",
    "\n",
    "plt.legend();"
   ]
  },
  {
   "cell_type": "markdown",
   "metadata": {},
   "source": [
    "**Выводы по пункту 2.5:**\n",
    "\n",
    "В начале графика мы наблюдаем скачки, затем резкий рост заказов в группе В по сравнению с группой А. После 17 августа линия стабилизируется."
   ]
  },
  {
   "cell_type": "markdown",
   "metadata": {},
   "source": [
    "**2.6  Построение точечного графика количества заказов по пользователям.**\n",
    "<a id=\"step_2.6\"></a>"
   ]
  },
  {
   "cell_type": "code",
   "execution_count": 24,
   "metadata": {},
   "outputs": [
    {
     "data": {
      "text/html": [
       "<div>\n",
       "<style scoped>\n",
       "    .dataframe tbody tr th:only-of-type {\n",
       "        vertical-align: middle;\n",
       "    }\n",
       "\n",
       "    .dataframe tbody tr th {\n",
       "        vertical-align: top;\n",
       "    }\n",
       "\n",
       "    .dataframe thead th {\n",
       "        text-align: right;\n",
       "    }\n",
       "</style>\n",
       "<table border=\"1\" class=\"dataframe\">\n",
       "  <thead>\n",
       "    <tr style=\"text-align: right;\">\n",
       "      <th></th>\n",
       "      <th>userId</th>\n",
       "      <th>orders</th>\n",
       "    </tr>\n",
       "  </thead>\n",
       "  <tbody>\n",
       "    <tr>\n",
       "      <th>0</th>\n",
       "      <td>5114589</td>\n",
       "      <td>1</td>\n",
       "    </tr>\n",
       "    <tr>\n",
       "      <th>1</th>\n",
       "      <td>6958315</td>\n",
       "      <td>1</td>\n",
       "    </tr>\n",
       "    <tr>\n",
       "      <th>2</th>\n",
       "      <td>11685486</td>\n",
       "      <td>1</td>\n",
       "    </tr>\n",
       "    <tr>\n",
       "      <th>3</th>\n",
       "      <td>39475350</td>\n",
       "      <td>1</td>\n",
       "    </tr>\n",
       "    <tr>\n",
       "      <th>4</th>\n",
       "      <td>47206413</td>\n",
       "      <td>1</td>\n",
       "    </tr>\n",
       "    <tr>\n",
       "      <th>...</th>\n",
       "      <td>...</td>\n",
       "      <td>...</td>\n",
       "    </tr>\n",
       "    <tr>\n",
       "      <th>968</th>\n",
       "      <td>4259830713</td>\n",
       "      <td>1</td>\n",
       "    </tr>\n",
       "    <tr>\n",
       "      <th>969</th>\n",
       "      <td>4278982564</td>\n",
       "      <td>1</td>\n",
       "    </tr>\n",
       "    <tr>\n",
       "      <th>970</th>\n",
       "      <td>4279090005</td>\n",
       "      <td>1</td>\n",
       "    </tr>\n",
       "    <tr>\n",
       "      <th>971</th>\n",
       "      <td>4281247801</td>\n",
       "      <td>1</td>\n",
       "    </tr>\n",
       "    <tr>\n",
       "      <th>972</th>\n",
       "      <td>4283872382</td>\n",
       "      <td>1</td>\n",
       "    </tr>\n",
       "  </tbody>\n",
       "</table>\n",
       "<p>973 rows × 2 columns</p>\n",
       "</div>"
      ],
      "text/plain": [
       "         userId  orders\n",
       "0       5114589       1\n",
       "1       6958315       1\n",
       "2      11685486       1\n",
       "3      39475350       1\n",
       "4      47206413       1\n",
       "..          ...     ...\n",
       "968  4259830713       1\n",
       "969  4278982564       1\n",
       "970  4279090005       1\n",
       "971  4281247801       1\n",
       "972  4283872382       1\n",
       "\n",
       "[973 rows x 2 columns]"
      ]
     },
     "execution_count": 24,
     "metadata": {},
     "output_type": "execute_result"
    }
   ],
   "source": [
    "# Посчитаем количество заказов на каждого пользователя\n",
    "ordersByUsers = (\n",
    "    orders.groupby('visitorId', as_index=False)\n",
    "    .agg({'transactionId': 'nunique'})\n",
    ")\n",
    "# Переименуем столбцы\n",
    "ordersByUsers.columns = ['userId', 'orders']\n",
    "\n",
    "ordersByUsers"
   ]
  },
  {
   "cell_type": "code",
   "execution_count": 25,
   "metadata": {},
   "outputs": [
    {
     "data": {
      "image/png": "[encoded data removed]",
      "text/plain": [
       "<Figure size 1152x720 with 1 Axes>"
      ]
     },
     "metadata": {
      "needs_background": "light"
     },
     "output_type": "display_data"
    }
   ],
   "source": [
    "# Для оси Х на графике посчитаем серию из чисел от 0 до количества наблюдений в ordersByUsers\n",
    "x_values = pd.Series(range(0, len(ordersByUsers)))\n",
    "\n",
    "# Устанавливаем размер графика\n",
    "plt.figure(figsize=(16, 10))\n",
    "\n",
    "# Строим точечный график\n",
    "plt.scatter(x_values, ordersByUsers['orders'], label=\"Уровень количества заказов\") \n",
    "\n",
    "# Устанавливаем отметки по оси Y от 1 до максимального значения в столбце \n",
    "plt.yticks(range(1, ordersByUsers['orders'].max() + 1))\n",
    "\n",
    "# Подписи осей\n",
    "plt.xlabel(\"Пользователи\")\n",
    "plt.ylabel(\"Количество заказов\")\n",
    "\n",
    "# Добавляем сетку\n",
    "plt.grid(True)\n",
    "\n",
    "plt.legend();"
   ]
  },
  {
   "cell_type": "markdown",
   "metadata": {},
   "source": [
    "**Выводы по пункту 2.6:**\n",
    "\n",
    "Большинство пользователей сделали от 1 до 3х заказов."
   ]
  },
  {
   "cell_type": "markdown",
   "metadata": {},
   "source": [
    "**2.7  Расчет 95-й и 99-й перцентилей количества заказов на пользователя. Выбор границы для определения аномальных пользователей.**\n",
    "<a id=\"step_2.7\"></a>"
   ]
  },
  {
   "cell_type": "code",
   "execution_count": 26,
   "metadata": {},
   "outputs": [
    {
     "name": "stdout",
     "output_type": "stream",
     "text": [
      "[1. 1. 2.]\n"
     ]
    }
   ],
   "source": [
    "print(np.percentile(ordersByUsers['orders'], [90, 95, 99])) "
   ]
  },
  {
   "cell_type": "code",
   "execution_count": 27,
   "metadata": {},
   "outputs": [
    {
     "data": {
      "text/plain": [
       "2.0"
      ]
     },
     "execution_count": 27,
     "metadata": {},
     "output_type": "execute_result"
    }
   ],
   "source": [
    "# Выберем верхнюю границу заказов равнуюю 99 процентилю.\n",
    "max_orders = np.percentile(ordersByUsers['orders'], [90, 95, 99])[-1]\n",
    "max_orders"
   ]
  },
  {
   "cell_type": "markdown",
   "metadata": {},
   "source": [
    "**Выводы по пункту 2.7:**\n",
    "\n",
    "Не более 1% пользователей оформляли более 2 заказов. Выберем 2 заказа на пользователя в качестве верхней границы числа заказов."
   ]
  },
  {
   "cell_type": "markdown",
   "metadata": {},
   "source": [
    "**2.8  Построение точечного графика стоимостей заказов.**\n",
    "<a id=\"step_2.8\"></a>"
   ]
  },
  {
   "cell_type": "code",
   "execution_count": 28,
   "metadata": {},
   "outputs": [
    {
     "data": {
      "image/png": "[encoded data removed]",
      "text/plain": [
       "<Figure size 1152x720 with 1 Axes>"
      ]
     },
     "metadata": {
      "needs_background": "light"
     },
     "output_type": "display_data"
    }
   ],
   "source": [
    "# Для оси Х на графике посчитаем серию из чисел от 0 до количества заказов в orders\n",
    "x_values = pd.Series(range(0, len(orders['revenue'])))\n",
    "\n",
    "# Устанавливаем размер графика\n",
    "plt.figure(figsize=(16, 10))\n",
    "\n",
    "# Строим точечный график\n",
    "plt.scatter(x_values, orders['revenue'], label=\"Стоимость заказа\") \n",
    "\n",
    "# Подписи осей\n",
    "plt.xlabel(\"Пользователи\")\n",
    "plt.ylabel(\"Стоимость заказов\")\n",
    "\n",
    "# Вывод значений по оси y\n",
    "plt.ticklabel_format(style='plain', axis='y')  \n",
    "\n",
    "# Добавляем сетку\n",
    "plt.grid(True)\n",
    "\n",
    "plt.legend();\n"
   ]
  },
  {
   "cell_type": "markdown",
   "metadata": {},
   "source": [
    "**Выводы по пункту 2.8:**\n",
    "\n",
    "На графике мы видим аномально большой заказ стоимостью более 1,2 миллиона. Возможно, этот заказ существенно увеличивал средний чек в группе В."
   ]
  },
  {
   "cell_type": "markdown",
   "metadata": {},
   "source": [
    "**2.9 Расчет 95-й и 99-й перцентилей стоимости заказов. Выбор границы для определения аномальных заказов.**\n",
    "<a id=\"step_2.9\"></a>"
   ]
  },
  {
   "cell_type": "code",
   "execution_count": 29,
   "metadata": {},
   "outputs": [
    {
     "name": "stdout",
     "output_type": "stream",
     "text": [
      "[17990. 26785. 53904.]\n"
     ]
    }
   ],
   "source": [
    "print(np.percentile(orders['revenue'], [90, 95, 99])) "
   ]
  },
  {
   "cell_type": "code",
   "execution_count": 30,
   "metadata": {},
   "outputs": [
    {
     "data": {
      "text/plain": [
       "26785.0"
      ]
     },
     "execution_count": 30,
     "metadata": {},
     "output_type": "execute_result"
    }
   ],
   "source": [
    "# Выберем верхнюю границу стоимости заказов равную 95 процентилю.\n",
    "max_revenue = np.percentile(orders['revenue'], [90, 95, 99])[-2]\n",
    "max_revenue"
   ]
  },
  {
   "cell_type": "markdown",
   "metadata": {},
   "source": [
    "**Выводы по пункту 2.9:**\n",
    "\n",
    "Не более 5% пользователей делали заказ стоимость более 26785, и 10% пользователей делали заказ стоимость более 17990. Выберем стоимость в 26 785 в качестве верхней границы стоимости заказов."
   ]
  },
  {
   "cell_type": "markdown",
   "metadata": {},
   "source": [
    "**2.10 Расчет статистической значимости различий в среднем количестве заказов на посетителя между группами по «сырым» данным.**\n",
    "<a id=\"step_2.10\"></a>"
   ]
  },
  {
   "cell_type": "markdown",
   "metadata": {},
   "source": [
    "**Сформулируем гипотезы:** \n",
    "\n",
    "* Нулевая: различий в среднем количестве заказов между группами нет. \n",
    "* Альтернативная: различия в среднем между группами есть."
   ]
  },
  {
   "cell_type": "code",
   "execution_count": 31,
   "metadata": {},
   "outputs": [
    {
     "name": "stdout",
     "output_type": "stream",
     "text": [
      "Кумулятивное количество пользлователей группы А \n",
      "\n",
      "          date  visitorsCummulativeA\n",
      "0  2019-08-01                   719\n",
      "1  2019-08-02                  1338\n",
      "2  2019-08-03                  1845\n",
      "3  2019-08-04                  2562\n",
      "4  2019-08-05                  3318 \n",
      "\n",
      "\n",
      "Кумулятивное количество заказов и кумулятивная сумма заказов на каждую дату для группы A \n",
      "\n",
      "          date  ordersCummulativeA  revenueCummulativeA\n",
      "0  2019-08-01                  23               142779\n",
      "1  2019-08-02                  42               234381\n",
      "2  2019-08-03                  66               346854\n",
      "3  2019-08-04                  77               388030\n",
      "4  2019-08-05                  99               474413 \n",
      "\n",
      "\n"
     ]
    }
   ],
   "source": [
    "# Расчет кумулятивного количества заказов и кумулятивной суммы заказов на каждую дату для группы A \n",
    "\n",
    "# Посчитаем количество пользователей группы А на каждую дату\n",
    "visitorsADaily = visitors[visitors['group'] == 'A'][['date', 'visitors']]\n",
    "\n",
    "# Переименуем столбцы\n",
    "visitorsADaily.columns = ['date', 'visitorsPerDateA']\n",
    "\n",
    "# Посчитаем кумулятивное количество пользлователей группы А на каждую дату\n",
    "visitorsACummulative = visitorsADaily.apply(\n",
    "    lambda x: visitorsADaily[visitorsADaily['date'] <= x['date']].agg(\n",
    "        {'date': 'max', 'visitorsPerDateA': 'sum'}\n",
    "    ),\n",
    "    axis=1,\n",
    ")\n",
    "\n",
    "# Переименуем столбцы\n",
    "visitorsACummulative.columns = ['date', 'visitorsCummulativeA']\n",
    "\n",
    "print('Кумулятивное количество пользлователей группы А', '\\n'*2, \n",
    "      visitorsACummulative.head(), '\\n'*2)\n",
    "\n",
    "# Посчитаем количество заказов и суммарную выручку на каждую дату для группы А\n",
    "ordersADaily = (\n",
    "    orders[orders['group'] == 'A'][['date', 'transactionId', 'visitorId', 'revenue']]\n",
    "    .groupby('date', as_index=False)\n",
    "    .agg({'transactionId': pd.Series.nunique, 'revenue': 'sum'})\n",
    ")\n",
    "\n",
    "# Переименуем столбцы\n",
    "ordersADaily.columns = ['date', 'ordersPerDateA', 'revenuePerDateA']\n",
    "\n",
    "# Посчитаем кумулятивное количество заказов и кумулятивную сумму заказов на каждую дату для группы A\n",
    "ordersACummulative = ordersADaily.apply(\n",
    "    lambda x: ordersADaily[ordersADaily['date'] <= x['date']].agg(\n",
    "        {'date': 'max', 'ordersPerDateA': 'sum', 'revenuePerDateA': 'sum'}\n",
    "    ),\n",
    "    axis=1,\n",
    ").sort_values(by=['date'])\n",
    "\n",
    "# Переименуем столбцы\n",
    "ordersACummulative.columns = ['date', 'ordersCummulativeA', 'revenueCummulativeA',]\n",
    "\n",
    "print('Кумулятивное количество заказов и кумулятивная сумма заказов на каждую дату для группы A', '\\n'*2,\n",
    "      ordersACummulative.head(), '\\n'*2)\n"
   ]
  },
  {
   "cell_type": "code",
   "execution_count": 32,
   "metadata": {},
   "outputs": [
    {
     "name": "stdout",
     "output_type": "stream",
     "text": [
      "Кумулятивное количество пользлователей группы В \n",
      "\n",
      "           date  visitorsCummulativeB\n",
      "31  2019-08-01                   713\n",
      "32  2019-08-02                  1294\n",
      "33  2019-08-03                  1803\n",
      "34  2019-08-04                  2573\n",
      "35  2019-08-05                  3280 \n",
      "\n",
      "\n",
      "Кумулятивное количество заказов и кумулятивная сумма заказов на каждую дату для группы В \n",
      "\n",
      "          date  ordersCummulativeB  revenueCummulativeB\n",
      "0  2019-08-01                  17                59758\n",
      "1  2019-08-02                  40               221801\n",
      "2  2019-08-03                  54               288850\n",
      "3  2019-08-04                  68               385740\n",
      "4  2019-08-05                  89               475648 \n",
      "\n",
      "\n"
     ]
    }
   ],
   "source": [
    "# Расчет кумулятивного количества заказов и кумулятивной суммы заказов на каждую дату для группы В\n",
    "\n",
    "# Посчитаем количество пользователей группы В на каждую дату\n",
    "visitorsBDaily = visitors[visitors['group'] == 'B'][['date', 'visitors']]\n",
    "\n",
    "# Переименуем столбцы\n",
    "visitorsBDaily.columns = ['date', 'visitorsPerDateB']\n",
    "\n",
    "# Посчитаем кумулятивное количество пользлователей группы В на каждую дату\n",
    "visitorsBCummulative = visitorsBDaily.apply(\n",
    "    lambda x: visitorsBDaily[visitorsBDaily['date'] <= x['date']].agg(\n",
    "        {'date': 'max', 'visitorsPerDateB': 'sum'}\n",
    "    ),\n",
    "    axis=1,\n",
    ")\n",
    "\n",
    "# Переименуем столбцы\n",
    "visitorsBCummulative.columns = ['date', 'visitorsCummulativeB']\n",
    "\n",
    "print('Кумулятивное количество пользлователей группы В', '\\n'*2,\n",
    "      visitorsBCummulative.head(), '\\n'*2)\n",
    "\n",
    "\n",
    "# Посчитаем количество заказов и суммарную выручку на каждую дату для группы В\n",
    "ordersBDaily = (\n",
    "    orders[orders['group'] == 'B'][['date', 'transactionId', 'visitorId', 'revenue']]\n",
    "    .groupby('date', as_index=False)\n",
    "    .agg({'transactionId': pd.Series.nunique, 'revenue': 'sum'})\n",
    ")\n",
    "\n",
    "# Переименуем столбцы\n",
    "ordersBDaily.columns = ['date', 'ordersPerDateB', 'revenuePerDateB']\n",
    "\n",
    "# Посчитаем кумулятивное количество заказов и кумулятивную сумму заказов на каждую дату для группы В\n",
    "ordersBCummulative = ordersBDaily.apply(\n",
    "    lambda x: ordersBDaily[ordersBDaily['date'] <= x['date']].agg(\n",
    "        {'date': 'max', 'ordersPerDateB': 'sum', 'revenuePerDateB': 'sum'}\n",
    "    ),\n",
    "    axis=1,\n",
    ").sort_values(by=['date'])\n",
    "\n",
    "# Переименуем столбцы\n",
    "ordersBCummulative.columns = ['date', 'ordersCummulativeB', 'revenueCummulativeB',]\n",
    "\n",
    "print('Кумулятивное количество заказов и кумулятивная сумма заказов на каждую дату для группы В', '\\n'*2,\n",
    "      ordersBCummulative.head(), '\\n'*2)"
   ]
  },
  {
   "cell_type": "code",
   "execution_count": 33,
   "metadata": {},
   "outputs": [
    {
     "data": {
      "text/html": [
       "<div>\n",
       "<style scoped>\n",
       "    .dataframe tbody tr th:only-of-type {\n",
       "        vertical-align: middle;\n",
       "    }\n",
       "\n",
       "    .dataframe tbody tr th {\n",
       "        vertical-align: top;\n",
       "    }\n",
       "\n",
       "    .dataframe thead th {\n",
       "        text-align: right;\n",
       "    }\n",
       "</style>\n",
       "<table border=\"1\" class=\"dataframe\">\n",
       "  <thead>\n",
       "    <tr style=\"text-align: right;\">\n",
       "      <th></th>\n",
       "      <th>date</th>\n",
       "      <th>ordersPerDateA</th>\n",
       "      <th>revenuePerDateA</th>\n",
       "      <th>ordersPerDateB</th>\n",
       "      <th>revenuePerDateB</th>\n",
       "      <th>ordersCummulativeA</th>\n",
       "      <th>revenueCummulativeA</th>\n",
       "      <th>ordersCummulativeB</th>\n",
       "      <th>revenueCummulativeB</th>\n",
       "      <th>visitorsPerDateA</th>\n",
       "      <th>visitorsPerDateB</th>\n",
       "      <th>visitorsCummulativeA</th>\n",
       "      <th>visitorsCummulativeB</th>\n",
       "    </tr>\n",
       "  </thead>\n",
       "  <tbody>\n",
       "    <tr>\n",
       "      <th>0</th>\n",
       "      <td>2019-08-01</td>\n",
       "      <td>23</td>\n",
       "      <td>142779</td>\n",
       "      <td>17</td>\n",
       "      <td>59758</td>\n",
       "      <td>23</td>\n",
       "      <td>142779</td>\n",
       "      <td>17</td>\n",
       "      <td>59758</td>\n",
       "      <td>719</td>\n",
       "      <td>713</td>\n",
       "      <td>719</td>\n",
       "      <td>713</td>\n",
       "    </tr>\n",
       "    <tr>\n",
       "      <th>1</th>\n",
       "      <td>2019-08-02</td>\n",
       "      <td>19</td>\n",
       "      <td>91602</td>\n",
       "      <td>23</td>\n",
       "      <td>162043</td>\n",
       "      <td>42</td>\n",
       "      <td>234381</td>\n",
       "      <td>40</td>\n",
       "      <td>221801</td>\n",
       "      <td>619</td>\n",
       "      <td>581</td>\n",
       "      <td>1338</td>\n",
       "      <td>1294</td>\n",
       "    </tr>\n",
       "    <tr>\n",
       "      <th>2</th>\n",
       "      <td>2019-08-03</td>\n",
       "      <td>24</td>\n",
       "      <td>112473</td>\n",
       "      <td>14</td>\n",
       "      <td>67049</td>\n",
       "      <td>66</td>\n",
       "      <td>346854</td>\n",
       "      <td>54</td>\n",
       "      <td>288850</td>\n",
       "      <td>507</td>\n",
       "      <td>509</td>\n",
       "      <td>1845</td>\n",
       "      <td>1803</td>\n",
       "    </tr>\n",
       "    <tr>\n",
       "      <th>3</th>\n",
       "      <td>2019-08-04</td>\n",
       "      <td>11</td>\n",
       "      <td>41176</td>\n",
       "      <td>14</td>\n",
       "      <td>96890</td>\n",
       "      <td>77</td>\n",
       "      <td>388030</td>\n",
       "      <td>68</td>\n",
       "      <td>385740</td>\n",
       "      <td>717</td>\n",
       "      <td>770</td>\n",
       "      <td>2562</td>\n",
       "      <td>2573</td>\n",
       "    </tr>\n",
       "    <tr>\n",
       "      <th>4</th>\n",
       "      <td>2019-08-05</td>\n",
       "      <td>22</td>\n",
       "      <td>86383</td>\n",
       "      <td>21</td>\n",
       "      <td>89908</td>\n",
       "      <td>99</td>\n",
       "      <td>474413</td>\n",
       "      <td>89</td>\n",
       "      <td>475648</td>\n",
       "      <td>756</td>\n",
       "      <td>707</td>\n",
       "      <td>3318</td>\n",
       "      <td>3280</td>\n",
       "    </tr>\n",
       "  </tbody>\n",
       "</table>\n",
       "</div>"
      ],
      "text/plain": [
       "         date  ordersPerDateA  revenuePerDateA  ordersPerDateB  \\\n",
       "0  2019-08-01              23           142779              17   \n",
       "1  2019-08-02              19            91602              23   \n",
       "2  2019-08-03              24           112473              14   \n",
       "3  2019-08-04              11            41176              14   \n",
       "4  2019-08-05              22            86383              21   \n",
       "\n",
       "   revenuePerDateB  ordersCummulativeA  revenueCummulativeA  \\\n",
       "0            59758                  23               142779   \n",
       "1           162043                  42               234381   \n",
       "2            67049                  66               346854   \n",
       "3            96890                  77               388030   \n",
       "4            89908                  99               474413   \n",
       "\n",
       "   ordersCummulativeB  revenueCummulativeB  visitorsPerDateA  \\\n",
       "0                  17                59758               719   \n",
       "1                  40               221801               619   \n",
       "2                  54               288850               507   \n",
       "3                  68               385740               717   \n",
       "4                  89               475648               756   \n",
       "\n",
       "   visitorsPerDateB  visitorsCummulativeA  visitorsCummulativeB  \n",
       "0               713                   719                   713  \n",
       "1               581                  1338                  1294  \n",
       "2               509                  1845                  1803  \n",
       "3               770                  2562                  2573  \n",
       "4               707                  3318                  3280  "
      ]
     },
     "execution_count": 33,
     "metadata": {},
     "output_type": "execute_result"
    }
   ],
   "source": [
    "# Объединяем в одну таблицу все получившиеся датафреймы\n",
    "data = (\n",
    "    ordersADaily.merge(\n",
    "        ordersBDaily, left_on='date', right_on='date', how='left'\n",
    "    )\n",
    "    .merge(ordersACummulative, left_on='date', right_on='date', how='left')\n",
    "    .merge(ordersBCummulative, left_on='date', right_on='date', how='left')\n",
    "    .merge(visitorsADaily, left_on='date', right_on='date', how='left')\n",
    "    .merge(visitorsBDaily, left_on='date', right_on='date', how='left')\n",
    "    .merge(visitorsACummulative, left_on='date', right_on='date', how='left')\n",
    "    .merge(visitorsBCummulative, left_on='date', right_on='date', how='left')\n",
    ")\n",
    "\n",
    "data.head(5)"
   ]
  },
  {
   "cell_type": "code",
   "execution_count": 34,
   "metadata": {},
   "outputs": [
    {
     "name": "stdout",
     "output_type": "stream",
     "text": [
      "ordersByUsersA \n",
      "\n",
      "      userId  orders\n",
      "0  11685486       1\n",
      "1  54447517       1\n",
      "2  66685450       1\n",
      "3  78758296       1\n",
      "4  85103373       1 \n",
      "\n",
      "\n",
      "ordersByUsersB \n",
      "\n",
      "      userId  orders\n",
      "0   5114589       1\n",
      "1   6958315       1\n",
      "2  39475350       1\n",
      "3  47206413       1\n",
      "4  48147722       1 \n",
      "\n",
      "\n"
     ]
    }
   ],
   "source": [
    "# Создадим переменные ordersByUsersA и ordersByUsersB со столбцами ['userId', 'orders']. \n",
    "# В них для пользователей, которые заказывали хотя бы 1 раз, укажем число совершённых заказов.\n",
    "\n",
    "ordersByUsersA = (\n",
    "    orders[orders['group'] == 'A']\n",
    "    .groupby('visitorId', as_index=False)\n",
    "    .agg({'transactionId': pd.Series.nunique})\n",
    ")\n",
    "ordersByUsersA.columns = ['userId', 'orders']\n",
    "\n",
    "print('ordersByUsersA', '\\n'*2,\n",
    "      ordersByUsersA.head(), '\\n'*2)\n",
    "\n",
    "\n",
    "\n",
    "ordersByUsersB = (\n",
    "    orders[orders['group'] == 'B']\n",
    "    .groupby('visitorId', as_index=False)\n",
    "    .agg({'transactionId': pd.Series.nunique})\n",
    ")\n",
    "ordersByUsersB.columns = ['userId', 'orders'] \n",
    "\n",
    "print('ordersByUsersB', '\\n'*2,\n",
    "      ordersByUsersB.head(), '\\n'*2)"
   ]
  },
  {
   "cell_type": "code",
   "execution_count": 35,
   "metadata": {},
   "outputs": [
    {
     "name": "stdout",
     "output_type": "stream",
     "text": [
      "p_value = 0.011\n",
      "\n",
      "Отвергаем нулевую гипотезу. Различия в среднем количестве заказов между группами есть.\n",
      "\n",
      "Разница средних значений количесва заказов между группами В и А = 16.0%\n"
     ]
    }
   ],
   "source": [
    "# Считаем выборку сколько каждый пользователь сделал заказов, включая тех, кто сделал 0 заказалов для группы А\n",
    "sampleA = pd.concat(\n",
    "    [\n",
    "        ordersByUsersA['orders'],\n",
    "        pd.Series(\n",
    "            0,\n",
    "            index=np.arange(\n",
    "                data['visitorsPerDateA'].sum() - len(ordersByUsersA['orders'])\n",
    "            ),\n",
    "            name='orders',\n",
    "        ),\n",
    "    ],\n",
    "    axis=0,\n",
    ")\n",
    "\n",
    "\n",
    "# Считаем выборку сколько каждый пользователь сделал заказов, включая тех, кто сделал 0 заказалов для группы В\n",
    "sampleB = pd.concat(\n",
    "    [\n",
    "        ordersByUsersB['orders'],\n",
    "        pd.Series(\n",
    "            0,\n",
    "            index=np.arange(\n",
    "                data['visitorsPerDateB'].sum() - len(ordersByUsersB['orders'])\n",
    "            ),\n",
    "            name='orders',\n",
    "        ),\n",
    "    ],\n",
    "    axis=0,\n",
    ")\n",
    "\n",
    "\n",
    "# Считаем статистическую значимость различий в среднем числе заказов между группами\n",
    "p_value = stats.mannwhitneyu(sampleA, sampleB)[1]\n",
    "\n",
    "print(f'p_value = {round(p_value,3)}')\n",
    "print()\n",
    "\n",
    "if p_value < 0.05:\n",
    "    print('Отвергаем нулевую гипотезу. Различия в среднем количестве заказов между группами есть.')\n",
    "else:\n",
    "    print('Не удалось отвергнуть нулевую гипотезу. Различия в среднем количестве заказов между группами нет') \n",
    "print()\n",
    "\n",
    "# Считаем относительные различия в среднем числе заказов между группами\n",
    "diff = sampleB.mean() / sampleA.mean() - 1\n",
    "print(f'Разница средних значений количесва заказов между группами В и А = {round(diff*100,1)}%')"
   ]
  },
  {
   "cell_type": "markdown",
   "metadata": {},
   "source": [
    "**Выводы по пункту 2.10:**\n",
    "\n",
    "Расчет статистической значимости различий *по «сырым» данным* в среднем количестве заказов на посетителя между группами **показал наличие различий** в среднем количестве заказов между группами."
   ]
  },
  {
   "cell_type": "markdown",
   "metadata": {},
   "source": [
    "**2.11 Расчет статистической значимости различий в среднем чеке заказа между группами по «сырым» данным.**\n",
    "<a id=\"step_2.11\"></a>"
   ]
  },
  {
   "cell_type": "markdown",
   "metadata": {},
   "source": [
    "**Сформулируем гипотезы:** \n",
    "\n",
    "* Нулевая гипотеза: различий в среднем чеке между группами нет. \n",
    "* Альтернативная гипотеза: различия в среднем чеке между группами есть. "
   ]
  },
  {
   "cell_type": "code",
   "execution_count": 36,
   "metadata": {},
   "outputs": [
    {
     "name": "stdout",
     "output_type": "stream",
     "text": [
      "p_value = 0.829\n",
      "\n",
      "Не удалось отвергнуть нулевую гипотезу.  Различий в среднем чеке между группами нет.\n",
      "\n",
      "Разница значений средних чеков между группами В и А = 28.7%\n"
     ]
    }
   ],
   "source": [
    "# Считаем статистическую значимость различий в среднем чеке заказов между группами А и В\n",
    "p_value = stats.mannwhitneyu(orders[orders['group']=='A']['revenue'], orders[orders['group']=='B']['revenue'])[1]\n",
    "\n",
    "print(f'p_value = {round(p_value,3)}')\n",
    "print()\n",
    "\n",
    "if p_value < 0.05:\n",
    "    print('Отвергаем нулевую гипотезу. Различия в среднем чеке между группами есть.')\n",
    "else:\n",
    "    print('Не удалось отвергнуть нулевую гипотезу.  Различий в среднем чеке между группами нет.') \n",
    "print()\n",
    "\n",
    "\n",
    "# Считаем относительные различия в среднем чеке между группами В и А\n",
    "diff = orders[orders['group']=='B']['revenue'].mean()/orders[orders['group']=='A']['revenue'].mean()-1\n",
    "print(f'Разница значений средних чеков между группами В и А = {round(diff*100,1)}%')"
   ]
  },
  {
   "cell_type": "markdown",
   "metadata": {},
   "source": [
    "**Выводы по пункту 2.11:**\n",
    "\n",
    "По «сырым» данным различий в среднем числе заказов между группами A и B **нет**. Однако мы наблюдаем значительную разницу в средних чеках между группами A и B, составляющую **28,7%**. Необходимо провести расчет статистической значимости различий в среднем чеке заказа между группами на основе «очищенных» данных. "
   ]
  },
  {
   "cell_type": "markdown",
   "metadata": {},
   "source": [
    "**2.12 Расчет статистической значимости различий в среднем количестве заказов на посетителя между группами по «очищенным» данным.**\n",
    "<a id=\"step_2.12\"></a>"
   ]
  },
  {
   "cell_type": "code",
   "execution_count": 37,
   "metadata": {},
   "outputs": [
    {
     "name": "stdout",
     "output_type": "stream",
     "text": [
      "Количество аномальных пользователей: 58\n",
      "\n",
      "Процент аномальных пользователей 6.0%. Это менее 10%, можно исключать из датафрейма\n"
     ]
    }
   ],
   "source": [
    "# Сделаем срез пользователей с аномально большим числом заказов.\n",
    "# Верхнюю границу кольчества зазазов мы приняли равное 3 в п. 2.7\n",
    "\n",
    "usersWithManyOrders = pd.concat(\n",
    "    [\n",
    "        ordersByUsersA[ordersByUsersA['orders'] > max_orders]['userId'],\n",
    "        ordersByUsersB[ordersByUsersB['orders'] > max_orders]['userId'],\n",
    "    ],\n",
    "    axis=0,\n",
    ")\n",
    "\n",
    "# Сделаем срез пользователей с аномально дорогими заказами.\n",
    "# Верхнюю границу стоимости зазаза мы приняли в размере 20 000 в п. 2.9\n",
    "usersWithExpensiveOrders = orders[orders['revenue'] > max_revenue]['visitorId']\n",
    "\n",
    "# Объединим аномальных пользователей в одной таблице.\n",
    "abnormalUsers = (\n",
    "    pd.concat([usersWithManyOrders, usersWithExpensiveOrders], axis=0)\n",
    "    .drop_duplicates()\n",
    "    .sort_values()\n",
    ")\n",
    "\n",
    "print(f'Количество аномальных пользователей: {len(abnormalUsers)}') \n",
    "print()\n",
    "\n",
    "# Посчитаем процент аномальных пользователей от общего числа пользователей\n",
    "per_abnormalUsers = len(abnormalUsers) / len(orders[\"visitorId\"].unique())\n",
    "\n",
    "\n",
    "if per_abnormalUsers < 0.1: \n",
    "    print(f'Процент аномальных пользователей {round(per_abnormalUsers*100,1)}%. Это менее 10%, можно исключать из датафрейма')                                         \n",
    "else:\n",
    "    print(f'Процент аномальных пользователей {round(per_abnormalUsers*100,1)}%. Это более 10%, нельзя исключать из датафрейма')"
   ]
  },
  {
   "cell_type": "code",
   "execution_count": 38,
   "metadata": {},
   "outputs": [],
   "source": [
    "# Подготовим выборку количества заказов по пользователям группам А за исключением аномальных пользователей\n",
    "sampleAFiltered = pd.concat(\n",
    "    [\n",
    "        ordersByUsersA[\n",
    "            np.logical_not(ordersByUsersA['userId'].isin(abnormalUsers))\n",
    "        ]['orders'],\n",
    "        pd.Series(\n",
    "            0,\n",
    "            index=np.arange(\n",
    "                data['visitorsPerDateA'].sum() - len(ordersByUsersA['orders'])\n",
    "            ),\n",
    "            name='orders',\n",
    "        ),\n",
    "    ],\n",
    "    axis=0,\n",
    ")\n",
    "\n",
    "\n",
    "# Подготовим выборку количества заказов по пользователям группам В за исключением аномальных пользователей\n",
    "sampleBFiltered = pd.concat(\n",
    "    [\n",
    "        ordersByUsersB[\n",
    "            np.logical_not(ordersByUsersB['userId'].isin(abnormalUsers))\n",
    "        ]['orders'],\n",
    "        pd.Series(\n",
    "            0,\n",
    "            index=np.arange(\n",
    "                data['visitorsPerDateB'].sum() - len(ordersByUsersB['orders'])\n",
    "            ),\n",
    "            name='orders',\n",
    "        ),\n",
    "    ],\n",
    "    axis=0,\n",
    ")\n",
    "\n"
   ]
  },
  {
   "cell_type": "code",
   "execution_count": 39,
   "metadata": {},
   "outputs": [
    {
     "name": "stdout",
     "output_type": "stream",
     "text": [
      "p_value = 0.012\n",
      "\n",
      "Отвергаем нулевую гипотезу. Различия в среднем количестве заказов между группами есть.\n",
      "\n",
      "Разница средних значений количесва заказов между группами В и А = 18.2%\n"
     ]
    }
   ],
   "source": [
    "# Считаем статистическую значимость различий в среднем числе заказов между группами\n",
    "p_value = stats.mannwhitneyu(sampleAFiltered, sampleBFiltered)[1]\n",
    "\n",
    "print(f'p_value = {round(p_value,3)}')\n",
    "print()\n",
    "\n",
    "if p_value < 0.05:\n",
    "    print('Отвергаем нулевую гипотезу. Различия в среднем количестве заказов между группами есть.')\n",
    "else:\n",
    "    print('Не удалось отвергнуть нулевую гипотезу. Различия в среднем количестве заказов между группами нет') \n",
    "print()\n",
    "\n",
    "# Считаем относительные различия в среднем числе заказов между группами\n",
    "diff = sampleBFiltered.mean() / sampleAFiltered.mean() - 1\n",
    "print(f'Разница средних значений количесва заказов между группами В и А = {round(diff*100,1)}%')"
   ]
  },
  {
   "cell_type": "markdown",
   "metadata": {},
   "source": [
    "**Выводы по пункту 2.12:**\n",
    "\n",
    "Результаты по среднему количеству заказов практически не изменились."
   ]
  },
  {
   "cell_type": "markdown",
   "metadata": {},
   "source": [
    "**2.13 Расчет статистической значимости различий в среднем чеке заказа между группами по «очищенным» данным.**\n",
    "<a id=\"step_2.13\"></a>"
   ]
  },
  {
   "cell_type": "code",
   "execution_count": 40,
   "metadata": {
    "scrolled": true
   },
   "outputs": [
    {
     "name": "stdout",
     "output_type": "stream",
     "text": [
      "p_value = 0.646\n",
      "\n",
      "Не удалось отвергнуть нулевую гипотезу.  Различий в среднем чеке между группами нет.\n",
      "\n",
      "Разница значений средних чеков между группами В и А = -4.8%\n"
     ]
    }
   ],
   "source": [
    "p_value = stats.mannwhitneyu(\n",
    "    orders[np.logical_and(orders['group'] == 'A', np.logical_not(\n",
    "        orders['visitorId'].isin(abnormalUsers)),)]['revenue'], orders[np.logical_and(\n",
    "        orders['group'] == 'B', np.logical_not(orders['visitorId'].isin(abnormalUsers)),)]['revenue'],)[1]\n",
    "\n",
    "print(f'p_value = {round(p_value,3)}')\n",
    "print()\n",
    "\n",
    "if p_value < 0.05:\n",
    "    print('Отвергаем нулевую гипотезу. Различия в среднем чеке между группами есть.')\n",
    "else:\n",
    "    print('Не удалось отвергнуть нулевую гипотезу.  Различий в среднем чеке между группами нет.') \n",
    "print()\n",
    "\n",
    "# Считаем относительные различия в среднем чеке между группами В и А\n",
    "diff = orders[np.logical_and(\n",
    "    orders['group'] == 'B', np.logical_not(\n",
    "        orders['visitorId'].isin(abnormalUsers)),)]['revenue'].mean() / orders[np.logical_and(orders['group'] == 'A', np.logical_not(\n",
    "    orders['visitorId'].isin(abnormalUsers)),)]['revenue'].mean() - 1\n",
    "print(f'Разница значений средних чеков между группами В и А = {round(diff*100,1)}%')"
   ]
  },
  {
   "cell_type": "markdown",
   "metadata": {},
   "source": [
    "**Выводы по пункту 2.13:**\n",
    "\n",
    "P-value увеличился, но и разница между сегментами сократилась с 28.7% до -4.8%. Различий в среднем чеке между группами нет."
   ]
  },
  {
   "cell_type": "markdown",
   "metadata": {},
   "source": [
    "**2.14 Принятие решения по результатам теста.**\n",
    "<a id=\"step_2.14\"></a>"
   ]
  },
  {
   "cell_type": "markdown",
   "metadata": {},
   "source": [
    "Имеющиеся факты:\n",
    "* Есть статистически значимые различия по среднему количеству заказов между группами по «сырым», и по данным после фильтрации аномалий;\n",
    "* Нет статистически значимого различия по среднему чеку между группами ни по «сырым», ни по данным после фильтрации аномалий;\n",
    "* График различия среднего количества заказов между группами сообщает, что результаты группы B лучше группы A примерно на 10-15%. \n",
    "\n",
    "Исходя из обнаруженных фактов, тест следует остановить и признать его успешным. Количество заказов в группе В увеличилось по сравнению с группой А. Статистическая разница по среднему чеку в группах А и В не обнаружена. "
   ]
  },
  {
   "cell_type": "markdown",
   "metadata": {},
   "source": [
    "**Общий вывод:**\n",
    "<a id=\"final\"></a>\n",
    "1. Выводы по первой части\n",
    "Приоритизация гипотез меняется в зависимости от применяемого метода расчета (ICE или RICE). Это происходит потому, что в формуле расчета с помощью фреймворка RICE есть множитель *reach* (охват пользователей), в то время как в расчете с помощью фреймворка ICE этого множителя нет. Соответственно, параметр *reach* вносит изменения в приоритизацию гипотез с помощью метода RICE: чем выше охват пользователей, тем выше приоритизация гипотезы.    \n",
    "2. Выводы по второй части. Тест следует остановить и признать его успешным. Количество заказов в группе В увеличилось по сравнению с группой А. Статистическая разница по среднему чеку в группах А и В не обнаружена. \n",
    "    "
   ]
  }
 ],
 "metadata": {
  "ExecuteTimeLog": [
   {
    "duration": 444,
    "start_time": "2025-03-10T15:04:10.159Z"
   },
   {
    "duration": 30,
    "start_time": "2025-03-10T15:04:12.615Z"
   },
   {
    "duration": 28,
    "start_time": "2025-03-10T15:04:15.982Z"
   },
   {
    "duration": 21,
    "start_time": "2025-03-10T15:05:28.763Z"
   },
   {
    "duration": 17,
    "start_time": "2025-03-10T15:06:13.623Z"
   },
   {
    "duration": 26,
    "start_time": "2025-03-10T15:09:10.956Z"
   },
   {
    "duration": 33,
    "start_time": "2025-03-10T15:10:24.989Z"
   },
   {
    "duration": 11,
    "start_time": "2025-03-10T15:13:32.922Z"
   },
   {
    "duration": 12,
    "start_time": "2025-03-10T15:13:38.343Z"
   },
   {
    "duration": 14,
    "start_time": "2025-03-10T15:15:26.969Z"
   },
   {
    "duration": 10,
    "start_time": "2025-03-10T15:19:31.823Z"
   },
   {
    "duration": 12,
    "start_time": "2025-03-10T15:20:20.762Z"
   },
   {
    "duration": 11,
    "start_time": "2025-03-10T15:20:54.480Z"
   },
   {
    "duration": 4,
    "start_time": "2025-03-10T15:21:20.263Z"
   },
   {
    "duration": 71,
    "start_time": "2025-03-10T15:21:29.134Z"
   },
   {
    "duration": 16,
    "start_time": "2025-03-10T15:22:42.682Z"
   },
   {
    "duration": 14,
    "start_time": "2025-03-10T15:23:12.382Z"
   },
   {
    "duration": 11,
    "start_time": "2025-03-10T15:23:31.821Z"
   },
   {
    "duration": 10,
    "start_time": "2025-03-10T15:24:04.124Z"
   },
   {
    "duration": 22,
    "start_time": "2025-03-10T15:44:21.994Z"
   },
   {
    "duration": 10,
    "start_time": "2025-03-10T15:44:25.683Z"
   },
   {
    "duration": 16,
    "start_time": "2025-03-10T15:52:54.131Z"
   },
   {
    "duration": 15,
    "start_time": "2025-03-10T15:53:08.702Z"
   },
   {
    "duration": 411,
    "start_time": "2025-03-11T14:30:31.622Z"
   },
   {
    "duration": 31,
    "start_time": "2025-03-11T14:30:32.035Z"
   },
   {
    "duration": 13,
    "start_time": "2025-03-11T14:30:32.067Z"
   },
   {
    "duration": 11,
    "start_time": "2025-03-11T14:30:32.082Z"
   },
   {
    "duration": 183,
    "start_time": "2025-03-11T14:53:31.990Z"
   },
   {
    "duration": 3,
    "start_time": "2025-03-11T14:54:01.131Z"
   },
   {
    "duration": 46,
    "start_time": "2025-03-11T14:54:39.745Z"
   },
   {
    "duration": 39,
    "start_time": "2025-03-11T14:54:54.400Z"
   },
   {
    "duration": 43,
    "start_time": "2025-03-11T14:55:00.623Z"
   },
   {
    "duration": 45,
    "start_time": "2025-03-11T14:55:13.942Z"
   },
   {
    "duration": 99,
    "start_time": "2025-03-11T14:55:23.958Z"
   },
   {
    "duration": 45,
    "start_time": "2025-03-11T14:56:57.030Z"
   },
   {
    "duration": 429,
    "start_time": "2025-03-11T14:57:27.132Z"
   },
   {
    "duration": 45,
    "start_time": "2025-03-11T14:58:52.911Z"
   },
   {
    "duration": 50,
    "start_time": "2025-03-11T15:02:17.855Z"
   },
   {
    "duration": 46,
    "start_time": "2025-03-11T15:02:33.597Z"
   },
   {
    "duration": 46,
    "start_time": "2025-03-11T15:02:44.206Z"
   },
   {
    "duration": 58,
    "start_time": "2025-03-11T15:04:29.550Z"
   },
   {
    "duration": 23,
    "start_time": "2025-03-11T15:05:36.593Z"
   },
   {
    "duration": 23,
    "start_time": "2025-03-11T15:05:52.016Z"
   },
   {
    "duration": 23,
    "start_time": "2025-03-11T15:06:06.551Z"
   },
   {
    "duration": 43,
    "start_time": "2025-03-11T15:06:20.094Z"
   },
   {
    "duration": 51,
    "start_time": "2025-03-11T15:06:32.637Z"
   },
   {
    "duration": 50,
    "start_time": "2025-03-11T15:06:41.580Z"
   },
   {
    "duration": 50,
    "start_time": "2025-03-11T15:07:10.202Z"
   },
   {
    "duration": 50,
    "start_time": "2025-03-11T15:07:22.297Z"
   },
   {
    "duration": 50,
    "start_time": "2025-03-11T15:08:07.430Z"
   },
   {
    "duration": 50,
    "start_time": "2025-03-11T15:08:13.237Z"
   },
   {
    "duration": 47,
    "start_time": "2025-03-11T15:08:19.228Z"
   },
   {
    "duration": 51,
    "start_time": "2025-03-11T15:08:23.757Z"
   },
   {
    "duration": 50,
    "start_time": "2025-03-11T15:08:32.604Z"
   },
   {
    "duration": 26,
    "start_time": "2025-03-11T15:11:31.334Z"
   },
   {
    "duration": 6,
    "start_time": "2025-03-11T15:21:26.332Z"
   },
   {
    "duration": 12,
    "start_time": "2025-03-11T15:21:32.596Z"
   },
   {
    "duration": 12,
    "start_time": "2025-03-11T15:22:06.818Z"
   },
   {
    "duration": 6,
    "start_time": "2025-03-11T15:22:22.464Z"
   },
   {
    "duration": 29,
    "start_time": "2025-03-11T15:22:50.902Z"
   },
   {
    "duration": 24,
    "start_time": "2025-03-11T15:23:38.980Z"
   },
   {
    "duration": 21,
    "start_time": "2025-03-11T15:24:04.009Z"
   },
   {
    "duration": 176,
    "start_time": "2025-03-11T15:24:28.936Z"
   },
   {
    "duration": 164,
    "start_time": "2025-03-11T15:24:37.583Z"
   },
   {
    "duration": 73,
    "start_time": "2025-03-11T15:27:59.192Z"
   },
   {
    "duration": 74,
    "start_time": "2025-03-11T15:29:03.235Z"
   },
   {
    "duration": 723,
    "start_time": "2025-03-11T15:29:32.065Z"
   },
   {
    "duration": 158,
    "start_time": "2025-03-11T15:30:01.184Z"
   },
   {
    "duration": 566,
    "start_time": "2025-03-11T15:33:31.648Z"
   },
   {
    "duration": 158,
    "start_time": "2025-03-11T15:34:05.614Z"
   },
   {
    "duration": 161,
    "start_time": "2025-03-11T15:35:00.298Z"
   },
   {
    "duration": 160,
    "start_time": "2025-03-11T15:46:48.112Z"
   },
   {
    "duration": 163,
    "start_time": "2025-03-11T15:47:00.599Z"
   },
   {
    "duration": 111,
    "start_time": "2025-03-11T15:48:37.759Z"
   },
   {
    "duration": 116,
    "start_time": "2025-03-11T15:48:45.919Z"
   },
   {
    "duration": 110,
    "start_time": "2025-03-11T15:55:31.323Z"
   },
   {
    "duration": 125,
    "start_time": "2025-03-11T15:55:36.625Z"
   },
   {
    "duration": 121,
    "start_time": "2025-03-11T15:56:05.760Z"
   },
   {
    "duration": 128,
    "start_time": "2025-03-11T15:56:11.095Z"
   },
   {
    "duration": 126,
    "start_time": "2025-03-11T15:56:18.303Z"
   },
   {
    "duration": 109,
    "start_time": "2025-03-11T15:56:35.590Z"
   },
   {
    "duration": 110,
    "start_time": "2025-03-11T15:56:42.085Z"
   },
   {
    "duration": 120,
    "start_time": "2025-03-11T15:56:48.644Z"
   },
   {
    "duration": 136,
    "start_time": "2025-03-11T15:58:09.479Z"
   },
   {
    "duration": 127,
    "start_time": "2025-03-11T15:58:47.604Z"
   },
   {
    "duration": 137,
    "start_time": "2025-03-11T16:11:29.541Z"
   },
   {
    "duration": 153,
    "start_time": "2025-03-11T16:11:54.836Z"
   },
   {
    "duration": 158,
    "start_time": "2025-03-11T16:12:01.259Z"
   },
   {
    "duration": 15,
    "start_time": "2025-03-11T16:13:58.786Z"
   },
   {
    "duration": 15,
    "start_time": "2025-03-11T16:14:35.176Z"
   },
   {
    "duration": 168,
    "start_time": "2025-03-11T16:15:25.539Z"
   },
   {
    "duration": 147,
    "start_time": "2025-03-11T16:15:28.203Z"
   },
   {
    "duration": 15,
    "start_time": "2025-03-11T16:15:29.651Z"
   },
   {
    "duration": 15,
    "start_time": "2025-03-11T16:17:02.308Z"
   },
   {
    "duration": 359,
    "start_time": "2025-03-12T17:41:19.549Z"
   },
   {
    "duration": 28,
    "start_time": "2025-03-12T17:41:19.910Z"
   },
   {
    "duration": 12,
    "start_time": "2025-03-12T17:41:19.939Z"
   },
   {
    "duration": 11,
    "start_time": "2025-03-12T17:41:19.952Z"
   },
   {
    "duration": 52,
    "start_time": "2025-03-12T17:41:19.965Z"
   },
   {
    "duration": 28,
    "start_time": "2025-03-12T17:41:20.019Z"
   },
   {
    "duration": 165,
    "start_time": "2025-03-12T17:41:20.049Z"
   },
   {
    "duration": 133,
    "start_time": "2025-03-12T17:41:20.215Z"
   },
   {
    "duration": 15,
    "start_time": "2025-03-12T17:41:20.350Z"
   },
   {
    "duration": 63,
    "start_time": "2025-03-12T17:41:34.001Z"
   },
   {
    "duration": 391,
    "start_time": "2025-03-12T17:42:10.713Z"
   },
   {
    "duration": 244,
    "start_time": "2025-03-12T17:42:14.240Z"
   },
   {
    "duration": 245,
    "start_time": "2025-03-12T17:43:27.817Z"
   },
   {
    "duration": 185,
    "start_time": "2025-03-12T17:43:35.538Z"
   },
   {
    "duration": 245,
    "start_time": "2025-03-12T17:44:09.096Z"
   },
   {
    "duration": 202,
    "start_time": "2025-03-12T17:44:40.241Z"
   },
   {
    "duration": 217,
    "start_time": "2025-03-12T17:46:23.392Z"
   },
   {
    "duration": 228,
    "start_time": "2025-03-12T17:47:42.168Z"
   },
   {
    "duration": 237,
    "start_time": "2025-03-12T17:49:04.623Z"
   },
   {
    "duration": 233,
    "start_time": "2025-03-12T17:51:31.358Z"
   },
   {
    "duration": 166,
    "start_time": "2025-03-12T17:58:06.653Z"
   },
   {
    "duration": 228,
    "start_time": "2025-03-12T18:00:01.151Z"
   },
   {
    "duration": 229,
    "start_time": "2025-03-12T18:00:43.940Z"
   },
   {
    "duration": 235,
    "start_time": "2025-03-12T18:05:54.627Z"
   },
   {
    "duration": 258,
    "start_time": "2025-03-12T18:06:29.499Z"
   },
   {
    "duration": 844,
    "start_time": "2025-03-13T14:22:03.667Z"
   },
   {
    "duration": 27,
    "start_time": "2025-03-13T14:22:04.513Z"
   },
   {
    "duration": 12,
    "start_time": "2025-03-13T14:22:04.541Z"
   },
   {
    "duration": 10,
    "start_time": "2025-03-13T14:22:04.555Z"
   },
   {
    "duration": 64,
    "start_time": "2025-03-13T14:22:04.567Z"
   },
   {
    "duration": 25,
    "start_time": "2025-03-13T14:22:04.633Z"
   },
   {
    "duration": 168,
    "start_time": "2025-03-13T14:22:04.660Z"
   },
   {
    "duration": 133,
    "start_time": "2025-03-13T14:22:04.829Z"
   },
   {
    "duration": 15,
    "start_time": "2025-03-13T14:22:04.963Z"
   },
   {
    "duration": 350,
    "start_time": "2025-03-13T14:22:04.980Z"
   },
   {
    "duration": 253,
    "start_time": "2025-03-13T14:22:05.331Z"
   },
   {
    "duration": 14,
    "start_time": "2025-03-13T14:22:05.586Z"
   },
   {
    "duration": 11,
    "start_time": "2025-03-13T14:22:20.588Z"
   },
   {
    "duration": 13,
    "start_time": "2025-03-13T14:22:26.899Z"
   },
   {
    "duration": 298,
    "start_time": "2025-03-13T14:28:03.876Z"
   },
   {
    "duration": 404,
    "start_time": "2025-03-13T14:28:17.722Z"
   },
   {
    "duration": 332,
    "start_time": "2025-03-13T14:28:42.441Z"
   },
   {
    "duration": 353,
    "start_time": "2025-03-13T14:30:12.675Z"
   },
   {
    "duration": 11,
    "start_time": "2025-03-13T14:43:35.673Z"
   },
   {
    "duration": 6,
    "start_time": "2025-03-13T14:43:56.343Z"
   },
   {
    "duration": 153,
    "start_time": "2025-03-13T14:44:19.540Z"
   },
   {
    "duration": 169,
    "start_time": "2025-03-13T14:44:37.468Z"
   },
   {
    "duration": 280,
    "start_time": "2025-03-13T14:45:08.826Z"
   },
   {
    "duration": 225,
    "start_time": "2025-03-13T14:45:22.289Z"
   },
   {
    "duration": 242,
    "start_time": "2025-03-13T14:49:47.198Z"
   },
   {
    "duration": 259,
    "start_time": "2025-03-13T14:50:07.252Z"
   },
   {
    "duration": 6,
    "start_time": "2025-03-13T14:50:10.324Z"
   },
   {
    "duration": 420,
    "start_time": "2025-03-13T15:00:05.257Z"
   },
   {
    "duration": 200,
    "start_time": "2025-03-13T15:00:23.576Z"
   },
   {
    "duration": 220,
    "start_time": "2025-03-13T15:00:29.376Z"
   },
   {
    "duration": 336,
    "start_time": "2025-03-13T15:01:06.156Z"
   },
   {
    "duration": 318,
    "start_time": "2025-03-13T15:01:13.716Z"
   },
   {
    "duration": 363,
    "start_time": "2025-03-13T15:01:30.956Z"
   },
   {
    "duration": 335,
    "start_time": "2025-03-13T15:01:56.370Z"
   },
   {
    "duration": 311,
    "start_time": "2025-03-13T15:02:04.704Z"
   },
   {
    "duration": 7,
    "start_time": "2025-03-13T15:23:02.455Z"
   },
   {
    "duration": 18,
    "start_time": "2025-03-13T15:26:15.793Z"
   },
   {
    "duration": 78,
    "start_time": "2025-03-13T15:27:37.940Z"
   },
   {
    "duration": 8,
    "start_time": "2025-03-13T15:27:56.850Z"
   },
   {
    "duration": 15,
    "start_time": "2025-03-13T15:28:01.370Z"
   },
   {
    "duration": 12,
    "start_time": "2025-03-13T15:28:57.917Z"
   },
   {
    "duration": 98,
    "start_time": "2025-03-13T15:29:54.585Z"
   },
   {
    "duration": 3,
    "start_time": "2025-03-13T15:31:22.043Z"
   },
   {
    "duration": 5,
    "start_time": "2025-03-13T15:31:25.707Z"
   },
   {
    "duration": 4,
    "start_time": "2025-03-13T15:31:35.562Z"
   },
   {
    "duration": 102,
    "start_time": "2025-03-13T15:32:32.646Z"
   },
   {
    "duration": 113,
    "start_time": "2025-03-13T15:32:48.693Z"
   },
   {
    "duration": 159,
    "start_time": "2025-03-13T15:33:06.412Z"
   },
   {
    "duration": 167,
    "start_time": "2025-03-13T15:34:10.471Z"
   },
   {
    "duration": 255,
    "start_time": "2025-03-13T15:35:07.139Z"
   },
   {
    "duration": 331,
    "start_time": "2025-03-13T15:35:52.615Z"
   },
   {
    "duration": 270,
    "start_time": "2025-03-13T15:36:05.639Z"
   },
   {
    "duration": 182,
    "start_time": "2025-03-13T15:36:17.142Z"
   },
   {
    "duration": 171,
    "start_time": "2025-03-13T15:36:48.788Z"
   },
   {
    "duration": 210,
    "start_time": "2025-03-13T15:38:24.973Z"
   },
   {
    "duration": 184,
    "start_time": "2025-03-13T15:39:47.183Z"
   },
   {
    "duration": 248,
    "start_time": "2025-03-13T15:41:54.662Z"
   },
   {
    "duration": 353,
    "start_time": "2025-03-13T15:42:00.559Z"
   },
   {
    "duration": 205,
    "start_time": "2025-03-13T15:42:10.085Z"
   },
   {
    "duration": 598,
    "start_time": "2025-03-13T15:43:24.716Z"
   },
   {
    "duration": 26,
    "start_time": "2025-03-13T15:43:25.316Z"
   },
   {
    "duration": 21,
    "start_time": "2025-03-13T15:43:25.344Z"
   },
   {
    "duration": 11,
    "start_time": "2025-03-13T15:43:25.367Z"
   },
   {
    "duration": 54,
    "start_time": "2025-03-13T15:43:25.379Z"
   },
   {
    "duration": 25,
    "start_time": "2025-03-13T15:43:25.435Z"
   },
   {
    "duration": 171,
    "start_time": "2025-03-13T15:43:25.461Z"
   },
   {
    "duration": 128,
    "start_time": "2025-03-13T15:43:25.634Z"
   },
   {
    "duration": 16,
    "start_time": "2025-03-13T15:43:25.763Z"
   },
   {
    "duration": 349,
    "start_time": "2025-03-13T15:43:25.781Z"
   },
   {
    "duration": 239,
    "start_time": "2025-03-13T15:43:26.131Z"
   },
   {
    "duration": 321,
    "start_time": "2025-03-13T15:43:26.371Z"
   },
   {
    "duration": 5,
    "start_time": "2025-03-13T15:43:26.694Z"
   },
   {
    "duration": 329,
    "start_time": "2025-03-13T15:43:26.701Z"
   },
   {
    "duration": 367,
    "start_time": "2025-03-13T15:43:27.032Z"
   },
   {
    "duration": 13,
    "start_time": "2025-03-13T15:43:27.401Z"
   },
   {
    "duration": 217,
    "start_time": "2025-03-13T15:43:27.415Z"
   },
   {
    "duration": 4,
    "start_time": "2025-03-13T15:45:38.182Z"
   },
   {
    "duration": 13,
    "start_time": "2025-03-13T15:56:03.849Z"
   },
   {
    "duration": 112,
    "start_time": "2025-03-13T15:57:46.786Z"
   },
   {
    "duration": 652,
    "start_time": "2025-03-13T16:00:47.126Z"
   },
   {
    "duration": 25,
    "start_time": "2025-03-13T16:00:47.780Z"
   },
   {
    "duration": 11,
    "start_time": "2025-03-13T16:00:47.806Z"
   },
   {
    "duration": 10,
    "start_time": "2025-03-13T16:00:47.819Z"
   },
   {
    "duration": 52,
    "start_time": "2025-03-13T16:00:47.830Z"
   },
   {
    "duration": 25,
    "start_time": "2025-03-13T16:00:47.883Z"
   },
   {
    "duration": 165,
    "start_time": "2025-03-13T16:00:47.909Z"
   },
   {
    "duration": 132,
    "start_time": "2025-03-13T16:00:48.076Z"
   },
   {
    "duration": 16,
    "start_time": "2025-03-13T16:00:48.210Z"
   },
   {
    "duration": 361,
    "start_time": "2025-03-13T16:00:48.228Z"
   },
   {
    "duration": 268,
    "start_time": "2025-03-13T16:00:48.590Z"
   },
   {
    "duration": 364,
    "start_time": "2025-03-13T16:00:48.860Z"
   },
   {
    "duration": 5,
    "start_time": "2025-03-13T16:00:49.226Z"
   },
   {
    "duration": 341,
    "start_time": "2025-03-13T16:00:49.233Z"
   },
   {
    "duration": 355,
    "start_time": "2025-03-13T16:00:49.576Z"
   },
   {
    "duration": 12,
    "start_time": "2025-03-13T16:00:49.932Z"
   },
   {
    "duration": 226,
    "start_time": "2025-03-13T16:00:49.945Z"
   },
   {
    "duration": 4,
    "start_time": "2025-03-13T16:00:50.173Z"
   },
   {
    "duration": 142,
    "start_time": "2025-03-13T16:00:50.178Z"
   },
   {
    "duration": 621,
    "start_time": "2025-03-13T16:01:38.718Z"
   },
   {
    "duration": 27,
    "start_time": "2025-03-13T16:01:39.341Z"
   },
   {
    "duration": 16,
    "start_time": "2025-03-13T16:01:39.370Z"
   },
   {
    "duration": 11,
    "start_time": "2025-03-13T16:01:39.388Z"
   },
   {
    "duration": 67,
    "start_time": "2025-03-13T16:01:39.402Z"
   },
   {
    "duration": 27,
    "start_time": "2025-03-13T16:01:39.470Z"
   },
   {
    "duration": 161,
    "start_time": "2025-03-13T16:01:39.499Z"
   },
   {
    "duration": 136,
    "start_time": "2025-03-13T16:01:39.662Z"
   },
   {
    "duration": 15,
    "start_time": "2025-03-13T16:01:39.799Z"
   },
   {
    "duration": 351,
    "start_time": "2025-03-13T16:01:39.816Z"
   },
   {
    "duration": 248,
    "start_time": "2025-03-13T16:01:40.169Z"
   },
   {
    "duration": 343,
    "start_time": "2025-03-13T16:01:40.419Z"
   },
   {
    "duration": 7,
    "start_time": "2025-03-13T16:01:40.764Z"
   },
   {
    "duration": 356,
    "start_time": "2025-03-13T16:01:40.774Z"
   },
   {
    "duration": 373,
    "start_time": "2025-03-13T16:01:41.132Z"
   },
   {
    "duration": 14,
    "start_time": "2025-03-13T16:01:41.506Z"
   },
   {
    "duration": 227,
    "start_time": "2025-03-13T16:01:41.521Z"
   },
   {
    "duration": 3,
    "start_time": "2025-03-13T16:01:41.758Z"
   },
   {
    "duration": 653,
    "start_time": "2025-03-13T16:03:26.662Z"
   },
   {
    "duration": 25,
    "start_time": "2025-03-13T16:03:27.317Z"
   },
   {
    "duration": 12,
    "start_time": "2025-03-13T16:03:27.343Z"
   },
   {
    "duration": 11,
    "start_time": "2025-03-13T16:03:27.357Z"
   },
   {
    "duration": 58,
    "start_time": "2025-03-13T16:03:27.369Z"
   },
   {
    "duration": 25,
    "start_time": "2025-03-13T16:03:27.428Z"
   },
   {
    "duration": 173,
    "start_time": "2025-03-13T16:03:27.455Z"
   },
   {
    "duration": 134,
    "start_time": "2025-03-13T16:03:27.630Z"
   },
   {
    "duration": 15,
    "start_time": "2025-03-13T16:03:27.766Z"
   },
   {
    "duration": 342,
    "start_time": "2025-03-13T16:03:27.783Z"
   },
   {
    "duration": 243,
    "start_time": "2025-03-13T16:03:28.127Z"
   },
   {
    "duration": 349,
    "start_time": "2025-03-13T16:03:28.371Z"
   },
   {
    "duration": 6,
    "start_time": "2025-03-13T16:03:28.721Z"
   },
   {
    "duration": 334,
    "start_time": "2025-03-13T16:03:28.728Z"
   },
   {
    "duration": 363,
    "start_time": "2025-03-13T16:03:29.064Z"
   },
   {
    "duration": 14,
    "start_time": "2025-03-13T16:03:29.428Z"
   },
   {
    "duration": 227,
    "start_time": "2025-03-13T16:03:29.443Z"
   },
   {
    "duration": 4,
    "start_time": "2025-03-13T16:03:29.671Z"
   },
   {
    "duration": 14,
    "start_time": "2025-03-13T16:03:29.677Z"
   },
   {
    "duration": 650,
    "start_time": "2025-03-13T16:05:07.954Z"
   },
   {
    "duration": 27,
    "start_time": "2025-03-13T16:05:08.606Z"
   },
   {
    "duration": 12,
    "start_time": "2025-03-13T16:05:08.635Z"
   },
   {
    "duration": 13,
    "start_time": "2025-03-13T16:05:08.649Z"
   },
   {
    "duration": 52,
    "start_time": "2025-03-13T16:05:08.663Z"
   },
   {
    "duration": 27,
    "start_time": "2025-03-13T16:05:08.716Z"
   },
   {
    "duration": 176,
    "start_time": "2025-03-13T16:05:08.745Z"
   },
   {
    "duration": 128,
    "start_time": "2025-03-13T16:05:08.922Z"
   },
   {
    "duration": 19,
    "start_time": "2025-03-13T16:05:09.051Z"
   },
   {
    "duration": 367,
    "start_time": "2025-03-13T16:05:09.072Z"
   },
   {
    "duration": 255,
    "start_time": "2025-03-13T16:05:09.441Z"
   },
   {
    "duration": 322,
    "start_time": "2025-03-13T16:05:09.697Z"
   },
   {
    "duration": 6,
    "start_time": "2025-03-13T16:05:10.020Z"
   },
   {
    "duration": 363,
    "start_time": "2025-03-13T16:05:10.027Z"
   },
   {
    "duration": 331,
    "start_time": "2025-03-13T16:05:10.392Z"
   },
   {
    "duration": 13,
    "start_time": "2025-03-13T16:05:10.725Z"
   },
   {
    "duration": 235,
    "start_time": "2025-03-13T16:05:10.740Z"
   },
   {
    "duration": 4,
    "start_time": "2025-03-13T16:05:10.977Z"
   },
   {
    "duration": 146,
    "start_time": "2025-03-13T16:05:10.983Z"
   },
   {
    "duration": 135,
    "start_time": "2025-03-13T16:05:11.131Z"
   },
   {
    "duration": 125,
    "start_time": "2025-03-13T16:05:20.768Z"
   },
   {
    "duration": 165,
    "start_time": "2025-03-13T16:05:35.351Z"
   },
   {
    "duration": 193,
    "start_time": "2025-03-13T16:05:55.086Z"
   },
   {
    "duration": 301,
    "start_time": "2025-03-13T16:06:15.916Z"
   },
   {
    "duration": 209,
    "start_time": "2025-03-13T16:06:28.283Z"
   },
   {
    "duration": 202,
    "start_time": "2025-03-13T16:07:13.385Z"
   },
   {
    "duration": 262,
    "start_time": "2025-03-13T16:08:02.061Z"
   },
   {
    "duration": 4,
    "start_time": "2025-03-13T16:17:34.291Z"
   },
   {
    "duration": 655,
    "start_time": "2025-03-13T16:32:17.226Z"
   },
   {
    "duration": 25,
    "start_time": "2025-03-13T16:32:17.883Z"
   },
   {
    "duration": 13,
    "start_time": "2025-03-13T16:32:17.910Z"
   },
   {
    "duration": 11,
    "start_time": "2025-03-13T16:32:17.925Z"
   },
   {
    "duration": 56,
    "start_time": "2025-03-13T16:32:17.939Z"
   },
   {
    "duration": 26,
    "start_time": "2025-03-13T16:32:17.997Z"
   },
   {
    "duration": 162,
    "start_time": "2025-03-13T16:32:18.025Z"
   },
   {
    "duration": 130,
    "start_time": "2025-03-13T16:32:18.188Z"
   },
   {
    "duration": 15,
    "start_time": "2025-03-13T16:32:18.320Z"
   },
   {
    "duration": 346,
    "start_time": "2025-03-13T16:32:18.337Z"
   },
   {
    "duration": 248,
    "start_time": "2025-03-13T16:32:18.684Z"
   },
   {
    "duration": 364,
    "start_time": "2025-03-13T16:32:18.934Z"
   },
   {
    "duration": 5,
    "start_time": "2025-03-13T16:32:19.300Z"
   },
   {
    "duration": 362,
    "start_time": "2025-03-13T16:32:19.308Z"
   },
   {
    "duration": 342,
    "start_time": "2025-03-13T16:32:19.672Z"
   },
   {
    "duration": 12,
    "start_time": "2025-03-13T16:32:20.015Z"
   },
   {
    "duration": 223,
    "start_time": "2025-03-13T16:32:20.029Z"
   },
   {
    "duration": 5,
    "start_time": "2025-03-13T16:32:20.254Z"
   },
   {
    "duration": 204,
    "start_time": "2025-03-13T16:32:20.261Z"
   },
   {
    "duration": 4,
    "start_time": "2025-03-13T16:32:20.466Z"
   },
   {
    "duration": 13,
    "start_time": "2025-03-13T16:34:37.753Z"
   },
   {
    "duration": 10,
    "start_time": "2025-03-13T16:34:49.817Z"
   },
   {
    "duration": 11,
    "start_time": "2025-03-13T16:35:11.095Z"
   },
   {
    "duration": 7,
    "start_time": "2025-03-13T16:37:21.822Z"
   },
   {
    "duration": 7,
    "start_time": "2025-03-13T16:37:26.533Z"
   },
   {
    "duration": 51,
    "start_time": "2025-03-13T16:38:01.507Z"
   },
   {
    "duration": 47,
    "start_time": "2025-03-13T16:39:19.534Z"
   },
   {
    "duration": 88,
    "start_time": "2025-03-13T16:40:54.023Z"
   },
   {
    "duration": 85,
    "start_time": "2025-03-13T16:42:55.294Z"
   },
   {
    "duration": 92,
    "start_time": "2025-03-13T16:43:01.790Z"
   },
   {
    "duration": 91,
    "start_time": "2025-03-13T16:43:12.676Z"
   },
   {
    "duration": 91,
    "start_time": "2025-03-13T16:43:35.675Z"
   },
   {
    "duration": 160,
    "start_time": "2025-03-13T16:44:16.177Z"
   },
   {
    "duration": 12,
    "start_time": "2025-03-13T16:44:29.679Z"
   },
   {
    "duration": 90,
    "start_time": "2025-03-13T16:44:36.775Z"
   },
   {
    "duration": 11,
    "start_time": "2025-03-13T16:45:00.357Z"
   },
   {
    "duration": 15,
    "start_time": "2025-03-13T16:45:25.715Z"
   },
   {
    "duration": 19,
    "start_time": "2025-03-13T16:45:40.826Z"
   },
   {
    "duration": 98,
    "start_time": "2025-03-13T16:47:20.827Z"
   },
   {
    "duration": 47,
    "start_time": "2025-03-13T16:48:38.719Z"
   },
   {
    "duration": 50,
    "start_time": "2025-03-13T16:48:43.012Z"
   },
   {
    "duration": 99,
    "start_time": "2025-03-13T16:48:58.644Z"
   },
   {
    "duration": 134,
    "start_time": "2025-03-13T16:51:54.807Z"
   },
   {
    "duration": 97,
    "start_time": "2025-03-13T16:55:37.695Z"
   },
   {
    "duration": 95,
    "start_time": "2025-03-13T16:55:45.391Z"
   },
   {
    "duration": 99,
    "start_time": "2025-03-13T16:56:50.171Z"
   },
   {
    "duration": 97,
    "start_time": "2025-03-13T16:57:17.684Z"
   },
   {
    "duration": 101,
    "start_time": "2025-03-13T16:58:06.397Z"
   },
   {
    "duration": 97,
    "start_time": "2025-03-13T16:58:43.474Z"
   },
   {
    "duration": 97,
    "start_time": "2025-03-13T16:59:45.214Z"
   },
   {
    "duration": 56,
    "start_time": "2025-03-13T17:00:19.723Z"
   },
   {
    "duration": 57,
    "start_time": "2025-03-13T17:00:48.433Z"
   },
   {
    "duration": 60,
    "start_time": "2025-03-13T17:29:35.500Z"
   },
   {
    "duration": 96,
    "start_time": "2025-03-13T17:29:53.857Z"
   },
   {
    "duration": 99,
    "start_time": "2025-03-13T17:31:08.684Z"
   },
   {
    "duration": 103,
    "start_time": "2025-03-13T17:32:01.338Z"
   },
   {
    "duration": 950,
    "start_time": "2025-03-14T14:05:30.903Z"
   },
   {
    "duration": 41,
    "start_time": "2025-03-14T14:05:31.855Z"
   },
   {
    "duration": 20,
    "start_time": "2025-03-14T14:05:31.897Z"
   },
   {
    "duration": 26,
    "start_time": "2025-03-14T14:05:31.919Z"
   },
   {
    "duration": 71,
    "start_time": "2025-03-14T14:05:31.947Z"
   },
   {
    "duration": 32,
    "start_time": "2025-03-14T14:05:32.022Z"
   },
   {
    "duration": 199,
    "start_time": "2025-03-14T14:05:32.055Z"
   },
   {
    "duration": 155,
    "start_time": "2025-03-14T14:05:32.256Z"
   },
   {
    "duration": 24,
    "start_time": "2025-03-14T14:05:32.413Z"
   },
   {
    "duration": 430,
    "start_time": "2025-03-14T14:05:32.444Z"
   },
   {
    "duration": 320,
    "start_time": "2025-03-14T14:05:32.875Z"
   },
   {
    "duration": 403,
    "start_time": "2025-03-14T14:05:33.203Z"
   },
   {
    "duration": 15,
    "start_time": "2025-03-14T14:05:33.618Z"
   },
   {
    "duration": 437,
    "start_time": "2025-03-14T14:05:33.635Z"
   },
   {
    "duration": 393,
    "start_time": "2025-03-14T14:05:34.074Z"
   },
   {
    "duration": 13,
    "start_time": "2025-03-14T14:05:34.468Z"
   },
   {
    "duration": 277,
    "start_time": "2025-03-14T14:05:34.483Z"
   },
   {
    "duration": 5,
    "start_time": "2025-03-14T14:05:34.762Z"
   },
   {
    "duration": 267,
    "start_time": "2025-03-14T14:05:34.768Z"
   },
   {
    "duration": 5,
    "start_time": "2025-03-14T14:05:35.037Z"
   },
   {
    "duration": 24,
    "start_time": "2025-03-14T14:05:35.043Z"
   },
   {
    "duration": 119,
    "start_time": "2025-03-14T14:05:35.069Z"
   },
   {
    "duration": 133,
    "start_time": "2025-03-14T14:05:35.190Z"
   },
   {
    "duration": 75,
    "start_time": "2025-03-14T14:41:58.265Z"
   },
   {
    "duration": 25,
    "start_time": "2025-03-14T14:43:43.010Z"
   },
   {
    "duration": 17,
    "start_time": "2025-03-14T14:44:20.350Z"
   },
   {
    "duration": 735,
    "start_time": "2025-03-14T14:44:35.390Z"
   },
   {
    "duration": 28,
    "start_time": "2025-03-14T14:44:36.126Z"
   },
   {
    "duration": 14,
    "start_time": "2025-03-14T14:44:36.156Z"
   },
   {
    "duration": 20,
    "start_time": "2025-03-14T14:44:36.173Z"
   },
   {
    "duration": 69,
    "start_time": "2025-03-14T14:44:36.194Z"
   },
   {
    "duration": 27,
    "start_time": "2025-03-14T14:44:36.265Z"
   },
   {
    "duration": 179,
    "start_time": "2025-03-14T14:44:36.294Z"
   },
   {
    "duration": 157,
    "start_time": "2025-03-14T14:44:36.475Z"
   },
   {
    "duration": 17,
    "start_time": "2025-03-14T14:44:36.633Z"
   },
   {
    "duration": 372,
    "start_time": "2025-03-14T14:44:36.653Z"
   },
   {
    "duration": 271,
    "start_time": "2025-03-14T14:44:37.026Z"
   },
   {
    "duration": 402,
    "start_time": "2025-03-14T14:44:37.304Z"
   },
   {
    "duration": 6,
    "start_time": "2025-03-14T14:44:37.708Z"
   },
   {
    "duration": 400,
    "start_time": "2025-03-14T14:44:37.716Z"
   },
   {
    "duration": 368,
    "start_time": "2025-03-14T14:44:38.118Z"
   },
   {
    "duration": 23,
    "start_time": "2025-03-14T14:44:38.487Z"
   },
   {
    "duration": 240,
    "start_time": "2025-03-14T14:44:38.511Z"
   },
   {
    "duration": 5,
    "start_time": "2025-03-14T14:44:38.753Z"
   },
   {
    "duration": 227,
    "start_time": "2025-03-14T14:44:38.759Z"
   },
   {
    "duration": 5,
    "start_time": "2025-03-14T14:44:38.987Z"
   },
   {
    "duration": 11,
    "start_time": "2025-03-14T14:44:39.004Z"
   },
   {
    "duration": 129,
    "start_time": "2025-03-14T14:44:39.016Z"
   },
   {
    "duration": 119,
    "start_time": "2025-03-14T14:44:39.147Z"
   },
   {
    "duration": 74,
    "start_time": "2025-03-14T14:46:21.182Z"
   },
   {
    "duration": 16,
    "start_time": "2025-03-14T14:46:31.869Z"
   },
   {
    "duration": 14,
    "start_time": "2025-03-14T14:46:56.683Z"
   },
   {
    "duration": 160,
    "start_time": "2025-03-14T14:47:30.497Z"
   },
   {
    "duration": 10,
    "start_time": "2025-03-14T14:47:43.808Z"
   },
   {
    "duration": 37,
    "start_time": "2025-03-14T14:52:31.452Z"
   },
   {
    "duration": 139,
    "start_time": "2025-03-14T14:53:11.210Z"
   },
   {
    "duration": 647,
    "start_time": "2025-03-14T14:55:01.850Z"
   },
   {
    "duration": 28,
    "start_time": "2025-03-14T14:55:02.499Z"
   },
   {
    "duration": 29,
    "start_time": "2025-03-14T14:55:02.529Z"
   },
   {
    "duration": 29,
    "start_time": "2025-03-14T14:55:02.560Z"
   },
   {
    "duration": 96,
    "start_time": "2025-03-14T14:55:02.591Z"
   },
   {
    "duration": 29,
    "start_time": "2025-03-14T14:55:02.689Z"
   },
   {
    "duration": 217,
    "start_time": "2025-03-14T14:55:02.720Z"
   },
   {
    "duration": 150,
    "start_time": "2025-03-14T14:55:02.938Z"
   },
   {
    "duration": 28,
    "start_time": "2025-03-14T14:55:03.090Z"
   },
   {
    "duration": 447,
    "start_time": "2025-03-14T14:55:03.121Z"
   },
   {
    "duration": 273,
    "start_time": "2025-03-14T14:55:03.569Z"
   },
   {
    "duration": 352,
    "start_time": "2025-03-14T14:55:03.845Z"
   },
   {
    "duration": 8,
    "start_time": "2025-03-14T14:55:04.199Z"
   },
   {
    "duration": 379,
    "start_time": "2025-03-14T14:55:04.209Z"
   },
   {
    "duration": 408,
    "start_time": "2025-03-14T14:55:04.590Z"
   },
   {
    "duration": 16,
    "start_time": "2025-03-14T14:55:05.003Z"
   },
   {
    "duration": 274,
    "start_time": "2025-03-14T14:55:05.021Z"
   },
   {
    "duration": 10,
    "start_time": "2025-03-14T14:55:05.297Z"
   },
   {
    "duration": 272,
    "start_time": "2025-03-14T14:55:05.310Z"
   },
   {
    "duration": 5,
    "start_time": "2025-03-14T14:55:05.584Z"
   },
   {
    "duration": 17,
    "start_time": "2025-03-14T14:55:05.603Z"
   },
   {
    "duration": 125,
    "start_time": "2025-03-14T14:55:05.622Z"
   },
   {
    "duration": 129,
    "start_time": "2025-03-14T14:55:05.748Z"
   },
   {
    "duration": 19,
    "start_time": "2025-03-14T14:56:18.512Z"
   },
   {
    "duration": 36,
    "start_time": "2025-03-14T14:56:23.470Z"
   },
   {
    "duration": 76,
    "start_time": "2025-03-14T14:57:38.402Z"
   },
   {
    "duration": 31,
    "start_time": "2025-03-14T14:58:00.121Z"
   },
   {
    "duration": 21,
    "start_time": "2025-03-14T15:05:47.010Z"
   },
   {
    "duration": 14,
    "start_time": "2025-03-14T15:06:00.131Z"
   },
   {
    "duration": 132,
    "start_time": "2025-03-14T15:06:15.400Z"
   },
   {
    "duration": 143,
    "start_time": "2025-03-14T15:07:23.116Z"
   },
   {
    "duration": 154,
    "start_time": "2025-03-14T15:07:43.699Z"
   },
   {
    "duration": 7,
    "start_time": "2025-03-14T15:09:22.388Z"
   },
   {
    "duration": 8,
    "start_time": "2025-03-14T15:09:27.451Z"
   },
   {
    "duration": 4,
    "start_time": "2025-03-14T15:11:41.306Z"
   },
   {
    "duration": 6,
    "start_time": "2025-03-14T15:14:25.070Z"
   },
   {
    "duration": 12,
    "start_time": "2025-03-14T15:17:39.449Z"
   },
   {
    "duration": 477,
    "start_time": "2025-03-14T15:18:03.455Z"
   },
   {
    "duration": 31,
    "start_time": "2025-03-14T15:18:07.447Z"
   },
   {
    "duration": 4,
    "start_time": "2025-03-14T15:19:21.626Z"
   },
   {
    "duration": 4,
    "start_time": "2025-03-14T15:19:34.681Z"
   },
   {
    "duration": 98,
    "start_time": "2025-03-14T15:22:26.213Z"
   },
   {
    "duration": 4,
    "start_time": "2025-03-14T15:22:32.853Z"
   },
   {
    "duration": 84,
    "start_time": "2025-03-14T15:22:35.717Z"
   },
   {
    "duration": 28,
    "start_time": "2025-03-14T15:22:42.939Z"
   },
   {
    "duration": 30,
    "start_time": "2025-03-14T15:22:47.547Z"
   },
   {
    "duration": 30,
    "start_time": "2025-03-14T15:23:08.634Z"
   },
   {
    "duration": 59,
    "start_time": "2025-03-14T15:24:26.229Z"
   },
   {
    "duration": 35,
    "start_time": "2025-03-14T15:24:35.268Z"
   },
   {
    "duration": 35,
    "start_time": "2025-03-14T15:25:05.722Z"
   },
   {
    "duration": 36,
    "start_time": "2025-03-14T15:25:19.249Z"
   },
   {
    "duration": 29,
    "start_time": "2025-03-14T15:25:43.182Z"
   },
   {
    "duration": 42,
    "start_time": "2025-03-14T15:29:30.435Z"
   },
   {
    "duration": 35,
    "start_time": "2025-03-14T15:30:25.800Z"
   },
   {
    "duration": 44,
    "start_time": "2025-03-14T15:30:42.582Z"
   },
   {
    "duration": 33,
    "start_time": "2025-03-14T15:30:48.837Z"
   },
   {
    "duration": 31,
    "start_time": "2025-03-14T15:32:13.351Z"
   },
   {
    "duration": 4,
    "start_time": "2025-03-14T15:35:18.888Z"
   },
   {
    "duration": 5,
    "start_time": "2025-03-14T15:35:23.168Z"
   },
   {
    "duration": 6,
    "start_time": "2025-03-14T15:35:30.471Z"
   },
   {
    "duration": 38,
    "start_time": "2025-03-14T15:40:46.791Z"
   },
   {
    "duration": 30,
    "start_time": "2025-03-14T15:41:01.359Z"
   },
   {
    "duration": 32,
    "start_time": "2025-03-14T15:41:08.211Z"
   },
   {
    "duration": 31,
    "start_time": "2025-03-14T15:41:26.133Z"
   },
   {
    "duration": 12,
    "start_time": "2025-03-14T15:55:53.684Z"
   },
   {
    "duration": 7,
    "start_time": "2025-03-14T15:58:28.738Z"
   },
   {
    "duration": 11,
    "start_time": "2025-03-14T15:58:33.508Z"
   },
   {
    "duration": 19,
    "start_time": "2025-03-14T15:58:46.706Z"
   },
   {
    "duration": 10,
    "start_time": "2025-03-14T16:00:50.855Z"
   },
   {
    "duration": 11,
    "start_time": "2025-03-14T16:01:01.359Z"
   },
   {
    "duration": 9,
    "start_time": "2025-03-14T16:05:36.066Z"
   },
   {
    "duration": 11,
    "start_time": "2025-03-14T16:06:11.759Z"
   },
   {
    "duration": 31,
    "start_time": "2025-03-14T16:07:06.131Z"
   },
   {
    "duration": 21,
    "start_time": "2025-03-14T16:07:10.794Z"
   },
   {
    "duration": 13,
    "start_time": "2025-03-14T16:07:21.425Z"
   },
   {
    "duration": 18,
    "start_time": "2025-03-14T16:08:58.395Z"
   },
   {
    "duration": 73,
    "start_time": "2025-03-14T16:09:21.225Z"
   },
   {
    "duration": 12,
    "start_time": "2025-03-14T16:10:23.164Z"
   },
   {
    "duration": 7,
    "start_time": "2025-03-14T16:17:32.877Z"
   },
   {
    "duration": 8,
    "start_time": "2025-03-14T16:17:38.716Z"
   },
   {
    "duration": 8,
    "start_time": "2025-03-14T16:18:40.591Z"
   },
   {
    "duration": 7,
    "start_time": "2025-03-14T16:19:44.216Z"
   },
   {
    "duration": 8,
    "start_time": "2025-03-14T16:23:28.617Z"
   },
   {
    "duration": 1268,
    "start_time": "2025-03-14T16:28:02.647Z"
   },
   {
    "duration": 18,
    "start_time": "2025-03-14T16:28:18.493Z"
   },
   {
    "duration": 10,
    "start_time": "2025-03-14T16:28:32.564Z"
   },
   {
    "duration": 6,
    "start_time": "2025-03-14T16:28:57.563Z"
   },
   {
    "duration": 8,
    "start_time": "2025-03-14T16:29:18.569Z"
   },
   {
    "duration": 11,
    "start_time": "2025-03-14T16:29:22.152Z"
   },
   {
    "duration": 10,
    "start_time": "2025-03-14T16:29:42.663Z"
   },
   {
    "duration": 10,
    "start_time": "2025-03-14T16:30:05.365Z"
   },
   {
    "duration": 13,
    "start_time": "2025-03-14T16:30:16.924Z"
   },
   {
    "duration": 11,
    "start_time": "2025-03-14T16:30:22.339Z"
   },
   {
    "duration": 14,
    "start_time": "2025-03-14T16:30:27.540Z"
   },
   {
    "duration": 26,
    "start_time": "2025-03-14T16:31:04.793Z"
   },
   {
    "duration": 18,
    "start_time": "2025-03-14T16:32:03.501Z"
   },
   {
    "duration": 5,
    "start_time": "2025-03-14T16:32:12.788Z"
   },
   {
    "duration": 5,
    "start_time": "2025-03-14T16:32:21.731Z"
   },
   {
    "duration": 5,
    "start_time": "2025-03-14T16:32:28.186Z"
   },
   {
    "duration": 4,
    "start_time": "2025-03-14T16:32:36.186Z"
   },
   {
    "duration": 9,
    "start_time": "2025-03-14T16:38:44.723Z"
   },
   {
    "duration": 5,
    "start_time": "2025-03-14T16:40:18.828Z"
   },
   {
    "duration": 74,
    "start_time": "2025-03-14T16:41:48.477Z"
   },
   {
    "duration": 10,
    "start_time": "2025-03-14T16:42:00.877Z"
   },
   {
    "duration": 11,
    "start_time": "2025-03-14T16:42:08.617Z"
   },
   {
    "duration": 79,
    "start_time": "2025-03-14T16:43:03.376Z"
   },
   {
    "duration": 69,
    "start_time": "2025-03-14T16:43:26.000Z"
   },
   {
    "duration": 77,
    "start_time": "2025-03-14T16:43:37.678Z"
   },
   {
    "duration": 92,
    "start_time": "2025-03-14T16:44:02.924Z"
   },
   {
    "duration": 11,
    "start_time": "2025-03-14T16:44:10.227Z"
   },
   {
    "duration": 11,
    "start_time": "2025-03-14T16:45:05.991Z"
   },
   {
    "duration": 10,
    "start_time": "2025-03-14T16:47:14.487Z"
   },
   {
    "duration": 10,
    "start_time": "2025-03-14T16:47:23.270Z"
   },
   {
    "duration": 14,
    "start_time": "2025-03-14T16:48:12.908Z"
   },
   {
    "duration": 11,
    "start_time": "2025-03-14T16:48:28.212Z"
   },
   {
    "duration": 15,
    "start_time": "2025-03-14T16:48:53.503Z"
   },
   {
    "duration": 13,
    "start_time": "2025-03-14T16:49:16.518Z"
   },
   {
    "duration": 10,
    "start_time": "2025-03-14T16:49:25.021Z"
   },
   {
    "duration": 10,
    "start_time": "2025-03-14T16:49:27.957Z"
   },
   {
    "duration": 10,
    "start_time": "2025-03-14T16:49:54.755Z"
   },
   {
    "duration": 11,
    "start_time": "2025-03-14T16:50:08.218Z"
   },
   {
    "duration": 11,
    "start_time": "2025-03-14T16:50:49.047Z"
   },
   {
    "duration": 11,
    "start_time": "2025-03-14T16:50:55.439Z"
   },
   {
    "duration": 11,
    "start_time": "2025-03-14T16:51:00.326Z"
   },
   {
    "duration": 10,
    "start_time": "2025-03-14T16:52:36.024Z"
   },
   {
    "duration": 15,
    "start_time": "2025-03-14T16:52:43.471Z"
   },
   {
    "duration": 13,
    "start_time": "2025-03-14T16:53:51.138Z"
   },
   {
    "duration": 40,
    "start_time": "2025-03-14T16:55:19.084Z"
   },
   {
    "duration": 71,
    "start_time": "2025-03-14T17:00:14.287Z"
   },
   {
    "duration": 76,
    "start_time": "2025-03-14T17:00:19.014Z"
   },
   {
    "duration": 7,
    "start_time": "2025-03-14T17:00:25.502Z"
   },
   {
    "duration": 1265,
    "start_time": "2025-03-14T17:01:06.355Z"
   },
   {
    "duration": 1417,
    "start_time": "2025-03-14T17:03:37.124Z"
   },
   {
    "duration": 19,
    "start_time": "2025-03-14T17:03:50.472Z"
   },
   {
    "duration": 1971,
    "start_time": "2025-03-14T17:03:58.086Z"
   },
   {
    "duration": 11,
    "start_time": "2025-03-14T17:04:22.157Z"
   },
   {
    "duration": 5,
    "start_time": "2025-03-14T17:04:42.340Z"
   },
   {
    "duration": 5,
    "start_time": "2025-03-14T17:04:51.386Z"
   },
   {
    "duration": 13,
    "start_time": "2025-03-14T17:04:55.411Z"
   },
   {
    "duration": 14,
    "start_time": "2025-03-14T17:05:01.514Z"
   },
   {
    "duration": 15,
    "start_time": "2025-03-14T17:05:22.217Z"
   },
   {
    "duration": 15,
    "start_time": "2025-03-14T17:07:23.392Z"
   },
   {
    "duration": 1271,
    "start_time": "2025-03-14T17:07:59.140Z"
   },
   {
    "duration": 9,
    "start_time": "2025-03-14T17:08:14.083Z"
   },
   {
    "duration": 16,
    "start_time": "2025-03-14T17:09:50.933Z"
   },
   {
    "duration": 11,
    "start_time": "2025-03-14T17:10:13.123Z"
   },
   {
    "duration": 12,
    "start_time": "2025-03-14T17:10:28.907Z"
   },
   {
    "duration": 13,
    "start_time": "2025-03-14T17:10:43.554Z"
   },
   {
    "duration": 13,
    "start_time": "2025-03-14T17:11:02.536Z"
   },
   {
    "duration": 14,
    "start_time": "2025-03-14T17:12:12.508Z"
   },
   {
    "duration": 16,
    "start_time": "2025-03-14T17:12:40.465Z"
   },
   {
    "duration": 1284,
    "start_time": "2025-03-14T17:30:48.058Z"
   },
   {
    "duration": 29,
    "start_time": "2025-03-14T17:30:49.344Z"
   },
   {
    "duration": 27,
    "start_time": "2025-03-14T17:30:49.375Z"
   },
   {
    "duration": 41,
    "start_time": "2025-03-14T17:30:49.404Z"
   },
   {
    "duration": 74,
    "start_time": "2025-03-14T17:30:49.446Z"
   },
   {
    "duration": 29,
    "start_time": "2025-03-14T17:30:49.524Z"
   },
   {
    "duration": 192,
    "start_time": "2025-03-14T17:30:49.555Z"
   },
   {
    "duration": 182,
    "start_time": "2025-03-14T17:30:49.748Z"
   },
   {
    "duration": 17,
    "start_time": "2025-03-14T17:30:49.932Z"
   },
   {
    "duration": 398,
    "start_time": "2025-03-14T17:30:49.954Z"
   },
   {
    "duration": 277,
    "start_time": "2025-03-14T17:30:50.353Z"
   },
   {
    "duration": 380,
    "start_time": "2025-03-14T17:30:50.632Z"
   },
   {
    "duration": 10,
    "start_time": "2025-03-14T17:30:51.014Z"
   },
   {
    "duration": 346,
    "start_time": "2025-03-14T17:30:51.026Z"
   },
   {
    "duration": 444,
    "start_time": "2025-03-14T17:30:51.375Z"
   },
   {
    "duration": 15,
    "start_time": "2025-03-14T17:30:51.822Z"
   },
   {
    "duration": 268,
    "start_time": "2025-03-14T17:30:51.839Z"
   },
   {
    "duration": 7,
    "start_time": "2025-03-14T17:30:52.111Z"
   },
   {
    "duration": 258,
    "start_time": "2025-03-14T17:30:52.124Z"
   },
   {
    "duration": 10,
    "start_time": "2025-03-14T17:30:52.384Z"
   },
   {
    "duration": 159,
    "start_time": "2025-03-14T17:30:52.396Z"
   },
   {
    "duration": 139,
    "start_time": "2025-03-14T17:30:52.557Z"
   },
   {
    "duration": 60,
    "start_time": "2025-03-14T17:30:52.703Z"
   },
   {
    "duration": 164,
    "start_time": "2025-03-14T17:30:52.765Z"
   },
   {
    "duration": 36,
    "start_time": "2025-03-14T17:30:52.931Z"
   },
   {
    "duration": 12,
    "start_time": "2025-03-14T17:30:52.969Z"
   },
   {
    "duration": 22,
    "start_time": "2025-03-14T17:30:53.005Z"
   },
   {
    "duration": 12,
    "start_time": "2025-03-14T17:30:53.031Z"
   },
   {
    "duration": 10,
    "start_time": "2025-03-14T17:30:53.045Z"
   },
   {
    "duration": 58,
    "start_time": "2025-03-14T17:30:53.056Z"
   },
   {
    "duration": 25,
    "start_time": "2025-03-14T17:30:53.116Z"
   },
   {
    "duration": 1195,
    "start_time": "2025-03-14T17:46:52.295Z"
   },
   {
    "duration": 28,
    "start_time": "2025-03-14T17:46:53.492Z"
   },
   {
    "duration": 12,
    "start_time": "2025-03-14T17:46:53.522Z"
   },
   {
    "duration": 21,
    "start_time": "2025-03-14T17:46:53.536Z"
   },
   {
    "duration": 61,
    "start_time": "2025-03-14T17:46:53.558Z"
   },
   {
    "duration": 28,
    "start_time": "2025-03-14T17:46:53.620Z"
   },
   {
    "duration": 176,
    "start_time": "2025-03-14T17:46:53.651Z"
   },
   {
    "duration": 149,
    "start_time": "2025-03-14T17:46:53.829Z"
   },
   {
    "duration": 33,
    "start_time": "2025-03-14T17:46:53.980Z"
   },
   {
    "duration": 365,
    "start_time": "2025-03-14T17:46:54.016Z"
   },
   {
    "duration": 276,
    "start_time": "2025-03-14T17:46:54.383Z"
   },
   {
    "duration": 403,
    "start_time": "2025-03-14T17:46:54.661Z"
   },
   {
    "duration": 7,
    "start_time": "2025-03-14T17:46:55.066Z"
   },
   {
    "duration": 317,
    "start_time": "2025-03-14T17:46:55.075Z"
   },
   {
    "duration": 378,
    "start_time": "2025-03-14T17:46:55.394Z"
   },
   {
    "duration": 13,
    "start_time": "2025-03-14T17:46:55.773Z"
   },
   {
    "duration": 234,
    "start_time": "2025-03-14T17:46:55.787Z"
   },
   {
    "duration": 5,
    "start_time": "2025-03-14T17:46:56.022Z"
   },
   {
    "duration": 229,
    "start_time": "2025-03-14T17:46:56.028Z"
   },
   {
    "duration": 5,
    "start_time": "2025-03-14T17:46:56.259Z"
   },
   {
    "duration": 142,
    "start_time": "2025-03-14T17:46:56.265Z"
   },
   {
    "duration": 126,
    "start_time": "2025-03-14T17:46:56.408Z"
   },
   {
    "duration": 27,
    "start_time": "2025-03-14T17:46:56.536Z"
   },
   {
    "duration": 200,
    "start_time": "2025-03-14T17:46:56.565Z"
   },
   {
    "duration": 49,
    "start_time": "2025-03-14T17:46:56.766Z"
   },
   {
    "duration": 11,
    "start_time": "2025-03-14T17:46:56.816Z"
   },
   {
    "duration": 34,
    "start_time": "2025-03-14T17:46:56.828Z"
   },
   {
    "duration": 10,
    "start_time": "2025-03-14T17:46:56.865Z"
   },
   {
    "duration": 25,
    "start_time": "2025-03-14T17:46:56.876Z"
   },
   {
    "duration": 26,
    "start_time": "2025-03-14T17:46:56.903Z"
   },
   {
    "duration": 15,
    "start_time": "2025-03-14T17:46:56.931Z"
   },
   {
    "duration": 1152,
    "start_time": "2025-03-14T17:59:41.032Z"
   },
   {
    "duration": 39,
    "start_time": "2025-03-14T17:59:42.185Z"
   },
   {
    "duration": 15,
    "start_time": "2025-03-14T17:59:42.229Z"
   },
   {
    "duration": 14,
    "start_time": "2025-03-14T17:59:42.247Z"
   },
   {
    "duration": 62,
    "start_time": "2025-03-14T17:59:42.262Z"
   },
   {
    "duration": 29,
    "start_time": "2025-03-14T17:59:42.326Z"
   },
   {
    "duration": 183,
    "start_time": "2025-03-14T17:59:42.357Z"
   },
   {
    "duration": 142,
    "start_time": "2025-03-14T17:59:42.542Z"
   },
   {
    "duration": 26,
    "start_time": "2025-03-14T17:59:42.687Z"
   },
   {
    "duration": 375,
    "start_time": "2025-03-14T17:59:42.714Z"
   },
   {
    "duration": 275,
    "start_time": "2025-03-14T17:59:43.091Z"
   },
   {
    "duration": 383,
    "start_time": "2025-03-14T17:59:43.368Z"
   },
   {
    "duration": 6,
    "start_time": "2025-03-14T17:59:43.753Z"
   },
   {
    "duration": 305,
    "start_time": "2025-03-14T17:59:43.761Z"
   },
   {
    "duration": 397,
    "start_time": "2025-03-14T17:59:44.068Z"
   },
   {
    "duration": 13,
    "start_time": "2025-03-14T17:59:44.467Z"
   },
   {
    "duration": 248,
    "start_time": "2025-03-14T17:59:44.481Z"
   },
   {
    "duration": 4,
    "start_time": "2025-03-14T17:59:44.731Z"
   },
   {
    "duration": 234,
    "start_time": "2025-03-14T17:59:44.737Z"
   },
   {
    "duration": 5,
    "start_time": "2025-03-14T17:59:44.973Z"
   },
   {
    "duration": 127,
    "start_time": "2025-03-14T17:59:44.980Z"
   },
   {
    "duration": 130,
    "start_time": "2025-03-14T17:59:45.109Z"
   },
   {
    "duration": 29,
    "start_time": "2025-03-14T17:59:45.240Z"
   },
   {
    "duration": 175,
    "start_time": "2025-03-14T17:59:45.270Z"
   },
   {
    "duration": 31,
    "start_time": "2025-03-14T17:59:45.446Z"
   },
   {
    "duration": 31,
    "start_time": "2025-03-14T17:59:45.478Z"
   },
   {
    "duration": 23,
    "start_time": "2025-03-14T17:59:45.513Z"
   },
   {
    "duration": 11,
    "start_time": "2025-03-14T17:59:45.538Z"
   },
   {
    "duration": 12,
    "start_time": "2025-03-14T17:59:45.550Z"
   },
   {
    "duration": 44,
    "start_time": "2025-03-14T17:59:45.563Z"
   },
   {
    "duration": 15,
    "start_time": "2025-03-14T17:59:45.608Z"
   },
   {
    "duration": 64,
    "start_time": "2025-03-14T19:48:35.596Z"
   },
   {
    "duration": 49,
    "start_time": "2025-03-14T19:48:35.662Z"
   },
   {
    "duration": 14,
    "start_time": "2025-03-14T19:48:35.713Z"
   },
   {
    "duration": 48,
    "start_time": "2025-03-14T19:48:35.729Z"
   },
   {
    "duration": 96,
    "start_time": "2025-03-14T19:48:35.779Z"
   },
   {
    "duration": 28,
    "start_time": "2025-03-14T19:48:35.877Z"
   },
   {
    "duration": 192,
    "start_time": "2025-03-14T19:48:35.907Z"
   },
   {
    "duration": 133,
    "start_time": "2025-03-14T19:48:36.101Z"
   },
   {
    "duration": 16,
    "start_time": "2025-03-14T19:48:36.235Z"
   },
   {
    "duration": 353,
    "start_time": "2025-03-14T19:48:36.255Z"
   },
   {
    "duration": 274,
    "start_time": "2025-03-14T19:48:36.610Z"
   },
   {
    "duration": 394,
    "start_time": "2025-03-14T19:48:36.886Z"
   },
   {
    "duration": 6,
    "start_time": "2025-03-14T19:48:37.282Z"
   },
   {
    "duration": 323,
    "start_time": "2025-03-14T19:48:37.290Z"
   },
   {
    "duration": 377,
    "start_time": "2025-03-14T19:48:37.615Z"
   },
   {
    "duration": 14,
    "start_time": "2025-03-14T19:48:37.993Z"
   },
   {
    "duration": 239,
    "start_time": "2025-03-14T19:48:38.008Z"
   },
   {
    "duration": 4,
    "start_time": "2025-03-14T19:48:38.249Z"
   },
   {
    "duration": 225,
    "start_time": "2025-03-14T19:48:38.255Z"
   },
   {
    "duration": 4,
    "start_time": "2025-03-14T19:48:38.482Z"
   },
   {
    "duration": 159,
    "start_time": "2025-03-14T19:48:38.488Z"
   },
   {
    "duration": 113,
    "start_time": "2025-03-14T19:48:38.649Z"
   },
   {
    "duration": 51,
    "start_time": "2025-03-14T19:48:38.763Z"
   },
   {
    "duration": 152,
    "start_time": "2025-03-14T19:48:38.816Z"
   },
   {
    "duration": 47,
    "start_time": "2025-03-14T19:48:38.970Z"
   },
   {
    "duration": 10,
    "start_time": "2025-03-14T19:48:39.018Z"
   },
   {
    "duration": 41,
    "start_time": "2025-03-14T19:48:39.030Z"
   },
   {
    "duration": 13,
    "start_time": "2025-03-14T19:48:39.073Z"
   },
   {
    "duration": 23,
    "start_time": "2025-03-14T19:48:39.087Z"
   },
   {
    "duration": 41,
    "start_time": "2025-03-14T19:48:39.111Z"
   },
   {
    "duration": 15,
    "start_time": "2025-03-14T19:48:39.154Z"
   },
   {
    "duration": 37,
    "start_time": "2025-03-14T19:51:20.159Z"
   },
   {
    "duration": 38,
    "start_time": "2025-03-14T19:51:20.197Z"
   },
   {
    "duration": 10,
    "start_time": "2025-03-14T19:51:20.237Z"
   },
   {
    "duration": 28,
    "start_time": "2025-03-14T19:51:20.249Z"
   },
   {
    "duration": 69,
    "start_time": "2025-03-14T19:51:20.278Z"
   },
   {
    "duration": 28,
    "start_time": "2025-03-14T19:51:20.348Z"
   },
   {
    "duration": 179,
    "start_time": "2025-03-14T19:51:20.377Z"
   },
   {
    "duration": 146,
    "start_time": "2025-03-14T19:51:20.558Z"
   },
   {
    "duration": 16,
    "start_time": "2025-03-14T19:51:20.706Z"
   },
   {
    "duration": 361,
    "start_time": "2025-03-14T19:51:20.724Z"
   },
   {
    "duration": 262,
    "start_time": "2025-03-14T19:51:21.087Z"
   },
   {
    "duration": 348,
    "start_time": "2025-03-14T19:51:21.351Z"
   },
   {
    "duration": 6,
    "start_time": "2025-03-14T19:51:21.703Z"
   },
   {
    "duration": 296,
    "start_time": "2025-03-14T19:51:21.711Z"
   },
   {
    "duration": 370,
    "start_time": "2025-03-14T19:51:22.008Z"
   },
   {
    "duration": 24,
    "start_time": "2025-03-14T19:51:22.380Z"
   },
   {
    "duration": 232,
    "start_time": "2025-03-14T19:51:22.406Z"
   },
   {
    "duration": 6,
    "start_time": "2025-03-14T19:51:22.640Z"
   },
   {
    "duration": 246,
    "start_time": "2025-03-14T19:51:22.648Z"
   },
   {
    "duration": 4,
    "start_time": "2025-03-14T19:51:22.904Z"
   },
   {
    "duration": 118,
    "start_time": "2025-03-14T19:51:22.909Z"
   },
   {
    "duration": 121,
    "start_time": "2025-03-14T19:51:23.029Z"
   },
   {
    "duration": 31,
    "start_time": "2025-03-14T19:51:23.152Z"
   },
   {
    "duration": 164,
    "start_time": "2025-03-14T19:51:23.203Z"
   },
   {
    "duration": 43,
    "start_time": "2025-03-14T19:51:23.368Z"
   },
   {
    "duration": 11,
    "start_time": "2025-03-14T19:51:23.413Z"
   },
   {
    "duration": 12,
    "start_time": "2025-03-14T19:51:23.425Z"
   },
   {
    "duration": 10,
    "start_time": "2025-03-14T19:51:23.438Z"
   },
   {
    "duration": 15,
    "start_time": "2025-03-14T19:51:23.449Z"
   },
   {
    "duration": 55,
    "start_time": "2025-03-14T19:51:23.465Z"
   },
   {
    "duration": 15,
    "start_time": "2025-03-14T19:51:23.521Z"
   },
   {
    "duration": 50,
    "start_time": "2025-03-15T16:59:00.301Z"
   },
   {
    "duration": 1248,
    "start_time": "2025-03-15T16:59:06.879Z"
   },
   {
    "duration": 37,
    "start_time": "2025-03-15T16:59:08.129Z"
   },
   {
    "duration": 7,
    "start_time": "2025-03-15T16:59:08.167Z"
   },
   {
    "duration": 21,
    "start_time": "2025-03-15T16:59:08.176Z"
   },
   {
    "duration": 112,
    "start_time": "2025-03-15T16:59:08.198Z"
   },
   {
    "duration": 26,
    "start_time": "2025-03-15T16:59:08.311Z"
   },
   {
    "duration": 163,
    "start_time": "2025-03-15T16:59:08.338Z"
   },
   {
    "duration": 119,
    "start_time": "2025-03-15T16:59:08.503Z"
   },
   {
    "duration": 15,
    "start_time": "2025-03-15T16:59:08.623Z"
   },
   {
    "duration": 351,
    "start_time": "2025-03-15T16:59:08.640Z"
   },
   {
    "duration": 237,
    "start_time": "2025-03-15T16:59:08.993Z"
   },
   {
    "duration": 405,
    "start_time": "2025-03-15T16:59:09.232Z"
   },
   {
    "duration": 5,
    "start_time": "2025-03-15T16:59:09.639Z"
   },
   {
    "duration": 280,
    "start_time": "2025-03-15T16:59:09.645Z"
   },
   {
    "duration": 360,
    "start_time": "2025-03-15T16:59:09.926Z"
   },
   {
    "duration": 11,
    "start_time": "2025-03-15T16:59:10.288Z"
   },
   {
    "duration": 207,
    "start_time": "2025-03-15T16:59:10.301Z"
   },
   {
    "duration": 4,
    "start_time": "2025-03-15T16:59:10.509Z"
   },
   {
    "duration": 207,
    "start_time": "2025-03-15T16:59:10.514Z"
   },
   {
    "duration": 3,
    "start_time": "2025-03-15T16:59:10.723Z"
   },
   {
    "duration": 109,
    "start_time": "2025-03-15T16:59:10.728Z"
   },
   {
    "duration": 107,
    "start_time": "2025-03-15T16:59:10.839Z"
   },
   {
    "duration": 35,
    "start_time": "2025-03-15T16:59:10.947Z"
   },
   {
    "duration": 144,
    "start_time": "2025-03-15T16:59:10.983Z"
   },
   {
    "duration": 39,
    "start_time": "2025-03-15T16:59:11.129Z"
   },
   {
    "duration": 9,
    "start_time": "2025-03-15T16:59:11.169Z"
   },
   {
    "duration": 17,
    "start_time": "2025-03-15T16:59:11.179Z"
   },
   {
    "duration": 10,
    "start_time": "2025-03-15T16:59:11.198Z"
   },
   {
    "duration": 14,
    "start_time": "2025-03-15T16:59:11.209Z"
   },
   {
    "duration": 40,
    "start_time": "2025-03-15T16:59:11.224Z"
   },
   {
    "duration": 14,
    "start_time": "2025-03-15T16:59:11.265Z"
   },
   {
    "duration": 6,
    "start_time": "2025-03-15T16:59:51.286Z"
   },
   {
    "duration": 12,
    "start_time": "2025-03-15T17:00:05.409Z"
   },
   {
    "duration": 12,
    "start_time": "2025-03-15T17:05:58.912Z"
   },
   {
    "duration": 12,
    "start_time": "2025-03-15T17:06:06.872Z"
   },
   {
    "duration": 4,
    "start_time": "2025-03-15T18:33:51.121Z"
   },
   {
    "duration": 8,
    "start_time": "2025-03-15T18:33:54.883Z"
   },
   {
    "duration": 5,
    "start_time": "2025-03-15T18:34:05.065Z"
   },
   {
    "duration": 7,
    "start_time": "2025-03-15T18:34:16.064Z"
   },
   {
    "duration": 7,
    "start_time": "2025-03-15T18:37:18.399Z"
   },
   {
    "duration": 6,
    "start_time": "2025-03-15T18:37:21.558Z"
   },
   {
    "duration": 6,
    "start_time": "2025-03-15T18:38:29.376Z"
   },
   {
    "duration": 5,
    "start_time": "2025-03-15T18:41:12.965Z"
   },
   {
    "duration": 4,
    "start_time": "2025-03-15T18:41:31.573Z"
   },
   {
    "duration": 4,
    "start_time": "2025-03-15T18:43:53.731Z"
   },
   {
    "duration": 4,
    "start_time": "2025-03-15T18:44:16.716Z"
   },
   {
    "duration": 5,
    "start_time": "2025-03-15T18:48:34.915Z"
   },
   {
    "duration": 4,
    "start_time": "2025-03-15T18:50:18.341Z"
   },
   {
    "duration": 80,
    "start_time": "2025-03-15T18:50:38.233Z"
   },
   {
    "duration": 60,
    "start_time": "2025-03-15T18:50:52.132Z"
   },
   {
    "duration": 65,
    "start_time": "2025-03-15T18:51:00.913Z"
   },
   {
    "duration": 5,
    "start_time": "2025-03-15T18:52:11.033Z"
   },
   {
    "duration": 5,
    "start_time": "2025-03-15T18:52:31.520Z"
   },
   {
    "duration": 5,
    "start_time": "2025-03-15T18:53:11.347Z"
   },
   {
    "duration": 6,
    "start_time": "2025-03-15T18:53:22.169Z"
   },
   {
    "duration": 7,
    "start_time": "2025-03-15T18:53:47.721Z"
   },
   {
    "duration": 8,
    "start_time": "2025-03-15T18:54:33.227Z"
   },
   {
    "duration": 176,
    "start_time": "2025-03-15T18:57:09.740Z"
   },
   {
    "duration": 4,
    "start_time": "2025-03-15T18:59:01.615Z"
   },
   {
    "duration": 13,
    "start_time": "2025-03-15T19:00:03.087Z"
   },
   {
    "duration": 6,
    "start_time": "2025-03-15T19:00:47.216Z"
   },
   {
    "duration": 13,
    "start_time": "2025-03-15T19:00:56.671Z"
   },
   {
    "duration": 6,
    "start_time": "2025-03-15T19:01:16.209Z"
   },
   {
    "duration": 11,
    "start_time": "2025-03-15T19:01:25.167Z"
   },
   {
    "duration": 10,
    "start_time": "2025-03-15T19:01:28.561Z"
   },
   {
    "duration": 6,
    "start_time": "2025-03-15T19:01:56.258Z"
   },
   {
    "duration": 97,
    "start_time": "2025-03-15T19:02:21.168Z"
   },
   {
    "duration": 6,
    "start_time": "2025-03-15T19:02:25.448Z"
   },
   {
    "duration": 9,
    "start_time": "2025-03-15T19:03:16.929Z"
   },
   {
    "duration": 6,
    "start_time": "2025-03-15T19:03:49.817Z"
   },
   {
    "duration": 6,
    "start_time": "2025-03-15T19:04:02.176Z"
   },
   {
    "duration": 5,
    "start_time": "2025-03-15T19:04:08.495Z"
   },
   {
    "duration": 4,
    "start_time": "2025-03-15T19:06:06.770Z"
   },
   {
    "duration": 81,
    "start_time": "2025-03-15T20:24:23.118Z"
   },
   {
    "duration": 5,
    "start_time": "2025-03-15T20:24:36.613Z"
   },
   {
    "duration": 13,
    "start_time": "2025-03-15T20:24:41.070Z"
   },
   {
    "duration": 36,
    "start_time": "2025-03-15T20:26:55.813Z"
   },
   {
    "duration": 49,
    "start_time": "2025-03-15T20:26:57.493Z"
   },
   {
    "duration": 13,
    "start_time": "2025-03-15T20:27:26.701Z"
   },
   {
    "duration": 61,
    "start_time": "2025-03-15T20:28:17.430Z"
   },
   {
    "duration": 60,
    "start_time": "2025-03-15T20:28:23.214Z"
   },
   {
    "duration": 6,
    "start_time": "2025-03-15T20:28:29.662Z"
   },
   {
    "duration": 1003,
    "start_time": "2025-03-15T20:28:41.908Z"
   },
   {
    "duration": 36,
    "start_time": "2025-03-15T20:28:42.913Z"
   },
   {
    "duration": 12,
    "start_time": "2025-03-15T20:28:42.951Z"
   },
   {
    "duration": 10,
    "start_time": "2025-03-15T20:28:42.966Z"
   },
   {
    "duration": 53,
    "start_time": "2025-03-15T20:28:42.977Z"
   },
   {
    "duration": 26,
    "start_time": "2025-03-15T20:28:43.032Z"
   },
   {
    "duration": 70,
    "start_time": "2025-03-15T20:28:43.060Z"
   },
   {
    "duration": 14,
    "start_time": "2025-03-15T20:28:43.131Z"
   },
   {
    "duration": 14,
    "start_time": "2025-03-15T20:28:43.147Z"
   },
   {
    "duration": 10,
    "start_time": "2025-03-15T20:28:43.164Z"
   },
   {
    "duration": 15,
    "start_time": "2025-03-15T20:28:43.175Z"
   },
   {
    "duration": 178,
    "start_time": "2025-03-15T20:28:43.192Z"
   },
   {
    "duration": 127,
    "start_time": "2025-03-15T20:28:43.371Z"
   },
   {
    "duration": 18,
    "start_time": "2025-03-15T20:28:43.499Z"
   },
   {
    "duration": 335,
    "start_time": "2025-03-15T20:28:43.518Z"
   },
   {
    "duration": 264,
    "start_time": "2025-03-15T20:28:43.857Z"
   },
   {
    "duration": 340,
    "start_time": "2025-03-15T20:28:44.123Z"
   },
   {
    "duration": 6,
    "start_time": "2025-03-15T20:28:44.464Z"
   },
   {
    "duration": 258,
    "start_time": "2025-03-15T20:28:44.471Z"
   },
   {
    "duration": 363,
    "start_time": "2025-03-15T20:28:44.731Z"
   },
   {
    "duration": 12,
    "start_time": "2025-03-15T20:28:45.096Z"
   },
   {
    "duration": 210,
    "start_time": "2025-03-15T20:28:45.109Z"
   },
   {
    "duration": 5,
    "start_time": "2025-03-15T20:28:45.320Z"
   },
   {
    "duration": 203,
    "start_time": "2025-03-15T20:28:45.326Z"
   },
   {
    "duration": 5,
    "start_time": "2025-03-15T20:28:45.530Z"
   },
   {
    "duration": 112,
    "start_time": "2025-03-15T20:28:45.536Z"
   },
   {
    "duration": 115,
    "start_time": "2025-03-15T20:28:45.650Z"
   },
   {
    "duration": 30,
    "start_time": "2025-03-15T20:28:45.768Z"
   },
   {
    "duration": 130,
    "start_time": "2025-03-15T20:28:45.799Z"
   },
   {
    "duration": 40,
    "start_time": "2025-03-15T20:28:45.931Z"
   },
   {
    "duration": 10,
    "start_time": "2025-03-15T20:28:45.973Z"
   },
   {
    "duration": 10,
    "start_time": "2025-03-15T20:28:45.984Z"
   },
   {
    "duration": 11,
    "start_time": "2025-03-15T20:28:45.995Z"
   },
   {
    "duration": 18,
    "start_time": "2025-03-15T20:28:46.007Z"
   },
   {
    "duration": 42,
    "start_time": "2025-03-15T20:28:46.027Z"
   },
   {
    "duration": 14,
    "start_time": "2025-03-15T20:28:46.070Z"
   },
   {
    "duration": 10,
    "start_time": "2025-03-15T20:33:08.462Z"
   },
   {
    "duration": 95,
    "start_time": "2025-03-15T20:33:48.956Z"
   },
   {
    "duration": 133,
    "start_time": "2025-03-15T20:34:07.155Z"
   },
   {
    "duration": 637,
    "start_time": "2025-03-15T20:34:13.052Z"
   },
   {
    "duration": 522,
    "start_time": "2025-03-15T20:34:46.283Z"
   },
   {
    "duration": 546,
    "start_time": "2025-03-15T20:35:55.026Z"
   },
   {
    "duration": 641,
    "start_time": "2025-03-15T20:36:04.403Z"
   },
   {
    "duration": 561,
    "start_time": "2025-03-15T20:36:45.546Z"
   },
   {
    "duration": 22,
    "start_time": "2025-03-15T20:38:36.768Z"
   },
   {
    "duration": 580,
    "start_time": "2025-03-15T20:39:06.473Z"
   },
   {
    "duration": 49,
    "start_time": "2025-03-15T20:42:32.482Z"
   },
   {
    "duration": 1112,
    "start_time": "2025-03-15T20:43:00.152Z"
   },
   {
    "duration": 26,
    "start_time": "2025-03-15T20:43:01.266Z"
   },
   {
    "duration": 20,
    "start_time": "2025-03-15T20:43:01.294Z"
   },
   {
    "duration": 16,
    "start_time": "2025-03-15T20:43:01.316Z"
   },
   {
    "duration": 115,
    "start_time": "2025-03-15T20:43:01.333Z"
   },
   {
    "duration": 0,
    "start_time": "2025-03-15T20:43:01.450Z"
   },
   {
    "duration": 0,
    "start_time": "2025-03-15T20:43:01.451Z"
   },
   {
    "duration": 0,
    "start_time": "2025-03-15T20:43:01.451Z"
   },
   {
    "duration": 0,
    "start_time": "2025-03-15T20:43:01.457Z"
   },
   {
    "duration": 0,
    "start_time": "2025-03-15T20:43:01.458Z"
   },
   {
    "duration": 0,
    "start_time": "2025-03-15T20:43:01.458Z"
   },
   {
    "duration": 1,
    "start_time": "2025-03-15T20:43:01.459Z"
   },
   {
    "duration": 0,
    "start_time": "2025-03-15T20:43:01.461Z"
   },
   {
    "duration": 0,
    "start_time": "2025-03-15T20:43:01.462Z"
   },
   {
    "duration": 0,
    "start_time": "2025-03-15T20:43:01.463Z"
   },
   {
    "duration": 0,
    "start_time": "2025-03-15T20:43:01.464Z"
   },
   {
    "duration": 0,
    "start_time": "2025-03-15T20:43:01.465Z"
   },
   {
    "duration": 0,
    "start_time": "2025-03-15T20:43:01.466Z"
   },
   {
    "duration": 0,
    "start_time": "2025-03-15T20:43:01.467Z"
   },
   {
    "duration": 0,
    "start_time": "2025-03-15T20:43:01.467Z"
   },
   {
    "duration": 0,
    "start_time": "2025-03-15T20:43:01.468Z"
   },
   {
    "duration": 1,
    "start_time": "2025-03-15T20:43:01.469Z"
   },
   {
    "duration": 0,
    "start_time": "2025-03-15T20:43:01.470Z"
   },
   {
    "duration": 0,
    "start_time": "2025-03-15T20:43:01.472Z"
   },
   {
    "duration": 0,
    "start_time": "2025-03-15T20:43:01.472Z"
   },
   {
    "duration": 0,
    "start_time": "2025-03-15T20:43:01.473Z"
   },
   {
    "duration": 0,
    "start_time": "2025-03-15T20:43:01.475Z"
   },
   {
    "duration": 0,
    "start_time": "2025-03-15T20:43:01.476Z"
   },
   {
    "duration": 0,
    "start_time": "2025-03-15T20:43:01.477Z"
   },
   {
    "duration": 0,
    "start_time": "2025-03-15T20:43:01.478Z"
   },
   {
    "duration": 0,
    "start_time": "2025-03-15T20:43:01.479Z"
   },
   {
    "duration": 0,
    "start_time": "2025-03-15T20:43:01.480Z"
   },
   {
    "duration": 0,
    "start_time": "2025-03-15T20:43:01.481Z"
   },
   {
    "duration": 0,
    "start_time": "2025-03-15T20:43:01.482Z"
   },
   {
    "duration": 0,
    "start_time": "2025-03-15T20:43:01.483Z"
   },
   {
    "duration": 0,
    "start_time": "2025-03-15T20:43:01.484Z"
   },
   {
    "duration": 0,
    "start_time": "2025-03-15T20:43:01.485Z"
   },
   {
    "duration": 0,
    "start_time": "2025-03-15T20:43:01.486Z"
   },
   {
    "duration": 0,
    "start_time": "2025-03-15T20:43:01.487Z"
   },
   {
    "duration": 1065,
    "start_time": "2025-03-15T20:43:31.394Z"
   },
   {
    "duration": 25,
    "start_time": "2025-03-15T20:43:32.461Z"
   },
   {
    "duration": 12,
    "start_time": "2025-03-15T20:43:32.488Z"
   },
   {
    "duration": 30,
    "start_time": "2025-03-15T20:43:32.502Z"
   },
   {
    "duration": 64,
    "start_time": "2025-03-15T20:43:32.534Z"
   },
   {
    "duration": 26,
    "start_time": "2025-03-15T20:43:32.599Z"
   },
   {
    "duration": 5,
    "start_time": "2025-03-15T20:43:32.627Z"
   },
   {
    "duration": 8,
    "start_time": "2025-03-15T20:43:32.633Z"
   },
   {
    "duration": 22,
    "start_time": "2025-03-15T20:43:32.642Z"
   },
   {
    "duration": 525,
    "start_time": "2025-03-15T20:43:32.668Z"
   },
   {
    "duration": 9,
    "start_time": "2025-03-15T20:43:33.194Z"
   },
   {
    "duration": 30,
    "start_time": "2025-03-15T20:43:33.204Z"
   },
   {
    "duration": 12,
    "start_time": "2025-03-15T20:43:33.236Z"
   },
   {
    "duration": 175,
    "start_time": "2025-03-15T20:43:33.257Z"
   },
   {
    "duration": 123,
    "start_time": "2025-03-15T20:43:33.434Z"
   },
   {
    "duration": 13,
    "start_time": "2025-03-15T20:43:33.559Z"
   },
   {
    "duration": 319,
    "start_time": "2025-03-15T20:43:33.573Z"
   },
   {
    "duration": 244,
    "start_time": "2025-03-15T20:43:33.894Z"
   },
   {
    "duration": 335,
    "start_time": "2025-03-15T20:43:34.140Z"
   },
   {
    "duration": 5,
    "start_time": "2025-03-15T20:43:34.477Z"
   },
   {
    "duration": 278,
    "start_time": "2025-03-15T20:43:34.483Z"
   },
   {
    "duration": 431,
    "start_time": "2025-03-15T20:43:34.763Z"
   },
   {
    "duration": 11,
    "start_time": "2025-03-15T20:43:35.196Z"
   },
   {
    "duration": 176,
    "start_time": "2025-03-15T20:43:35.209Z"
   },
   {
    "duration": 4,
    "start_time": "2025-03-15T20:43:35.387Z"
   },
   {
    "duration": 214,
    "start_time": "2025-03-15T20:43:35.393Z"
   },
   {
    "duration": 4,
    "start_time": "2025-03-15T20:43:35.609Z"
   },
   {
    "duration": 103,
    "start_time": "2025-03-15T20:43:35.616Z"
   },
   {
    "duration": 104,
    "start_time": "2025-03-15T20:43:35.721Z"
   },
   {
    "duration": 41,
    "start_time": "2025-03-15T20:43:35.827Z"
   },
   {
    "duration": 122,
    "start_time": "2025-03-15T20:43:35.869Z"
   },
   {
    "duration": 28,
    "start_time": "2025-03-15T20:43:35.992Z"
   },
   {
    "duration": 9,
    "start_time": "2025-03-15T20:43:36.021Z"
   },
   {
    "duration": 27,
    "start_time": "2025-03-15T20:43:36.031Z"
   },
   {
    "duration": 10,
    "start_time": "2025-03-15T20:43:36.060Z"
   },
   {
    "duration": 59,
    "start_time": "2025-03-15T20:43:36.071Z"
   },
   {
    "duration": 37,
    "start_time": "2025-03-15T20:43:36.132Z"
   },
   {
    "duration": 14,
    "start_time": "2025-03-15T20:43:36.170Z"
   },
   {
    "duration": 12,
    "start_time": "2025-03-15T20:51:01.298Z"
   },
   {
    "duration": 4,
    "start_time": "2025-03-15T20:52:06.203Z"
   },
   {
    "duration": 88,
    "start_time": "2025-03-15T20:53:46.497Z"
   },
   {
    "duration": 4,
    "start_time": "2025-03-15T20:55:35.258Z"
   },
   {
    "duration": 6,
    "start_time": "2025-03-15T20:55:39.394Z"
   },
   {
    "duration": 8,
    "start_time": "2025-03-15T20:55:48.906Z"
   },
   {
    "duration": 13,
    "start_time": "2025-03-15T20:57:56.727Z"
   },
   {
    "duration": 96,
    "start_time": "2025-03-15T20:58:49.727Z"
   },
   {
    "duration": 155,
    "start_time": "2025-03-15T20:59:03.426Z"
   },
   {
    "duration": 152,
    "start_time": "2025-03-15T21:02:13.942Z"
   },
   {
    "duration": 162,
    "start_time": "2025-03-15T21:02:23.197Z"
   },
   {
    "duration": 143,
    "start_time": "2025-03-15T21:02:39.841Z"
   },
   {
    "duration": 140,
    "start_time": "2025-03-15T21:02:47.486Z"
   },
   {
    "duration": 1142,
    "start_time": "2025-03-15T21:05:43.041Z"
   },
   {
    "duration": 36,
    "start_time": "2025-03-15T21:05:44.185Z"
   },
   {
    "duration": 12,
    "start_time": "2025-03-15T21:05:44.223Z"
   },
   {
    "duration": 11,
    "start_time": "2025-03-15T21:05:44.237Z"
   },
   {
    "duration": 54,
    "start_time": "2025-03-15T21:05:44.249Z"
   },
   {
    "duration": 26,
    "start_time": "2025-03-15T21:05:44.305Z"
   },
   {
    "duration": 6,
    "start_time": "2025-03-15T21:05:44.332Z"
   },
   {
    "duration": 29,
    "start_time": "2025-03-15T21:05:44.339Z"
   },
   {
    "duration": 17,
    "start_time": "2025-03-15T21:05:44.370Z"
   },
   {
    "duration": 530,
    "start_time": "2025-03-15T21:05:44.390Z"
   },
   {
    "duration": 13,
    "start_time": "2025-03-15T21:05:44.922Z"
   },
   {
    "duration": 165,
    "start_time": "2025-03-15T21:05:44.936Z"
   },
   {
    "duration": 7,
    "start_time": "2025-03-15T21:05:45.103Z"
   },
   {
    "duration": 39,
    "start_time": "2025-03-15T21:05:45.111Z"
   },
   {
    "duration": 190,
    "start_time": "2025-03-15T21:05:45.152Z"
   },
   {
    "duration": 125,
    "start_time": "2025-03-15T21:05:45.344Z"
   },
   {
    "duration": 62,
    "start_time": "2025-03-15T21:05:45.471Z"
   },
   {
    "duration": 303,
    "start_time": "2025-03-15T21:05:45.535Z"
   },
   {
    "duration": 245,
    "start_time": "2025-03-15T21:05:45.839Z"
   },
   {
    "duration": 320,
    "start_time": "2025-03-15T21:05:46.086Z"
   },
   {
    "duration": 5,
    "start_time": "2025-03-15T21:05:46.408Z"
   },
   {
    "duration": 339,
    "start_time": "2025-03-15T21:05:46.414Z"
   },
   {
    "duration": 365,
    "start_time": "2025-03-15T21:05:46.755Z"
   },
   {
    "duration": 12,
    "start_time": "2025-03-15T21:05:47.121Z"
   },
   {
    "duration": 185,
    "start_time": "2025-03-15T21:05:47.135Z"
   },
   {
    "duration": 3,
    "start_time": "2025-03-15T21:05:47.322Z"
   },
   {
    "duration": 195,
    "start_time": "2025-03-15T21:05:47.327Z"
   },
   {
    "duration": 4,
    "start_time": "2025-03-15T21:05:47.527Z"
   },
   {
    "duration": 122,
    "start_time": "2025-03-15T21:05:47.532Z"
   },
   {
    "duration": 104,
    "start_time": "2025-03-15T21:05:47.656Z"
   },
   {
    "duration": 27,
    "start_time": "2025-03-15T21:05:47.762Z"
   },
   {
    "duration": 141,
    "start_time": "2025-03-15T21:05:47.791Z"
   },
   {
    "duration": 36,
    "start_time": "2025-03-15T21:05:47.934Z"
   },
   {
    "duration": 8,
    "start_time": "2025-03-15T21:05:47.972Z"
   },
   {
    "duration": 31,
    "start_time": "2025-03-15T21:05:47.982Z"
   },
   {
    "duration": 9,
    "start_time": "2025-03-15T21:05:48.014Z"
   },
   {
    "duration": 13,
    "start_time": "2025-03-15T21:05:48.025Z"
   },
   {
    "duration": 33,
    "start_time": "2025-03-15T21:05:48.040Z"
   },
   {
    "duration": 12,
    "start_time": "2025-03-15T21:05:48.075Z"
   },
   {
    "duration": 5,
    "start_time": "2025-03-15T21:15:45.802Z"
   },
   {
    "duration": 5,
    "start_time": "2025-03-15T21:16:08.330Z"
   },
   {
    "duration": 5,
    "start_time": "2025-03-15T21:16:12.290Z"
   },
   {
    "duration": 5,
    "start_time": "2025-03-15T21:16:22.066Z"
   },
   {
    "duration": 4,
    "start_time": "2025-03-15T21:16:34.891Z"
   },
   {
    "duration": 4,
    "start_time": "2025-03-15T21:16:39.490Z"
   },
   {
    "duration": 5,
    "start_time": "2025-03-15T21:19:19.810Z"
   },
   {
    "duration": 5,
    "start_time": "2025-03-15T21:19:25.081Z"
   },
   {
    "duration": 5,
    "start_time": "2025-03-15T21:20:49.171Z"
   },
   {
    "duration": 10,
    "start_time": "2025-03-15T21:24:24.680Z"
   },
   {
    "duration": 1049,
    "start_time": "2025-03-15T21:26:21.104Z"
   },
   {
    "duration": 25,
    "start_time": "2025-03-15T21:26:22.154Z"
   },
   {
    "duration": 11,
    "start_time": "2025-03-15T21:26:22.180Z"
   },
   {
    "duration": 11,
    "start_time": "2025-03-15T21:26:22.194Z"
   },
   {
    "duration": 67,
    "start_time": "2025-03-15T21:26:22.207Z"
   },
   {
    "duration": 26,
    "start_time": "2025-03-15T21:26:22.275Z"
   },
   {
    "duration": 6,
    "start_time": "2025-03-15T21:26:22.302Z"
   },
   {
    "duration": 31,
    "start_time": "2025-03-15T21:26:22.309Z"
   },
   {
    "duration": 10,
    "start_time": "2025-03-15T21:26:22.341Z"
   },
   {
    "duration": 527,
    "start_time": "2025-03-15T21:26:22.353Z"
   },
   {
    "duration": 13,
    "start_time": "2025-03-15T21:26:22.881Z"
   },
   {
    "duration": 151,
    "start_time": "2025-03-15T21:26:22.896Z"
   },
   {
    "duration": 12,
    "start_time": "2025-03-15T21:26:23.048Z"
   },
   {
    "duration": 14,
    "start_time": "2025-03-15T21:26:23.061Z"
   },
   {
    "duration": 182,
    "start_time": "2025-03-15T21:26:23.076Z"
   },
   {
    "duration": 130,
    "start_time": "2025-03-15T21:26:23.260Z"
   },
   {
    "duration": 14,
    "start_time": "2025-03-15T21:26:23.392Z"
   },
   {
    "duration": 326,
    "start_time": "2025-03-15T21:26:23.408Z"
   },
   {
    "duration": 246,
    "start_time": "2025-03-15T21:26:23.735Z"
   },
   {
    "duration": 307,
    "start_time": "2025-03-15T21:26:23.982Z"
   },
   {
    "duration": 5,
    "start_time": "2025-03-15T21:26:24.291Z"
   },
   {
    "duration": 351,
    "start_time": "2025-03-15T21:26:24.298Z"
   },
   {
    "duration": 346,
    "start_time": "2025-03-15T21:26:24.651Z"
   },
   {
    "duration": 12,
    "start_time": "2025-03-15T21:26:24.998Z"
   },
   {
    "duration": 176,
    "start_time": "2025-03-15T21:26:25.011Z"
   },
   {
    "duration": 5,
    "start_time": "2025-03-15T21:26:25.188Z"
   },
   {
    "duration": 5,
    "start_time": "2025-03-15T21:26:25.194Z"
   },
   {
    "duration": 210,
    "start_time": "2025-03-15T21:26:25.202Z"
   },
   {
    "duration": 4,
    "start_time": "2025-03-15T21:26:25.413Z"
   },
   {
    "duration": 15,
    "start_time": "2025-03-15T21:26:25.419Z"
   },
   {
    "duration": 100,
    "start_time": "2025-03-15T21:26:25.435Z"
   },
   {
    "duration": 141,
    "start_time": "2025-03-15T21:26:25.537Z"
   },
   {
    "duration": 27,
    "start_time": "2025-03-15T21:26:25.680Z"
   },
   {
    "duration": 133,
    "start_time": "2025-03-15T21:26:25.709Z"
   },
   {
    "duration": 39,
    "start_time": "2025-03-15T21:26:25.844Z"
   },
   {
    "duration": 11,
    "start_time": "2025-03-15T21:26:25.885Z"
   },
   {
    "duration": 54,
    "start_time": "2025-03-15T21:26:25.898Z"
   },
   {
    "duration": 8,
    "start_time": "2025-03-15T21:26:25.954Z"
   },
   {
    "duration": 31,
    "start_time": "2025-03-15T21:26:25.964Z"
   },
   {
    "duration": 14,
    "start_time": "2025-03-15T21:26:25.997Z"
   },
   {
    "duration": 1079,
    "start_time": "2025-03-15T21:33:38.473Z"
   },
   {
    "duration": 23,
    "start_time": "2025-03-15T21:33:39.554Z"
   },
   {
    "duration": 11,
    "start_time": "2025-03-15T21:33:39.579Z"
   },
   {
    "duration": 14,
    "start_time": "2025-03-15T21:33:39.592Z"
   },
   {
    "duration": 60,
    "start_time": "2025-03-15T21:33:39.607Z"
   },
   {
    "duration": 24,
    "start_time": "2025-03-15T21:33:39.669Z"
   },
   {
    "duration": 5,
    "start_time": "2025-03-15T21:33:39.694Z"
   },
   {
    "duration": 6,
    "start_time": "2025-03-15T21:33:39.701Z"
   },
   {
    "duration": 12,
    "start_time": "2025-03-15T21:33:39.709Z"
   },
   {
    "duration": 535,
    "start_time": "2025-03-15T21:33:39.723Z"
   },
   {
    "duration": 12,
    "start_time": "2025-03-15T21:33:40.260Z"
   },
   {
    "duration": 152,
    "start_time": "2025-03-15T21:33:40.274Z"
   },
   {
    "duration": 6,
    "start_time": "2025-03-15T21:33:40.427Z"
   },
   {
    "duration": 23,
    "start_time": "2025-03-15T21:33:40.435Z"
   },
   {
    "duration": 159,
    "start_time": "2025-03-15T21:33:40.459Z"
   },
   {
    "duration": 122,
    "start_time": "2025-03-15T21:33:40.619Z"
   },
   {
    "duration": 26,
    "start_time": "2025-03-15T21:33:40.743Z"
   },
   {
    "duration": 308,
    "start_time": "2025-03-15T21:33:40.770Z"
   },
   {
    "duration": 240,
    "start_time": "2025-03-15T21:33:41.080Z"
   },
   {
    "duration": 349,
    "start_time": "2025-03-15T21:33:41.321Z"
   },
   {
    "duration": 5,
    "start_time": "2025-03-15T21:33:41.672Z"
   },
   {
    "duration": 343,
    "start_time": "2025-03-15T21:33:41.678Z"
   },
   {
    "duration": 327,
    "start_time": "2025-03-15T21:33:42.023Z"
   },
   {
    "duration": 14,
    "start_time": "2025-03-15T21:33:42.351Z"
   },
   {
    "duration": 176,
    "start_time": "2025-03-15T21:33:42.367Z"
   },
   {
    "duration": 12,
    "start_time": "2025-03-15T21:33:42.544Z"
   },
   {
    "duration": 11,
    "start_time": "2025-03-15T21:33:42.558Z"
   },
   {
    "duration": 197,
    "start_time": "2025-03-15T21:33:42.572Z"
   },
   {
    "duration": 4,
    "start_time": "2025-03-15T21:33:42.771Z"
   },
   {
    "duration": 6,
    "start_time": "2025-03-15T21:33:42.776Z"
   },
   {
    "duration": 124,
    "start_time": "2025-03-15T21:33:42.783Z"
   },
   {
    "duration": 108,
    "start_time": "2025-03-15T21:33:42.908Z"
   },
   {
    "duration": 39,
    "start_time": "2025-03-15T21:33:43.018Z"
   },
   {
    "duration": 122,
    "start_time": "2025-03-15T21:33:43.058Z"
   },
   {
    "duration": 33,
    "start_time": "2025-03-15T21:33:43.181Z"
   },
   {
    "duration": 11,
    "start_time": "2025-03-15T21:33:43.216Z"
   },
   {
    "duration": 38,
    "start_time": "2025-03-15T21:33:43.229Z"
   },
   {
    "duration": 10,
    "start_time": "2025-03-15T21:33:43.269Z"
   },
   {
    "duration": 24,
    "start_time": "2025-03-15T21:33:43.280Z"
   },
   {
    "duration": 13,
    "start_time": "2025-03-15T21:33:43.305Z"
   },
   {
    "duration": 1037,
    "start_time": "2025-03-15T21:34:49.614Z"
   },
   {
    "duration": 25,
    "start_time": "2025-03-15T21:34:50.653Z"
   },
   {
    "duration": 11,
    "start_time": "2025-03-15T21:34:50.679Z"
   },
   {
    "duration": 11,
    "start_time": "2025-03-15T21:34:50.691Z"
   },
   {
    "duration": 65,
    "start_time": "2025-03-15T21:34:50.704Z"
   },
   {
    "duration": 26,
    "start_time": "2025-03-15T21:34:50.771Z"
   },
   {
    "duration": 5,
    "start_time": "2025-03-15T21:34:50.799Z"
   },
   {
    "duration": 34,
    "start_time": "2025-03-15T21:34:50.805Z"
   },
   {
    "duration": 32,
    "start_time": "2025-03-15T21:34:50.840Z"
   },
   {
    "duration": 529,
    "start_time": "2025-03-15T21:34:50.873Z"
   },
   {
    "duration": 20,
    "start_time": "2025-03-15T21:34:51.404Z"
   },
   {
    "duration": 158,
    "start_time": "2025-03-15T21:34:51.425Z"
   },
   {
    "duration": 7,
    "start_time": "2025-03-15T21:34:51.585Z"
   },
   {
    "duration": 33,
    "start_time": "2025-03-15T21:34:51.594Z"
   },
   {
    "duration": 178,
    "start_time": "2025-03-15T21:34:51.629Z"
   },
   {
    "duration": 123,
    "start_time": "2025-03-15T21:34:51.808Z"
   },
   {
    "duration": 48,
    "start_time": "2025-03-15T21:34:51.933Z"
   },
   {
    "duration": 308,
    "start_time": "2025-03-15T21:34:51.983Z"
   },
   {
    "duration": 254,
    "start_time": "2025-03-15T21:34:52.293Z"
   },
   {
    "duration": 326,
    "start_time": "2025-03-15T21:34:52.557Z"
   },
   {
    "duration": 5,
    "start_time": "2025-03-15T21:34:52.884Z"
   },
   {
    "duration": 378,
    "start_time": "2025-03-15T21:34:52.891Z"
   },
   {
    "duration": 326,
    "start_time": "2025-03-15T21:34:53.272Z"
   },
   {
    "duration": 12,
    "start_time": "2025-03-15T21:34:53.600Z"
   },
   {
    "duration": 177,
    "start_time": "2025-03-15T21:34:53.613Z"
   },
   {
    "duration": 4,
    "start_time": "2025-03-15T21:34:53.791Z"
   },
   {
    "duration": 29,
    "start_time": "2025-03-15T21:34:53.796Z"
   },
   {
    "duration": 208,
    "start_time": "2025-03-15T21:34:53.827Z"
   },
   {
    "duration": 4,
    "start_time": "2025-03-15T21:34:54.036Z"
   },
   {
    "duration": 19,
    "start_time": "2025-03-15T21:34:54.041Z"
   },
   {
    "duration": 103,
    "start_time": "2025-03-15T21:34:54.061Z"
   },
   {
    "duration": 106,
    "start_time": "2025-03-15T21:34:54.165Z"
   },
   {
    "duration": 26,
    "start_time": "2025-03-15T21:34:54.273Z"
   },
   {
    "duration": 142,
    "start_time": "2025-03-15T21:34:54.301Z"
   },
   {
    "duration": 27,
    "start_time": "2025-03-15T21:34:54.457Z"
   },
   {
    "duration": 9,
    "start_time": "2025-03-15T21:34:54.485Z"
   },
   {
    "duration": 24,
    "start_time": "2025-03-15T21:34:54.496Z"
   },
   {
    "duration": 11,
    "start_time": "2025-03-15T21:34:54.521Z"
   },
   {
    "duration": 31,
    "start_time": "2025-03-15T21:34:54.534Z"
   },
   {
    "duration": 14,
    "start_time": "2025-03-15T21:34:54.566Z"
   },
   {
    "duration": 1281,
    "start_time": "2025-03-16T09:08:36.561Z"
   },
   {
    "duration": 35,
    "start_time": "2025-03-16T09:08:37.844Z"
   },
   {
    "duration": 11,
    "start_time": "2025-03-16T09:08:37.881Z"
   },
   {
    "duration": 13,
    "start_time": "2025-03-16T09:08:37.893Z"
   },
   {
    "duration": 50,
    "start_time": "2025-03-16T09:08:37.907Z"
   },
   {
    "duration": 25,
    "start_time": "2025-03-16T09:08:37.958Z"
   },
   {
    "duration": 5,
    "start_time": "2025-03-16T09:08:37.985Z"
   },
   {
    "duration": 9,
    "start_time": "2025-03-16T09:08:37.991Z"
   },
   {
    "duration": 6,
    "start_time": "2025-03-16T09:08:38.001Z"
   },
   {
    "duration": 520,
    "start_time": "2025-03-16T09:08:38.010Z"
   },
   {
    "duration": 15,
    "start_time": "2025-03-16T09:08:38.532Z"
   },
   {
    "duration": 164,
    "start_time": "2025-03-16T09:08:38.548Z"
   },
   {
    "duration": 7,
    "start_time": "2025-03-16T09:08:38.714Z"
   },
   {
    "duration": 14,
    "start_time": "2025-03-16T09:08:38.730Z"
   },
   {
    "duration": 180,
    "start_time": "2025-03-16T09:08:38.746Z"
   },
   {
    "duration": 128,
    "start_time": "2025-03-16T09:08:38.929Z"
   },
   {
    "duration": 13,
    "start_time": "2025-03-16T09:08:39.059Z"
   },
   {
    "duration": 316,
    "start_time": "2025-03-16T09:08:39.074Z"
   },
   {
    "duration": 243,
    "start_time": "2025-03-16T09:08:39.392Z"
   },
   {
    "duration": 359,
    "start_time": "2025-03-16T09:08:39.638Z"
   },
   {
    "duration": 6,
    "start_time": "2025-03-16T09:08:39.999Z"
   },
   {
    "duration": 351,
    "start_time": "2025-03-16T09:08:40.007Z"
   },
   {
    "duration": 312,
    "start_time": "2025-03-16T09:08:40.360Z"
   },
   {
    "duration": 12,
    "start_time": "2025-03-16T09:08:40.674Z"
   },
   {
    "duration": 173,
    "start_time": "2025-03-16T09:08:40.688Z"
   },
   {
    "duration": 5,
    "start_time": "2025-03-16T09:08:40.863Z"
   },
   {
    "duration": 6,
    "start_time": "2025-03-16T09:08:40.869Z"
   },
   {
    "duration": 202,
    "start_time": "2025-03-16T09:08:40.878Z"
   },
   {
    "duration": 5,
    "start_time": "2025-03-16T09:08:41.082Z"
   },
   {
    "duration": 55,
    "start_time": "2025-03-16T09:08:41.088Z"
   },
   {
    "duration": 98,
    "start_time": "2025-03-16T09:08:41.144Z"
   },
   {
    "duration": 105,
    "start_time": "2025-03-16T09:08:41.243Z"
   },
   {
    "duration": 45,
    "start_time": "2025-03-16T09:08:41.349Z"
   },
   {
    "duration": 152,
    "start_time": "2025-03-16T09:08:41.396Z"
   },
   {
    "duration": 27,
    "start_time": "2025-03-16T09:08:41.550Z"
   },
   {
    "duration": 9,
    "start_time": "2025-03-16T09:08:41.579Z"
   },
   {
    "duration": 10,
    "start_time": "2025-03-16T09:08:41.590Z"
   },
   {
    "duration": 33,
    "start_time": "2025-03-16T09:08:41.601Z"
   },
   {
    "duration": 25,
    "start_time": "2025-03-16T09:08:41.636Z"
   },
   {
    "duration": 13,
    "start_time": "2025-03-16T09:08:41.663Z"
   },
   {
    "duration": 1283,
    "start_time": "2025-03-16T11:52:05.965Z"
   },
   {
    "duration": 36,
    "start_time": "2025-03-16T11:52:07.249Z"
   },
   {
    "duration": 13,
    "start_time": "2025-03-16T11:52:07.286Z"
   },
   {
    "duration": 26,
    "start_time": "2025-03-16T11:52:07.301Z"
   },
   {
    "duration": 55,
    "start_time": "2025-03-16T11:52:07.329Z"
   },
   {
    "duration": 26,
    "start_time": "2025-03-16T11:52:07.386Z"
   },
   {
    "duration": 5,
    "start_time": "2025-03-16T11:52:07.414Z"
   },
   {
    "duration": 4,
    "start_time": "2025-03-16T11:52:07.421Z"
   },
   {
    "duration": 6,
    "start_time": "2025-03-16T11:52:07.426Z"
   },
   {
    "duration": 610,
    "start_time": "2025-03-16T11:52:07.434Z"
   },
   {
    "duration": 13,
    "start_time": "2025-03-16T11:52:08.046Z"
   },
   {
    "duration": 157,
    "start_time": "2025-03-16T11:52:08.061Z"
   },
   {
    "duration": 14,
    "start_time": "2025-03-16T11:52:08.220Z"
   },
   {
    "duration": 12,
    "start_time": "2025-03-16T11:52:08.235Z"
   },
   {
    "duration": 170,
    "start_time": "2025-03-16T11:52:08.249Z"
   },
   {
    "duration": 122,
    "start_time": "2025-03-16T11:52:08.421Z"
   },
   {
    "duration": 13,
    "start_time": "2025-03-16T11:52:08.545Z"
   },
   {
    "duration": 320,
    "start_time": "2025-03-16T11:52:08.560Z"
   },
   {
    "duration": 254,
    "start_time": "2025-03-16T11:52:08.882Z"
   },
   {
    "duration": 370,
    "start_time": "2025-03-16T11:52:09.137Z"
   },
   {
    "duration": 5,
    "start_time": "2025-03-16T11:52:09.508Z"
   },
   {
    "duration": 331,
    "start_time": "2025-03-16T11:52:09.515Z"
   },
   {
    "duration": 340,
    "start_time": "2025-03-16T11:52:09.848Z"
   },
   {
    "duration": 12,
    "start_time": "2025-03-16T11:52:10.189Z"
   },
   {
    "duration": 179,
    "start_time": "2025-03-16T11:52:10.203Z"
   },
   {
    "duration": 4,
    "start_time": "2025-03-16T11:52:10.384Z"
   },
   {
    "duration": 46,
    "start_time": "2025-03-16T11:52:10.390Z"
   },
   {
    "duration": 193,
    "start_time": "2025-03-16T11:52:10.439Z"
   },
   {
    "duration": 5,
    "start_time": "2025-03-16T11:52:10.633Z"
   },
   {
    "duration": 9,
    "start_time": "2025-03-16T11:52:10.639Z"
   },
   {
    "duration": 106,
    "start_time": "2025-03-16T11:52:10.649Z"
   },
   {
    "duration": 107,
    "start_time": "2025-03-16T11:52:10.757Z"
   },
   {
    "duration": 26,
    "start_time": "2025-03-16T11:52:10.865Z"
   },
   {
    "duration": 154,
    "start_time": "2025-03-16T11:52:10.893Z"
   },
   {
    "duration": 28,
    "start_time": "2025-03-16T11:52:11.049Z"
   },
   {
    "duration": 10,
    "start_time": "2025-03-16T11:52:11.079Z"
   },
   {
    "duration": 10,
    "start_time": "2025-03-16T11:52:11.090Z"
   },
   {
    "duration": 33,
    "start_time": "2025-03-16T11:52:11.101Z"
   },
   {
    "duration": 25,
    "start_time": "2025-03-16T11:52:11.136Z"
   },
   {
    "duration": 13,
    "start_time": "2025-03-16T11:52:11.163Z"
   }
  ],
  "kernelspec": {
   "display_name": "Python 3 (ipykernel)",
   "language": "python",
   "name": "python3"
  },
  "language_info": {
   "codemirror_mode": {
    "name": "ipython",
    "version": 3
   },
   "file_extension": ".py",
   "mimetype": "text/x-python",
   "name": "python",
   "nbconvert_exporter": "python",
   "pygments_lexer": "ipython3",
   "version": "3.12.4"
  },
  "toc": {
   "base_numbering": 1,
   "nav_menu": {},
   "number_sections": true,
   "sideBar": true,
   "skip_h1_title": true,
   "title_cell": "Table of Contents",
   "title_sidebar": "Contents",
   "toc_cell": false,
   "toc_position": {},
   "toc_section_display": true,
   "toc_window_display": false
  }
 },
 "nbformat": 4,
 "nbformat_minor": 4
}
